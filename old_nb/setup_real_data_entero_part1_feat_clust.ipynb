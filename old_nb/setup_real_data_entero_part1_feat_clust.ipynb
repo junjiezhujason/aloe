{
 "cells": [
  {
   "cell_type": "code",
   "execution_count": 1,
   "metadata": {},
   "outputs": [],
   "source": [
    "%load_ext autoreload\n",
    "%autoreload 2\n",
    "%matplotlib inline\n",
    "from IPython.display import display\n",
    "import sys\n",
    "import os\n",
    "import logging\n",
    "\n",
    "import numpy as np\n",
    "import pandas as pd\n",
    "import seaborn as sns\n",
    "import matplotlib.pyplot as plt\n",
    "\n",
    "logger = logging.getLogger(\"feat_viz\")\n",
    "logging.basicConfig(format='[%(name)s %(levelname)s] %(message)s', level=logging.INFO)\n",
    "sys.path.insert(0,'../src')\n",
    "import matplotlib as mpl\n",
    "mpl.rcParams['figure.dpi']= 100"
   ]
  },
  {
   "cell_type": "markdown",
   "metadata": {},
   "source": [
    "### Load the ground-truth and evaluate the methods"
   ]
  },
  {
   "cell_type": "code",
   "execution_count": 2,
   "metadata": {},
   "outputs": [
    {
     "name": "stderr",
     "output_type": "stream",
     "text": [
      "[feat_viz INFO] {'Crypt': 0, 'V1': 1, 'V2': 2, 'V3': 3, 'V4': 4, 'V5': 5, 'V6': 6}\n"
     ]
    }
   ],
   "source": [
    "from intestine_info import load_processed_enterocyte_data, load_original_entero_zonation\n",
    "from intestine_info import get_intestine_rna_lm_genes\n",
    "from io_utils import load_all_pipeline_results, load_single_result\n",
    "from io_utils import save_data_to_file\n",
    "from plot_utils import plot_corr_mtx\n",
    "from scrna_utils import get_gene_df\n",
    "from general_utils import rank_and_bin\n",
    "\n",
    "res_dir = \"/share/PI/sabatti/feat_viz/real_analysis_result/analysis_060719\"\n",
    "zone_vals = load_original_entero_zonation(just_vals=True)\n",
    "obs_df, var_df, mtx = load_processed_enterocyte_data(res_dir)\n",
    "RDIR = os.path.join(res_dir, \"entero_data\", \"results_our_lm\")\n",
    "method = 'graph'\n",
    "mtype = 'vanilla'\n",
    "ddir = os.path.join(res_dir, 'entero_data', 'results_our_lm', '{}_{}'.format(method, mtype))\n",
    "os.makedirs(ddir, exist_ok=True)"
   ]
  },
  {
   "cell_type": "code",
   "execution_count": 3,
   "metadata": {},
   "outputs": [
    {
     "name": "stdout",
     "output_type": "stream",
     "text": [
      "Number of rejections: 7274 (75.33%)\n"
     ]
    }
   ],
   "source": [
    "result = load_single_result(RDIR, method, mtype)\n",
    "n_rej = len(result['rejections'])\n",
    "n_genes = len(result['p_vals'])\n",
    "print('Number of rejections: {} ({:.2f}%)'.format(n_rej, n_rej / n_genes * 100))"
   ]
  },
  {
   "cell_type": "markdown",
   "metadata": {},
   "source": [
    "# Fit the curve on all genes"
   ]
  },
  {
   "cell_type": "code",
   "execution_count": 4,
   "metadata": {},
   "outputs": [
    {
     "name": "stdout",
     "output_type": "stream",
     "text": [
      "cr(x, knots=(-0.059, -0.05, -0.041, -0.032, -0.023, -0.014, -0.005, 0.004, 0.013, 0.022))\n",
      "Fitted 1000 parameters\n",
      "Fitted 2000 parameters\n",
      "Fitted 3000 parameters\n",
      "Fitted 4000 parameters\n",
      "Fitted 5000 parameters\n",
      "Fitted 6000 parameters\n",
      "Fitted 7000 parameters\n",
      "Fitted 8000 parameters\n",
      "Fitted 9000 parameters\n"
     ]
    }
   ],
   "source": [
    "from spline_utils import setup_basis, spline_fit\n",
    "from general_utils import rank_and_bin, norm_mtx\n",
    "# get the variable group ids\n",
    "mtx = norm_mtx(mtx)\n",
    "lam = result[\"lam_update\"]\n",
    "base_args = setup_basis(lam, n_knots=10)\n",
    "print(base_args)\n",
    "p_fun, c_mtx = spline_fit(lam, mtx, base_args)"
   ]
  },
  {
   "cell_type": "code",
   "execution_count": 5,
   "metadata": {},
   "outputs": [
    {
     "name": "stderr",
     "output_type": "stream",
     "text": [
      "[feat_viz INFO] Fitted points stored in (50, 9656)\n"
     ]
    },
    {
     "name": "stdout",
     "output_type": "stream",
     "text": [
      "(9656, 13)\n"
     ]
    }
   ],
   "source": [
    "from main_methods import refit_curves\n",
    "print(c_mtx.shape)\n",
    "x_vals, fit_mtx = refit_curves(c_mtx, base_args, lam)"
   ]
  },
  {
   "cell_type": "markdown",
   "metadata": {},
   "source": [
    "# Remove low variance genes "
   ]
  },
  {
   "cell_type": "code",
   "execution_count": 6,
   "metadata": {},
   "outputs": [
    {
     "data": {
      "text/html": [
       "<div>\n",
       "<style scoped>\n",
       "    .dataframe tbody tr th:only-of-type {\n",
       "        vertical-align: middle;\n",
       "    }\n",
       "\n",
       "    .dataframe tbody tr th {\n",
       "        vertical-align: top;\n",
       "    }\n",
       "\n",
       "    .dataframe thead th {\n",
       "        text-align: right;\n",
       "    }\n",
       "</style>\n",
       "<table border=\"1\" class=\"dataframe\">\n",
       "  <thead>\n",
       "    <tr style=\"text-align: right;\">\n",
       "      <th></th>\n",
       "      <th>gene_ids</th>\n",
       "      <th>n_cells</th>\n",
       "      <th>mean</th>\n",
       "      <th>std</th>\n",
       "      <th>npc</th>\n",
       "    </tr>\n",
       "  </thead>\n",
       "  <tbody>\n",
       "    <tr>\n",
       "      <th>0</th>\n",
       "      <td>Mrpl15</td>\n",
       "      <td>530</td>\n",
       "      <td>0.386412</td>\n",
       "      <td>0.530710</td>\n",
       "      <td>530</td>\n",
       "    </tr>\n",
       "    <tr>\n",
       "      <th>1</th>\n",
       "      <td>Lypla1</td>\n",
       "      <td>1045</td>\n",
       "      <td>0.999767</td>\n",
       "      <td>0.698513</td>\n",
       "      <td>1045</td>\n",
       "    </tr>\n",
       "    <tr>\n",
       "      <th>2</th>\n",
       "      <td>Tcea1</td>\n",
       "      <td>367</td>\n",
       "      <td>0.225788</td>\n",
       "      <td>0.401705</td>\n",
       "      <td>367</td>\n",
       "    </tr>\n",
       "    <tr>\n",
       "      <th>3</th>\n",
       "      <td>Atp6v1h</td>\n",
       "      <td>171</td>\n",
       "      <td>0.101006</td>\n",
       "      <td>0.292252</td>\n",
       "      <td>171</td>\n",
       "    </tr>\n",
       "    <tr>\n",
       "      <th>4</th>\n",
       "      <td>Rb1cc1</td>\n",
       "      <td>340</td>\n",
       "      <td>0.220587</td>\n",
       "      <td>0.425791</td>\n",
       "      <td>340</td>\n",
       "    </tr>\n",
       "  </tbody>\n",
       "</table>\n",
       "</div>"
      ],
      "text/plain": [
       "  gene_ids  n_cells      mean       std   npc\n",
       "0   Mrpl15      530  0.386412  0.530710   530\n",
       "1   Lypla1     1045  0.999767  0.698513  1045\n",
       "2    Tcea1      367  0.225788  0.401705   367\n",
       "3  Atp6v1h      171  0.101006  0.292252   171\n",
       "4   Rb1cc1      340  0.220587  0.425791   340"
      ]
     },
     "execution_count": 6,
     "metadata": {},
     "output_type": "execute_result"
    }
   ],
   "source": [
    "var_df.head()"
   ]
  },
  {
   "cell_type": "code",
   "execution_count": 7,
   "metadata": {},
   "outputs": [
    {
     "name": "stdout",
     "output_type": "stream",
     "text": [
      "1920 out of 1981 are spatial varying\n",
      "Final set used for clustering: 1920\n"
     ]
    },
    {
     "data": {
      "text/html": [
       "<div>\n",
       "<style scoped>\n",
       "    .dataframe tbody tr th:only-of-type {\n",
       "        vertical-align: middle;\n",
       "    }\n",
       "\n",
       "    .dataframe tbody tr th {\n",
       "        vertical-align: top;\n",
       "    }\n",
       "\n",
       "    .dataframe thead th {\n",
       "        text-align: right;\n",
       "    }\n",
       "</style>\n",
       "<table border=\"1\" class=\"dataframe\">\n",
       "  <thead>\n",
       "    <tr style=\"text-align: right;\">\n",
       "      <th></th>\n",
       "      <th>gene_ids</th>\n",
       "      <th>n_cells</th>\n",
       "      <th>mean</th>\n",
       "      <th>std</th>\n",
       "      <th>npc</th>\n",
       "      <th>moor_clust</th>\n",
       "    </tr>\n",
       "  </thead>\n",
       "  <tbody>\n",
       "    <tr>\n",
       "      <th>0</th>\n",
       "      <td>Mrpl15</td>\n",
       "      <td>530</td>\n",
       "      <td>0.386412</td>\n",
       "      <td>0.530710</td>\n",
       "      <td>530</td>\n",
       "      <td>1</td>\n",
       "    </tr>\n",
       "    <tr>\n",
       "      <th>1</th>\n",
       "      <td>Lypla1</td>\n",
       "      <td>1045</td>\n",
       "      <td>0.999767</td>\n",
       "      <td>0.698513</td>\n",
       "      <td>1045</td>\n",
       "      <td>3</td>\n",
       "    </tr>\n",
       "    <tr>\n",
       "      <th>14</th>\n",
       "      <td>Arfgef1</td>\n",
       "      <td>732</td>\n",
       "      <td>0.559252</td>\n",
       "      <td>0.594950</td>\n",
       "      <td>732</td>\n",
       "      <td>3</td>\n",
       "    </tr>\n",
       "    <tr>\n",
       "      <th>16</th>\n",
       "      <td>Tram1</td>\n",
       "      <td>707</td>\n",
       "      <td>0.536192</td>\n",
       "      <td>0.579412</td>\n",
       "      <td>707</td>\n",
       "      <td>1</td>\n",
       "    </tr>\n",
       "    <tr>\n",
       "      <th>20</th>\n",
       "      <td>Rpl7</td>\n",
       "      <td>1009</td>\n",
       "      <td>1.524548</td>\n",
       "      <td>1.203265</td>\n",
       "      <td>1009</td>\n",
       "      <td>4</td>\n",
       "    </tr>\n",
       "  </tbody>\n",
       "</table>\n",
       "</div>"
      ],
      "text/plain": [
       "   gene_ids  n_cells      mean       std   npc  moor_clust\n",
       "0    Mrpl15      530  0.386412  0.530710   530           1\n",
       "1    Lypla1     1045  0.999767  0.698513  1045           3\n",
       "14  Arfgef1      732  0.559252  0.594950   732           3\n",
       "16    Tram1      707  0.536192  0.579412   707           1\n",
       "20     Rpl7     1009  1.524548  1.203265  1009           4"
      ]
     },
     "execution_count": 7,
     "metadata": {},
     "output_type": "execute_result"
    }
   ],
   "source": [
    "from intestine_info import load_gene_set_clusters\n",
    "from plot_utils import plot_venn\n",
    "# use the cutoff to select genes to further cluster\n",
    "def select_variable_genes(result, var_df, cut_off = 0.5):\n",
    "    sel = var_df['std'] > cut_off\n",
    "    high_var_idx = var_df.loc[sel].index.values\n",
    "    cor_sel_idx = result['rejections']\n",
    "    int_size = set(high_var_idx).intersection(set(cor_sel_idx))\n",
    "    print('{} out of {} are spatial varying'.format(len(int_size), len(high_var_idx)))\n",
    "    kmtx, kdf = load_gene_set_clusters(var_df)\n",
    "    gset = {}\n",
    "    gset['moor_sel'] = set(kdf.index)\n",
    "    gset['high_var'] = set(var_df.loc[sel]['gene_ids'])\n",
    "    gset['space_var'] = set(var_df.loc[result['rejections']]['gene_ids'])\n",
    "    use_df = var_df.loc[sel]\n",
    "    use_df = use_df.loc[use_df.index.isin(result['rejections'])]\n",
    "    ndf = kdf.loc[kdf['orig_idx'].isin(use_df.index)]\n",
    "    vals = pd.Series(-1*np.ones(use_df.shape[0]), index=use_df.index).astype(int)\n",
    "    vals[ndf['orig_idx']] = ndf['clust_idx']\n",
    "    use_df['moor_clust'] = vals\n",
    "    gset['our_sel'] = set(use_df['gene_ids'])\n",
    "    print('Final set used for clustering: {}'.format(use_df.shape[0]))\n",
    "    return use_df, gset\n",
    "use_df, gset =  select_variable_genes(result, var_df)\n",
    "use_df.head()"
   ]
  },
  {
   "cell_type": "code",
   "execution_count": 8,
   "metadata": {},
   "outputs": [
    {
     "name": "stdout",
     "output_type": "stream",
     "text": [
      "Retaining genes: 1920\n"
     ]
    },
    {
     "data": {
      "image/png": "[encoded data removed]",
      "text/plain": [
       "<Figure size 216x216 with 1 Axes>"
      ]
     },
     "metadata": {},
     "output_type": "display_data"
    },
    {
     "data": {
      "image/png": "[encoded data removed]",
      "text/plain": [
       "<Figure size 576x129.6 with 3 Axes>"
      ]
     },
     "metadata": {},
     "output_type": "display_data"
    },
    {
     "name": "stderr",
     "output_type": "stream",
     "text": [
      "[feat_viz INFO] Saved figure to: /scratch/PI/sabatti/spatial_subplots/intestine_var_sv_venn.pdf\n"
     ]
    },
    {
     "data": {
      "image/png": "[encoded data removed]",
      "text/plain": [
       "<Figure size 144x144 with 1 Axes>"
      ]
     },
     "metadata": {},
     "output_type": "display_data"
    }
   ],
   "source": [
    "sel_or_not = (var_df.index.isin(use_df.index))\n",
    "print('Retaining genes: {}'.format(np.sum(sel_or_not)))\n",
    "fig, ax = plt.subplots(1, 1, figsize=(3,3))\n",
    "ax.scatter(var_df['mean'], var_df['std'], c=sel_or_not*-1, \n",
    "           s=3, cmap='Set1', alpha =0.5)\n",
    "ax.set_xlabel('mean')\n",
    "ax.set_ylabel('std')\n",
    "ax.set_xlim(0, 4)\n",
    "plt.show()\n",
    "fig, axes = plt.subplots(1, 3, figsize=(8, 1.8))\n",
    "plot_venn(gset, ['high_var', 'space_var'], ax=axes[0])\n",
    "plot_venn(gset, ['high_var', 'moor_sel'], ax=axes[1])\n",
    "plot_venn(gset, ['moor_sel', 'our_sel'], ax=axes[2])\n",
    "plt.show()\n",
    "\n",
    "\n",
    "fdir = '/scratch/PI/sabatti/spatial_subplots/'\n",
    "fn = fdir + 'intestine_var_sv_venn.pdf'\n",
    "fig, ax = plt.subplots(1, 1, figsize=(2, 2))\n",
    "plot_venn(gset, ['moor_sel', 'our_sel'], ax=ax, fn=fn)\n",
    "plt.show()"
   ]
  },
  {
   "cell_type": "markdown",
   "metadata": {},
   "source": [
    "# Run the gene clustering pipeline"
   ]
  },
  {
   "cell_type": "code",
   "execution_count": 9,
   "metadata": {},
   "outputs": [
    {
     "name": "stdout",
     "output_type": "stream",
     "text": [
      "input dimension: (1920, 13)\n"
     ]
    }
   ],
   "source": [
    "# our pipeline\n",
    "import umap\n",
    "from scipy.sparse import csgraph\n",
    "from scipy.sparse.linalg import eigsh\n",
    "from sklearn.cluster import KMeans\n",
    "\n",
    "uobj = umap.UMAP(random_state=1010)\n",
    "u_mtx = c_mtx[use_df.index, :]\n",
    "print(\"input dimension: {}\".format(u_mtx.shape))\n",
    "embedding = uobj.fit_transform(u_mtx)"
   ]
  },
  {
   "cell_type": "code",
   "execution_count": 10,
   "metadata": {},
   "outputs": [
    {
     "name": "stdout",
     "output_type": "stream",
     "text": [
      "[15  9 13  6  7  2  8 14 12 16  0 18  1 17  4 11  5  3 10]\n"
     ]
    }
   ],
   "source": [
    "from main_methods import graph_spectrum, graph_clustering\n",
    "evals, evecs = graph_spectrum(uobj.graph_)\n",
    "optimal_kvals = np.argsort(np.diff(evals))[::-1]\n",
    "print(optimal_kvals)"
   ]
  },
  {
   "cell_type": "code",
   "execution_count": 29,
   "metadata": {},
   "outputs": [
    {
     "name": "stdout",
     "output_type": "stream",
     "text": [
      "(1806, 15)\n"
     ]
    },
    {
     "data": {
      "text/html": [
       "<div>\n",
       "<style scoped>\n",
       "    .dataframe tbody tr th:only-of-type {\n",
       "        vertical-align: middle;\n",
       "    }\n",
       "\n",
       "    .dataframe tbody tr th {\n",
       "        vertical-align: top;\n",
       "    }\n",
       "\n",
       "    .dataframe thead th {\n",
       "        text-align: right;\n",
       "    }\n",
       "</style>\n",
       "<table border=\"1\" class=\"dataframe\">\n",
       "  <thead>\n",
       "    <tr style=\"text-align: right;\">\n",
       "      <th></th>\n",
       "      <th>indin</th>\n",
       "      <th>clust_idx</th>\n",
       "      <th>curr_idx</th>\n",
       "      <th>orig_idx</th>\n",
       "      <th>n_cells</th>\n",
       "      <th>mean</th>\n",
       "      <th>std</th>\n",
       "      <th>npc</th>\n",
       "      <th>moor_clust</th>\n",
       "      <th>k_15</th>\n",
       "      <th>k_9</th>\n",
       "      <th>k_13</th>\n",
       "      <th>k_6</th>\n",
       "      <th>umap 1</th>\n",
       "      <th>umap 2</th>\n",
       "    </tr>\n",
       "  </thead>\n",
       "  <tbody>\n",
       "    <tr>\n",
       "      <th>Mrpl15</th>\n",
       "      <td>8</td>\n",
       "      <td>1</td>\n",
       "      <td>0</td>\n",
       "      <td>0</td>\n",
       "      <td>530</td>\n",
       "      <td>0.386412</td>\n",
       "      <td>0.530710</td>\n",
       "      <td>530</td>\n",
       "      <td>1</td>\n",
       "      <td>11</td>\n",
       "      <td>1</td>\n",
       "      <td>5</td>\n",
       "      <td>2</td>\n",
       "      <td>3.278846</td>\n",
       "      <td>1.190773</td>\n",
       "    </tr>\n",
       "    <tr>\n",
       "      <th>Lypla1</th>\n",
       "      <td>9</td>\n",
       "      <td>3</td>\n",
       "      <td>1</td>\n",
       "      <td>1</td>\n",
       "      <td>1045</td>\n",
       "      <td>0.999767</td>\n",
       "      <td>0.698513</td>\n",
       "      <td>1045</td>\n",
       "      <td>3</td>\n",
       "      <td>4</td>\n",
       "      <td>5</td>\n",
       "      <td>3</td>\n",
       "      <td>4</td>\n",
       "      <td>-0.974191</td>\n",
       "      <td>1.133437</td>\n",
       "    </tr>\n",
       "    <tr>\n",
       "      <th>Arfgef1</th>\n",
       "      <td>40</td>\n",
       "      <td>3</td>\n",
       "      <td>2</td>\n",
       "      <td>14</td>\n",
       "      <td>732</td>\n",
       "      <td>0.559252</td>\n",
       "      <td>0.594950</td>\n",
       "      <td>732</td>\n",
       "      <td>3</td>\n",
       "      <td>3</td>\n",
       "      <td>0</td>\n",
       "      <td>0</td>\n",
       "      <td>2</td>\n",
       "      <td>0.333336</td>\n",
       "      <td>0.013566</td>\n",
       "    </tr>\n",
       "    <tr>\n",
       "      <th>Tram1</th>\n",
       "      <td>52</td>\n",
       "      <td>1</td>\n",
       "      <td>3</td>\n",
       "      <td>16</td>\n",
       "      <td>707</td>\n",
       "      <td>0.536192</td>\n",
       "      <td>0.579412</td>\n",
       "      <td>707</td>\n",
       "      <td>1</td>\n",
       "      <td>3</td>\n",
       "      <td>0</td>\n",
       "      <td>0</td>\n",
       "      <td>2</td>\n",
       "      <td>1.419247</td>\n",
       "      <td>-0.270409</td>\n",
       "    </tr>\n",
       "    <tr>\n",
       "      <th>Rpl7</th>\n",
       "      <td>63</td>\n",
       "      <td>4</td>\n",
       "      <td>4</td>\n",
       "      <td>20</td>\n",
       "      <td>1009</td>\n",
       "      <td>1.524548</td>\n",
       "      <td>1.203265</td>\n",
       "      <td>1009</td>\n",
       "      <td>4</td>\n",
       "      <td>13</td>\n",
       "      <td>2</td>\n",
       "      <td>7</td>\n",
       "      <td>1</td>\n",
       "      <td>8.094422</td>\n",
       "      <td>1.513515</td>\n",
       "    </tr>\n",
       "  </tbody>\n",
       "</table>\n",
       "</div>"
      ],
      "text/plain": [
       "         indin  clust_idx  curr_idx  orig_idx  n_cells      mean       std  \\\n",
       "Mrpl15       8          1         0         0      530  0.386412  0.530710   \n",
       "Lypla1       9          3         1         1     1045  0.999767  0.698513   \n",
       "Arfgef1     40          3         2        14      732  0.559252  0.594950   \n",
       "Tram1       52          1         3        16      707  0.536192  0.579412   \n",
       "Rpl7        63          4         4        20     1009  1.524548  1.203265   \n",
       "\n",
       "          npc  moor_clust  k_15  k_9  k_13  k_6    umap 1    umap 2  \n",
       "Mrpl15    530           1    11    1     5    2  3.278846  1.190773  \n",
       "Lypla1   1045           3     4    5     3    4 -0.974191  1.133437  \n",
       "Arfgef1   732           3     3    0     0    2  0.333336  0.013566  \n",
       "Tram1     707           1     3    0     0    2  1.419247 -0.270409  \n",
       "Rpl7     1009           4    13    2     7    1  8.094422  1.513515  "
      ]
     },
     "metadata": {},
     "output_type": "display_data"
    }
   ],
   "source": [
    "k_vals = optimal_kvals[:4] \n",
    "kids = ['k_{}'.format(k) for k in k_vals] \n",
    "clust_df = graph_clustering(evecs, k_vals)\n",
    "# merge\n",
    "mdf = use_df.reset_index().rename(columns={'index': 'orig_idx'})\n",
    "mdf = mdf.join(clust_df)\n",
    "mdf = mdf.set_index('gene_ids')\n",
    "mdf['umap 1'] = embedding[:, 0]\n",
    "mdf['umap 2'] = embedding[:, 1]\n",
    "kmtx, kdf = load_gene_set_clusters(var_df)\n",
    "int_df = kdf.join(mdf.drop('orig_idx', axis=1), how='inner')\n",
    "print(int_df.shape)\n",
    "int_df.head()\n",
    "assert np.array_equal(int_df['clust_idx'], int_df['moor_clust']), 'moor clust mismatch'\n",
    "display(int_df.head())"
   ]
  },
  {
   "cell_type": "code",
   "execution_count": 30,
   "metadata": {},
   "outputs": [
    {
     "name": "stdout",
     "output_type": "stream",
     "text": [
      "input dimension: (1806, 7)\n"
     ]
    }
   ],
   "source": [
    "# compute embedding from moor zonation\n",
    "from main_methods import compute_embedding\n",
    "moor_embed = compute_embedding(kmtx[int_df['curr_idx'], :])"
   ]
  },
  {
   "cell_type": "code",
   "execution_count": 31,
   "metadata": {},
   "outputs": [],
   "source": [
    "cmp_dict = {\n",
    "    'moor': {\n",
    "        'x': np.arange(kmtx.shape[1]),\n",
    "        'mtx': kmtx.T,\n",
    "        'idx': 'curr_idx',\n",
    "        'embedding': moor_embed\n",
    "    },\n",
    "    'ours': {\n",
    "        'x': x_vals,\n",
    "        'mtx': fit_mtx,\n",
    "        'idx': 'orig_idx',\n",
    "        'embedding': embedding\n",
    "    }\n",
    "}\n",
    "\n",
    "fns = {\n",
    "    'result': os.path.join(ddir, 'method_result.pkl'),\n",
    "    'coeff_mtx': os.path.join(ddir, 'coeff_matrix.npy'),\n",
    "    'viz_dict': os.path.join(ddir, 'viz_dict.pkl'),\n",
    "    'gene_clust_df': os.path.join(ddir, 'gene_clust_df.csv'),\n",
    "    'moor_clust_df': os.path.join(ddir, 'moor_clust_df.csv'),\n",
    "    'use_df': os.path.join(ddir, 'use_df.csv')\n",
    "}\n",
    "save_data_to_file(result, fns['result'], 'pkl')\n",
    "save_data_to_file(c_mtx, fns['coeff_mtx'], 'npy')\n",
    "save_data_to_file(cmp_dict, fns['viz_dict'], 'pkl')\n",
    "save_data_to_file(clust_df, fns['gene_clust_df'], 'csv')\n",
    "save_data_to_file(int_df, fns['moor_clust_df'], 'csv')\n",
    "save_data_to_file(use_df, fns['use_df'], 'csv')"
   ]
  }
 ],
 "metadata": {
  "kernelspec": {
   "display_name": "Python 3",
   "language": "python",
   "name": "python3"
  },
  "language_info": {
   "codemirror_mode": {
    "name": "ipython",
    "version": 3
   },
   "file_extension": ".py",
   "mimetype": "text/x-python",
   "name": "python",
   "nbconvert_exporter": "python",
   "pygments_lexer": "ipython3",
   "version": "3.6.1"
  }
 },
 "nbformat": 4,
 "nbformat_minor": 2
}
