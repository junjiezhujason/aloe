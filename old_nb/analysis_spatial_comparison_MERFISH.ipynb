{
 "cells": [
  {
   "cell_type": "code",
   "execution_count": 1,
   "metadata": {},
   "outputs": [],
   "source": [
    "%load_ext autoreload\n",
    "%autoreload 2\n",
    "%matplotlib inline\n",
    "from IPython.display import display\n",
    "import sys\n",
    "import os\n",
    "import logging\n",
    "\n",
    "sys.path.insert(0,'../src')\n",
    "import matplotlib as mpl\n",
    "mpl.rcParams['figure.dpi']= 100"
   ]
  },
  {
   "cell_type": "code",
   "execution_count": 2,
   "metadata": {},
   "outputs": [],
   "source": [
    "mpl.rcParams['axes.spines.right'] = False\n",
    "mpl.rcParams['axes.spines.top'] = False\n",
    "import numpy as np\n",
    "import pandas as pd\n",
    "import seaborn as sns\n",
    "import matplotlib.pyplot as plt\n",
    "\n",
    "logger = logging.getLogger(\"feat_viz\")\n",
    "logging.basicConfig(format='[%(name)s %(levelname)s] %(message)s', level=logging.INFO)"
   ]
  },
  {
   "cell_type": "code",
   "execution_count": 3,
   "metadata": {},
   "outputs": [],
   "source": [
    "data_dir = '../data/'\n",
    "f_pfx = 'MERFISH'\n",
    "fn_coord = data_dir + '{}_coord.csv'.format(f_pfx)\n",
    "fn_expr = data_dir + '{}_expr.csv'.format(f_pfx)\n",
    "data = pd.read_csv(fn_expr, index_col=0)\n",
    "coor = pd.read_csv(fn_coord, index_col=0)"
   ]
  },
  {
   "cell_type": "code",
   "execution_count": 4,
   "metadata": {},
   "outputs": [
    {
     "name": "stdout",
     "output_type": "stream",
     "text": [
      "(140, 1052)\n",
      "scgco rejects 84 genes\n",
      "spatialde rejects 91 genes\n"
     ]
    }
   ],
   "source": [
    "ddir = '/share/PI/sabatti/sc_data/spatial_ge/scGCO'\n",
    "fileName = ddir + \"/data/MERFISH/scGCO_results/MERFISH_result_df.csv\"\n",
    "result_df = pd.read_csv(fileName, index_col=0)\n",
    "print(result_df.shape)\n",
    "fdr05 = result_df[result_df.fdr < 0.05].sort_values(by=['fdr'])\n",
    "print('scgco rejects {} genes'.format(fdr05.shape[0]))\n",
    "de = ddir + \"/data/MERFISH/spatialDE_results/middle_final_results.csv\"\n",
    "counts_de = pd.read_csv(de,index_col=0)\n",
    "counts_de=counts_de[counts_de.qval<0.05]\n",
    "counts_de=counts_de[counts_de.g.values != 'log_total_count']\n",
    "print('spatialde rejects {} genes'.format(counts_de.shape[0]))"
   ]
  },
  {
   "cell_type": "code",
   "execution_count": 13,
   "metadata": {},
   "outputs": [
    {
     "name": "stdout",
     "output_type": "stream",
     "text": [
      "/share/PI/sabatti/sc_data/spatial_ge/scGCO/data/MERFISH/our_results/MERFISH_result_k5_p100000.csv\n",
      "(128,)\n"
     ]
    }
   ],
   "source": [
    "from main_methods import select_spatial_genes\n",
    "from matplotlib_venn import venn2,venn3\n",
    "from io_utils import save_data_to_file\n",
    "\n",
    "# run our method\n",
    "alpha= 0.05\n",
    "knn = 5\n",
    "n_perm = 10000\n",
    "pvals, rej_idx = select_spatial_genes(coor.values, data.values, \n",
    "                                      knn=knn, alpha=alpha, n_perm=n_perm)\n",
    "ours = data.columns[rej_idx]\n",
    "reject = np.array([False] * len(pvals))\n",
    "reject[rej_idx] = True\n",
    "result = pd.DataFrame({'pvalue': pvals, 'reject': reject, 'geneID':data.columns})\n",
    "# save result to file\n",
    "fn =  ddir+'/data/MERFISH/our_results/MERFISH_result_k{}_p{}.csv'.format(knn, n_perm)\n",
    "print(fn)\n",
    "save_data_to_file(result, fn, 'csv')        \n",
    "\n",
    "print(ours.shape)\n",
    "gsets = {\n",
    "        'scGCO': set(fdr05.index.values),\n",
    "        'SpatialDE': set(counts_de.g.values),\n",
    "        'ours': set(data.columns[rej_idx])\n",
    "    }"
   ]
  },
  {
   "cell_type": "code",
   "execution_count": 45,
   "metadata": {},
   "outputs": [
    {
     "data": {
      "text/html": [
       "<div>\n",
       "<style scoped>\n",
       "    .dataframe tbody tr th:only-of-type {\n",
       "        vertical-align: middle;\n",
       "    }\n",
       "\n",
       "    .dataframe tbody tr th {\n",
       "        vertical-align: top;\n",
       "    }\n",
       "\n",
       "    .dataframe thead th {\n",
       "        text-align: right;\n",
       "    }\n",
       "</style>\n",
       "<table border=\"1\" class=\"dataframe\">\n",
       "  <thead>\n",
       "    <tr style=\"text-align: right;\">\n",
       "      <th></th>\n",
       "      <th>gene</th>\n",
       "      <th>negative</th>\n",
       "      <th>pvalue_ours</th>\n",
       "      <th>rej_scGCO</th>\n",
       "      <th>rej_SpatialDE</th>\n",
       "      <th>rej_ours</th>\n",
       "    </tr>\n",
       "    <tr>\n",
       "      <th>gene</th>\n",
       "      <th></th>\n",
       "      <th></th>\n",
       "      <th></th>\n",
       "      <th></th>\n",
       "      <th></th>\n",
       "      <th></th>\n",
       "    </tr>\n",
       "  </thead>\n",
       "  <tbody>\n",
       "    <tr>\n",
       "      <th>Blank-1</th>\n",
       "      <td>Blank-1</td>\n",
       "      <td>True</td>\n",
       "      <td>0.003200</td>\n",
       "      <td>True</td>\n",
       "      <td>True</td>\n",
       "      <td>True</td>\n",
       "    </tr>\n",
       "    <tr>\n",
       "      <th>Blank-10</th>\n",
       "      <td>Blank-10</td>\n",
       "      <td>True</td>\n",
       "      <td>0.005000</td>\n",
       "      <td>True</td>\n",
       "      <td>False</td>\n",
       "      <td>True</td>\n",
       "    </tr>\n",
       "    <tr>\n",
       "      <th>Blank-2</th>\n",
       "      <td>Blank-2</td>\n",
       "      <td>True</td>\n",
       "      <td>0.018898</td>\n",
       "      <td>True</td>\n",
       "      <td>False</td>\n",
       "      <td>True</td>\n",
       "    </tr>\n",
       "    <tr>\n",
       "      <th>Blank-3</th>\n",
       "      <td>Blank-3</td>\n",
       "      <td>True</td>\n",
       "      <td>0.170483</td>\n",
       "      <td>False</td>\n",
       "      <td>False</td>\n",
       "      <td>False</td>\n",
       "    </tr>\n",
       "    <tr>\n",
       "      <th>Blank-4</th>\n",
       "      <td>Blank-4</td>\n",
       "      <td>True</td>\n",
       "      <td>0.000100</td>\n",
       "      <td>True</td>\n",
       "      <td>False</td>\n",
       "      <td>True</td>\n",
       "    </tr>\n",
       "    <tr>\n",
       "      <th>Blank-5</th>\n",
       "      <td>Blank-5</td>\n",
       "      <td>True</td>\n",
       "      <td>0.003700</td>\n",
       "      <td>True</td>\n",
       "      <td>True</td>\n",
       "      <td>True</td>\n",
       "    </tr>\n",
       "    <tr>\n",
       "      <th>Blank-6</th>\n",
       "      <td>Blank-6</td>\n",
       "      <td>True</td>\n",
       "      <td>0.000100</td>\n",
       "      <td>False</td>\n",
       "      <td>True</td>\n",
       "      <td>True</td>\n",
       "    </tr>\n",
       "    <tr>\n",
       "      <th>Blank-7</th>\n",
       "      <td>Blank-7</td>\n",
       "      <td>True</td>\n",
       "      <td>0.050995</td>\n",
       "      <td>False</td>\n",
       "      <td>False</td>\n",
       "      <td>False</td>\n",
       "    </tr>\n",
       "    <tr>\n",
       "      <th>Blank-8</th>\n",
       "      <td>Blank-8</td>\n",
       "      <td>True</td>\n",
       "      <td>0.000400</td>\n",
       "      <td>True</td>\n",
       "      <td>True</td>\n",
       "      <td>True</td>\n",
       "    </tr>\n",
       "    <tr>\n",
       "      <th>Blank-9</th>\n",
       "      <td>Blank-9</td>\n",
       "      <td>True</td>\n",
       "      <td>0.005000</td>\n",
       "      <td>False</td>\n",
       "      <td>True</td>\n",
       "      <td>True</td>\n",
       "    </tr>\n",
       "  </tbody>\n",
       "</table>\n",
       "</div>"
      ],
      "text/plain": [
       "              gene  negative  pvalue_ours  rej_scGCO  rej_SpatialDE  rej_ours\n",
       "gene                                                                         \n",
       "Blank-1    Blank-1      True     0.003200       True           True      True\n",
       "Blank-10  Blank-10      True     0.005000       True          False      True\n",
       "Blank-2    Blank-2      True     0.018898       True          False      True\n",
       "Blank-3    Blank-3      True     0.170483      False          False     False\n",
       "Blank-4    Blank-4      True     0.000100       True          False      True\n",
       "Blank-5    Blank-5      True     0.003700       True           True      True\n",
       "Blank-6    Blank-6      True     0.000100      False           True      True\n",
       "Blank-7    Blank-7      True     0.050995      False          False     False\n",
       "Blank-8    Blank-8      True     0.000400       True           True      True\n",
       "Blank-9    Blank-9      True     0.005000      False           True      True"
      ]
     },
     "execution_count": 45,
     "metadata": {},
     "output_type": "execute_result"
    }
   ],
   "source": [
    "df_res = pd.DataFrame({'gene': data.columns, \n",
    "                       'negative': data.columns.str.startswith('Blank'), \n",
    "                       'pvalue_ours': pvals})\n",
    "df_res.index = df_res['gene']\n",
    "neg_sets = {}\n",
    "for met in gsets:\n",
    "    gset = gsets[met]\n",
    "    rej = pd.Series([False] * df_res.shape[0], index=df_res.gene)\n",
    "    rej[gsets[met]] = True\n",
    "    df_res['rej_{}'.format(met)] = rej\n",
    "    ndf = df_res.loc[df_res['negative']]\n",
    "    neg_sets[met] = set(ndf.loc[ndf['rej_{}'.format(met)]]['gene'])\n",
    "df_res.loc[df_res['negative']]"
   ]
  },
  {
   "cell_type": "code",
   "execution_count": 56,
   "metadata": {},
   "outputs": [
    {
     "name": "stdout",
     "output_type": "stream",
     "text": [
      "Number of blank ids: 10\n",
      "65 out of 71 strongly rejected by SpatialDE\n",
      "50 out of 71 strongly rejected by scGCO\n"
     ]
    },
    {
     "data": {
      "text/html": [
       "<div>\n",
       "<style scoped>\n",
       "    .dataframe tbody tr th:only-of-type {\n",
       "        vertical-align: middle;\n",
       "    }\n",
       "\n",
       "    .dataframe tbody tr th {\n",
       "        vertical-align: top;\n",
       "    }\n",
       "\n",
       "    .dataframe thead th {\n",
       "        text-align: right;\n",
       "    }\n",
       "</style>\n",
       "<table border=\"1\" class=\"dataframe\">\n",
       "  <thead>\n",
       "    <tr style=\"text-align: right;\">\n",
       "      <th></th>\n",
       "      <th>gene</th>\n",
       "      <th>negative</th>\n",
       "      <th>pvalue_ours</th>\n",
       "      <th>rej_scGCO</th>\n",
       "      <th>rej_SpatialDE</th>\n",
       "      <th>rej_ours</th>\n",
       "    </tr>\n",
       "    <tr>\n",
       "      <th>gene</th>\n",
       "      <th></th>\n",
       "      <th></th>\n",
       "      <th></th>\n",
       "      <th></th>\n",
       "      <th></th>\n",
       "      <th></th>\n",
       "    </tr>\n",
       "  </thead>\n",
       "  <tbody>\n",
       "    <tr>\n",
       "      <th>LUZP1</th>\n",
       "      <td>LUZP1</td>\n",
       "      <td>False</td>\n",
       "      <td>0.0001</td>\n",
       "      <td>True</td>\n",
       "      <td>True</td>\n",
       "      <td>True</td>\n",
       "    </tr>\n",
       "    <tr>\n",
       "      <th>AGO3</th>\n",
       "      <td>AGO3</td>\n",
       "      <td>False</td>\n",
       "      <td>0.0001</td>\n",
       "      <td>False</td>\n",
       "      <td>False</td>\n",
       "      <td>True</td>\n",
       "    </tr>\n",
       "    <tr>\n",
       "      <th>CNR2</th>\n",
       "      <td>CNR2</td>\n",
       "      <td>False</td>\n",
       "      <td>0.0001</td>\n",
       "      <td>True</td>\n",
       "      <td>False</td>\n",
       "      <td>True</td>\n",
       "    </tr>\n",
       "    <tr>\n",
       "      <th>MYH10</th>\n",
       "      <td>MYH10</td>\n",
       "      <td>False</td>\n",
       "      <td>0.0001</td>\n",
       "      <td>True</td>\n",
       "      <td>True</td>\n",
       "      <td>True</td>\n",
       "    </tr>\n",
       "    <tr>\n",
       "      <th>AGAP1</th>\n",
       "      <td>AGAP1</td>\n",
       "      <td>False</td>\n",
       "      <td>0.0001</td>\n",
       "      <td>False</td>\n",
       "      <td>True</td>\n",
       "      <td>True</td>\n",
       "    </tr>\n",
       "    <tr>\n",
       "      <th>AMOTL1</th>\n",
       "      <td>AMOTL1</td>\n",
       "      <td>False</td>\n",
       "      <td>0.0001</td>\n",
       "      <td>True</td>\n",
       "      <td>True</td>\n",
       "      <td>True</td>\n",
       "    </tr>\n",
       "    <tr>\n",
       "      <th>KIF13B</th>\n",
       "      <td>KIF13B</td>\n",
       "      <td>False</td>\n",
       "      <td>0.0001</td>\n",
       "      <td>False</td>\n",
       "      <td>True</td>\n",
       "      <td>True</td>\n",
       "    </tr>\n",
       "    <tr>\n",
       "      <th>NHSL2</th>\n",
       "      <td>NHSL2</td>\n",
       "      <td>False</td>\n",
       "      <td>0.0001</td>\n",
       "      <td>True</td>\n",
       "      <td>True</td>\n",
       "      <td>True</td>\n",
       "    </tr>\n",
       "    <tr>\n",
       "      <th>PRPF8</th>\n",
       "      <td>PRPF8</td>\n",
       "      <td>False</td>\n",
       "      <td>0.0001</td>\n",
       "      <td>False</td>\n",
       "      <td>True</td>\n",
       "      <td>True</td>\n",
       "    </tr>\n",
       "    <tr>\n",
       "      <th>RNF152</th>\n",
       "      <td>RNF152</td>\n",
       "      <td>False</td>\n",
       "      <td>0.0001</td>\n",
       "      <td>True</td>\n",
       "      <td>True</td>\n",
       "      <td>True</td>\n",
       "    </tr>\n",
       "  </tbody>\n",
       "</table>\n",
       "</div>"
      ],
      "text/plain": [
       "          gene  negative  pvalue_ours  rej_scGCO  rej_SpatialDE  rej_ours\n",
       "gene                                                                     \n",
       "LUZP1    LUZP1     False       0.0001       True           True      True\n",
       "AGO3      AGO3     False       0.0001      False          False      True\n",
       "CNR2      CNR2     False       0.0001       True          False      True\n",
       "MYH10    MYH10     False       0.0001       True           True      True\n",
       "AGAP1    AGAP1     False       0.0001      False           True      True\n",
       "AMOTL1  AMOTL1     False       0.0001       True           True      True\n",
       "KIF13B  KIF13B     False       0.0001      False           True      True\n",
       "NHSL2    NHSL2     False       0.0001       True           True      True\n",
       "PRPF8    PRPF8     False       0.0001      False           True      True\n",
       "RNF152  RNF152     False       0.0001       True           True      True"
      ]
     },
     "metadata": {},
     "output_type": "display_data"
    }
   ],
   "source": [
    "# plot the negative controls\n",
    "from plot_utils import plot_multiple_scatter_continuous, plot_scatter_continuous\n",
    "cols =  data.columns\n",
    "blank_ids = cols[cols.str.startswith('Blank')]\n",
    "print('Number of blank ids: {}'.format(len(blank_ids)))\n",
    "min_pval = min(df_res['pvalue_ours'])\n",
    "most_rej = df_res.loc[df_res['pvalue_ours']==min_pval] # .sort_values('pvalue_ours').head(80)\n",
    "print('{} out of {} strongly rejected by SpatialDE'.format(\n",
    "    np.sum(most_rej['rej_SpatialDE']), most_rej.shape[0]))\n",
    "print('{} out of {} strongly rejected by scGCO'.format(\n",
    "    np.sum(most_rej['rej_scGCO']), most_rej.shape[0]))\n",
    "np.random.seed(10)\n",
    "use_rej = most_rej.sample(10)\n",
    "display(use_rej)\n",
    "strong_rej_ids = list(use_rej['gene'])"
   ]
  },
  {
   "cell_type": "code",
   "execution_count": 73,
   "metadata": {},
   "outputs": [
    {
     "data": {
      "text/html": [
       "<div>\n",
       "<style scoped>\n",
       "    .dataframe tbody tr th:only-of-type {\n",
       "        vertical-align: middle;\n",
       "    }\n",
       "\n",
       "    .dataframe tbody tr th {\n",
       "        vertical-align: top;\n",
       "    }\n",
       "\n",
       "    .dataframe thead th {\n",
       "        text-align: right;\n",
       "    }\n",
       "</style>\n",
       "<table border=\"1\" class=\"dataframe\">\n",
       "  <thead>\n",
       "    <tr style=\"text-align: right;\">\n",
       "      <th></th>\n",
       "      <th>gene</th>\n",
       "      <th>negative</th>\n",
       "      <th>pvalue_ours</th>\n",
       "      <th>rej_scGCO</th>\n",
       "      <th>rej_SpatialDE</th>\n",
       "      <th>rej_ours</th>\n",
       "      <th>rej_frac_SpatialDE</th>\n",
       "      <th>rej_frac_scGCO</th>\n",
       "    </tr>\n",
       "    <tr>\n",
       "      <th>gene</th>\n",
       "      <th></th>\n",
       "      <th></th>\n",
       "      <th></th>\n",
       "      <th></th>\n",
       "      <th></th>\n",
       "      <th></th>\n",
       "      <th></th>\n",
       "      <th></th>\n",
       "    </tr>\n",
       "  </thead>\n",
       "  <tbody>\n",
       "    <tr>\n",
       "      <th>AFAP1</th>\n",
       "      <td>AFAP1</td>\n",
       "      <td>False</td>\n",
       "      <td>0.0001</td>\n",
       "      <td>True</td>\n",
       "      <td>True</td>\n",
       "      <td>True</td>\n",
       "      <td>1.0</td>\n",
       "      <td>1.000000</td>\n",
       "    </tr>\n",
       "    <tr>\n",
       "      <th>AFF4</th>\n",
       "      <td>AFF4</td>\n",
       "      <td>False</td>\n",
       "      <td>0.0001</td>\n",
       "      <td>True</td>\n",
       "      <td>True</td>\n",
       "      <td>True</td>\n",
       "      <td>1.0</td>\n",
       "      <td>1.000000</td>\n",
       "    </tr>\n",
       "    <tr>\n",
       "      <th>AGAP1</th>\n",
       "      <td>AGAP1</td>\n",
       "      <td>False</td>\n",
       "      <td>0.0001</td>\n",
       "      <td>False</td>\n",
       "      <td>True</td>\n",
       "      <td>True</td>\n",
       "      <td>1.0</td>\n",
       "      <td>0.666667</td>\n",
       "    </tr>\n",
       "    <tr>\n",
       "      <th>AHDC1</th>\n",
       "      <td>AHDC1</td>\n",
       "      <td>False</td>\n",
       "      <td>0.0001</td>\n",
       "      <td>False</td>\n",
       "      <td>True</td>\n",
       "      <td>True</td>\n",
       "      <td>1.0</td>\n",
       "      <td>0.500000</td>\n",
       "    </tr>\n",
       "    <tr>\n",
       "      <th>ALPK2</th>\n",
       "      <td>ALPK2</td>\n",
       "      <td>False</td>\n",
       "      <td>0.0001</td>\n",
       "      <td>True</td>\n",
       "      <td>True</td>\n",
       "      <td>True</td>\n",
       "      <td>1.0</td>\n",
       "      <td>0.600000</td>\n",
       "    </tr>\n",
       "  </tbody>\n",
       "</table>\n",
       "</div>"
      ],
      "text/plain": [
       "        gene  negative  pvalue_ours  rej_scGCO  rej_SpatialDE  rej_ours  \\\n",
       "gene                                                                      \n",
       "AFAP1  AFAP1     False       0.0001       True           True      True   \n",
       "AFF4    AFF4     False       0.0001       True           True      True   \n",
       "AGAP1  AGAP1     False       0.0001      False           True      True   \n",
       "AHDC1  AHDC1     False       0.0001      False           True      True   \n",
       "ALPK2  ALPK2     False       0.0001       True           True      True   \n",
       "\n",
       "       rej_frac_SpatialDE  rej_frac_scGCO  \n",
       "gene                                       \n",
       "AFAP1                 1.0        1.000000  \n",
       "AFF4                  1.0        1.000000  \n",
       "AGAP1                 1.0        0.666667  \n",
       "AHDC1                 1.0        0.500000  \n",
       "ALPK2                 1.0        0.600000  "
      ]
     },
     "metadata": {},
     "output_type": "display_data"
    },
    {
     "data": {
      "text/html": [
       "<div>\n",
       "<style scoped>\n",
       "    .dataframe tbody tr th:only-of-type {\n",
       "        vertical-align: middle;\n",
       "    }\n",
       "\n",
       "    .dataframe tbody tr th {\n",
       "        vertical-align: top;\n",
       "    }\n",
       "\n",
       "    .dataframe thead th {\n",
       "        text-align: right;\n",
       "    }\n",
       "</style>\n",
       "<table border=\"1\" class=\"dataframe\">\n",
       "  <thead>\n",
       "    <tr style=\"text-align: right;\">\n",
       "      <th></th>\n",
       "      <th>gene</th>\n",
       "      <th>negative</th>\n",
       "      <th>pvalue_ours</th>\n",
       "      <th>rej_scGCO</th>\n",
       "      <th>rej_SpatialDE</th>\n",
       "      <th>rej_ours</th>\n",
       "      <th>rej_frac_SpatialDE</th>\n",
       "      <th>rej_frac_scGCO</th>\n",
       "    </tr>\n",
       "    <tr>\n",
       "      <th>gene</th>\n",
       "      <th></th>\n",
       "      <th></th>\n",
       "      <th></th>\n",
       "      <th></th>\n",
       "      <th></th>\n",
       "      <th></th>\n",
       "      <th></th>\n",
       "      <th></th>\n",
       "    </tr>\n",
       "  </thead>\n",
       "  <tbody>\n",
       "    <tr>\n",
       "      <th>XDH</th>\n",
       "      <td>XDH</td>\n",
       "      <td>False</td>\n",
       "      <td>0.107789</td>\n",
       "      <td>False</td>\n",
       "      <td>False</td>\n",
       "      <td>False</td>\n",
       "      <td>0.728</td>\n",
       "      <td>0.672</td>\n",
       "    </tr>\n",
       "    <tr>\n",
       "      <th>Blank-3</th>\n",
       "      <td>Blank-3</td>\n",
       "      <td>True</td>\n",
       "      <td>0.170483</td>\n",
       "      <td>False</td>\n",
       "      <td>False</td>\n",
       "      <td>False</td>\n",
       "      <td>0.728</td>\n",
       "      <td>0.672</td>\n",
       "    </tr>\n",
       "    <tr>\n",
       "      <th>CRTAP</th>\n",
       "      <td>CRTAP</td>\n",
       "      <td>False</td>\n",
       "      <td>0.273273</td>\n",
       "      <td>False</td>\n",
       "      <td>False</td>\n",
       "      <td>False</td>\n",
       "      <td>0.728</td>\n",
       "      <td>0.672</td>\n",
       "    </tr>\n",
       "    <tr>\n",
       "      <th>TSTD2</th>\n",
       "      <td>TSTD2</td>\n",
       "      <td>False</td>\n",
       "      <td>0.372263</td>\n",
       "      <td>False</td>\n",
       "      <td>False</td>\n",
       "      <td>False</td>\n",
       "      <td>0.728</td>\n",
       "      <td>0.672</td>\n",
       "    </tr>\n",
       "    <tr>\n",
       "      <th>UMPS</th>\n",
       "      <td>UMPS</td>\n",
       "      <td>False</td>\n",
       "      <td>0.857314</td>\n",
       "      <td>False</td>\n",
       "      <td>False</td>\n",
       "      <td>False</td>\n",
       "      <td>0.728</td>\n",
       "      <td>0.672</td>\n",
       "    </tr>\n",
       "  </tbody>\n",
       "</table>\n",
       "</div>"
      ],
      "text/plain": [
       "            gene  negative  pvalue_ours  rej_scGCO  rej_SpatialDE  rej_ours  \\\n",
       "gene                                                                          \n",
       "XDH          XDH     False     0.107789      False          False     False   \n",
       "Blank-3  Blank-3      True     0.170483      False          False     False   \n",
       "CRTAP      CRTAP     False     0.273273      False          False     False   \n",
       "TSTD2      TSTD2     False     0.372263      False          False     False   \n",
       "UMPS        UMPS     False     0.857314      False          False     False   \n",
       "\n",
       "         rej_frac_SpatialDE  rej_frac_scGCO  \n",
       "gene                                         \n",
       "XDH                   0.728           0.672  \n",
       "Blank-3               0.728           0.672  \n",
       "CRTAP                 0.728           0.672  \n",
       "TSTD2                 0.728           0.672  \n",
       "UMPS                  0.728           0.672  "
      ]
     },
     "metadata": {},
     "output_type": "display_data"
    }
   ],
   "source": [
    "df = df_res.sort_values(by=['pvalue_ours', 'rej_SpatialDE'], ascending=[True, False])\n",
    "rej_cumsum = np.cumsum(df['rej_ours'])\n",
    "df['rej_frac_SpatialDE'] = np.cumsum(df['rej_SpatialDE']) / rej_cumsum\n",
    "df['rej_frac_scGCO'] = np.cumsum(df['rej_scGCO']) / rej_cumsum\n",
    "display(df.head())\n",
    "display(df.tail())"
   ]
  },
  {
   "cell_type": "code",
   "execution_count": 82,
   "metadata": {},
   "outputs": [
    {
     "data": {
      "image/png": "[encoded data removed]",
      "text/plain": [
       "<Figure size 360x216 with 1 Axes>"
      ]
     },
     "metadata": {},
     "output_type": "display_data"
    }
   ],
   "source": [
    "fig, ax = plt.subplots(1, 1, figsize=(5, 3))\n",
    "df.reset_index(drop=True)['rej_frac_SpatialDE'].plot(ax=ax)\n",
    "df.reset_index(drop=True)['rej_frac_scGCO'].plot(ax=ax)\n",
    "ax.set_ylim(0, 1.1)\n",
    "plt.show()"
   ]
  },
  {
   "cell_type": "code",
   "execution_count": 15,
   "metadata": {},
   "outputs": [
    {
     "data": {
      "image/png": "[encoded data removed]",
      "text/plain": [
       "<Figure size 144x144 with 1 Axes>"
      ]
     },
     "metadata": {},
     "output_type": "display_data"
    },
    {
     "name": "stderr",
     "output_type": "stream",
     "text": [
      "/home/users/jjzhu/.ve/aloe/lib/python3.6/site-packages/matplotlib_venn/_venn3.py:117: UserWarning: Bad circle positioning\n",
      "  warnings.warn(\"Bad circle positioning\")\n"
     ]
    },
    {
     "data": {
      "image/png": "[encoded data removed]",
      "text/plain": [
       "<Figure size 144x144 with 1 Axes>"
      ]
     },
     "metadata": {},
     "output_type": "display_data"
    }
   ],
   "source": [
    "def plot_venn3(d, ax):\n",
    "    set_labels = list(d.keys())\n",
    "    subsets = [d[k] for k in set_labels]\n",
    "    v=venn3(subsets=subsets, set_labels=set_labels, ax=ax)\n",
    "fig, ax = plt.subplots(1, 1, figsize=(2, 2))\n",
    "plot_venn3(gsets, ax)\n",
    "plt.show()\n",
    "fig, ax = plt.subplots(1, 1, figsize=(2, 2))\n",
    "plot_venn3(neg_sets, ax)\n",
    "plt.show()"
   ]
  },
  {
   "cell_type": "code",
   "execution_count": 28,
   "metadata": {},
   "outputs": [
    {
     "name": "stdout",
     "output_type": "stream",
     "text": [
      "raw data dim: (1056, 140)\n"
     ]
    },
    {
     "data": {
      "image/png": "[encoded data removed]",
      "text/plain": [
       "<Figure size 432x288 with 1 Axes>"
      ]
     },
     "metadata": {},
     "output_type": "display_data"
    },
    {
     "name": "stdout",
     "output_type": "stream",
     "text": [
      "(128,)\n"
     ]
    }
   ],
   "source": [
    "from general_utils import read_spatial_expression, normalize_count_cellranger\n",
    "from main_methods import select_spatial_genes\n",
    "from matplotlib_venn import venn2,venn3\n",
    "\n",
    "def plot_venn3(d, ax):\n",
    "    set_labels = list(d.keys())\n",
    "    subsets = [d[k] for k in set_labels]\n",
    "    v=venn3(subsets=subsets, set_labels=set_labels, ax=ax)\n",
    "\n",
    "    \n",
    "# load the data for a given replicate\n",
    "ddir = '/share/PI/sabatti/sc_data/spatial_ge/scGCO'\n",
    "ff = ddir + '/data/Raw_data/MERFISH/middle_scGCO_data_matrix.csv'\n",
    "locs,data=read_spatial_expression(ff,sep=' ')\n",
    "data_norm = normalize_count_cellranger(data)\n",
    "\n",
    "fig, ax = plt.subplots(1,1, figsize=(6, 4))\n",
    "ax.scatter(*locs.T, c='k')\n",
    "plt.axis('equal')\n",
    "plt.show()\n",
    "alpha= 0.05\n",
    "\n",
    "# run our method\n",
    "pvals, rej_idx = select_spatial_genes(locs, data_norm.values, knn=5, alpha=alpha, n_perm=10000)\n",
    "ours = data.columns[rej_idx]\n",
    "print(ours.shape)"
   ]
  },
  {
   "cell_type": "code",
   "execution_count": 6,
   "metadata": {},
   "outputs": [
    {
     "name": "stdout",
     "output_type": "stream",
     "text": [
      "raw data dim: (1056, 140)\n"
     ]
    },
    {
     "data": {
      "image/png": "[encoded data removed]",
      "text/plain": [
       "<Figure size 432x288 with 1 Axes>"
      ]
     },
     "metadata": {},
     "output_type": "display_data"
    },
    {
     "name": "stdout",
     "output_type": "stream",
     "text": [
      "(122,)\n"
     ]
    }
   ],
   "source": [
    "fn =  ddir+'/data/MERFISH/our_results/MERFISH_result_df.csv'\n",
    "save_data_to_file"
   ]
  },
  {
   "cell_type": "code",
   "execution_count": 7,
   "metadata": {},
   "outputs": [
    {
     "data": {
      "image/png": "[encoded data removed]",
      "text/plain": [
       "<Figure size 288x288 with 1 Axes>"
      ]
     },
     "metadata": {},
     "output_type": "display_data"
    }
   ],
   "source": [
    "# center the locations to zero and 1\n",
    "dat = pd.DataFrame(locs, columns=['x', 'y'])\n",
    "def center_unit(x):\n",
    "    shift = (max(x) + min(x)) / 2\n",
    "    scale = (max(x) - min(x)) / 2\n",
    "    return (x - shift) / scale\n",
    "dat['x'] = center_unit(dat['x'])\n",
    "dat['y'] = center_unit(dat['y'])\n",
    "fig, ax = plt.subplots(1,1, figsize=(4, 4))\n",
    "ax.scatter(dat['x'], dat['y'], c='k')\n",
    "plt.axis('equal')\n",
    "plt.show()"
   ]
  },
  {
   "cell_type": "code",
   "execution_count": 8,
   "metadata": {},
   "outputs": [],
   "source": [
    "def patterns(name, x, y):\n",
    "    vals = x ** 2 + y ** 2\n",
    "    return vals\n"
   ]
  },
  {
   "cell_type": "code",
   "execution_count": null,
   "metadata": {},
   "outputs": [],
   "source": []
  },
  {
   "cell_type": "code",
   "execution_count": 25,
   "metadata": {},
   "outputs": [
    {
     "name": "stdout",
     "output_type": "stream",
     "text": [
      "(140, 1052)\n",
      "84\n",
      "91\n"
     ]
    },
    {
     "data": {
      "image/png": "[encoded data removed]",
      "text/plain": [
       "<Figure size 216x216 with 1 Axes>"
      ]
     },
     "metadata": {},
     "output_type": "display_data"
    }
   ],
   "source": [
    "\n",
    "def plot_venn3(d, ax):\n",
    "    set_labels = list(d.keys())\n",
    "    subsets = [d[k] for k in set_labels]\n",
    "    v=venn3(subsets=subsets, set_labels=set_labels, ax=ax)\n",
    "fig, ax = plt.subplots(1, 1, figsize=(3, 3))\n",
    "plot_venn3(gsets, ax)\n",
    "plt.show()"
   ]
  },
  {
   "cell_type": "code",
   "execution_count": 27,
   "metadata": {},
   "outputs": [
    {
     "name": "stdout",
     "output_type": "stream",
     "text": [
      "scGCO: ['Blank-1', 'Blank-10', 'Blank-2', 'Blank-4', 'Blank-5', 'Blank-8']\n",
      "SpatialDE: ['Blank-1', 'Blank-5', 'Blank-6', 'Blank-8', 'Blank-9']\n",
      "Ours: ['Blank-1', 'Blank-10', 'Blank-2', 'Blank-4', 'Blank-5', 'Blank-6', 'Blank-8', 'Blank-9']\n"
     ]
    }
   ],
   "source": [
    "for key in gsets:\n",
    "    gset = gsets[key]\n",
    "    neg = sorted([g for g in gset if g.startswith('Blank')])\n",
    "    print('{}: {}'.format(key, neg))"
   ]
  },
  {
   "cell_type": "code",
   "execution_count": null,
   "metadata": {},
   "outputs": [],
   "source": []
  }
 ],
 "metadata": {
  "kernelspec": {
   "display_name": "Python 3",
   "language": "python",
   "name": "python3"
  },
  "language_info": {
   "codemirror_mode": {
    "name": "ipython",
    "version": 3
   },
   "file_extension": ".py",
   "mimetype": "text/x-python",
   "name": "python",
   "nbconvert_exporter": "python",
   "pygments_lexer": "ipython3",
   "version": "3.6.1"
  }
 },
 "nbformat": 4,
 "nbformat_minor": 2
}
