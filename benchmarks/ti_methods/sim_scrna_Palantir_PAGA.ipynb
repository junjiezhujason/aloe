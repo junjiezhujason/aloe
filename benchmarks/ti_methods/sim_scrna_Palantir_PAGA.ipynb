{
 "cells": [
  {
   "cell_type": "code",
   "execution_count": 1,
   "metadata": {},
   "outputs": [
    {
     "name": "stderr",
     "output_type": "stream",
     "text": [
      "/home/users/jjzhu/.ve/ti/lib/python3.6/site-packages/pandas/compat/__init__.py:84: UserWarning: Could not import the lzma module. Your installed Python is incomplete. Attempting to use lzma compression will result in a RuntimeError.\n",
      "  warnings.warn(msg)\n"
     ]
    },
    {
     "name": "stdout",
     "output_type": "stream",
     "text": [
      "scanpy==1.4.4.post1 anndata==0.6.22.post1 umap==0.3.10 numpy==1.17.2 scipy==1.3.1 pandas==0.25.1 scikit-learn==0.21.3 statsmodels==0.10.1 python-igraph==0.7.1 louvain==0.6.1\n"
     ]
    }
   ],
   "source": [
    "%load_ext autoreload\n",
    "%autoreload 2\n",
    "%matplotlib inline\n",
    "\n",
    "import numpy as np\n",
    "import pandas as pd\n",
    "import matplotlib.pyplot as plt\n",
    "from matplotlib import rcParams\n",
    "import scanpy as sc\n",
    "import palantir\n",
    "\n",
    "sc.settings.verbosity = 3  # verbosity: errors (0), warnings (1), info (2), hints (3)\n",
    "sc.logging.print_versions()\n",
    "sc.settings.set_figure_params(dpi=80, frameon=False)  # low dpi (dots per inch) yields small inline figures\n",
    "sys.path.insert(0,'/home/users/jjzhu/source_code/aloe/src')\n",
    "sys.path.insert(0,'./src')"
   ]
  },
  {
   "cell_type": "code",
   "execution_count": 40,
   "metadata": {},
   "outputs": [
    {
     "name": "stdout",
     "output_type": "stream",
     "text": [
      "/share/PI/sabatti/feat_viz/corr_sim/regime_0/data_dict.pkl\n",
      "Number of cells: 1500\n"
     ]
    },
    {
     "name": "stderr",
     "output_type": "stream",
     "text": [
      "Transforming to str index.\n"
     ]
    },
    {
     "name": "stdout",
     "output_type": "stream",
     "text": [
      "computing PCA with n_comps = 50\n",
      "    finished (0:00:03)\n",
      "computing neighbors\n",
      "    using 'X_pca' with n_pcs = 50\n",
      "    finished: added to `.uns['neighbors']`\n",
      "    'distances', distances for each pair of neighbors\n",
      "    'connectivities', weighted adjacency matrix (0:00:00)\n",
      "WARNING: Trying to run `tl.dpt` without prior call of `tl.diffmap`. Falling back to `tl.diffmap` with default parameters.\n",
      "computing Diffusion Maps using n_comps=15(=n_dcs)\n",
      "computing transitions\n",
      "    finished (0:00:00)\n",
      "    eigenvalues of transition matrix\n",
      "    [1.         0.9921078  0.9733376  0.93052    0.88526547 0.8217422\n",
      "     0.77288884 0.69795346 0.6698469  0.6537645  0.6437123  0.6419941\n",
      "     0.6374447  0.63225126 0.6281291 ]\n",
      "    finished: added\n",
      "    'X_diffmap', diffmap coordinates (adata.obsm)\n",
      "    'diffmap_evals', eigenvalues of transition matrix (adata.uns) (0:00:00)\n",
      "computing Diffusion Pseudotime using n_dcs=10\n",
      "    finished: added\n",
      "    'dpt_pseudotime', the pseudotime (adata.obs) (0:00:00)\n",
      "Saved /share/PI/sabatti/feat_viz/corr_sim/regime_0/ti_paga_result.csv\n",
      "Regime 0; paga: 0.9901137876061278\n",
      "/share/PI/sabatti/feat_viz/corr_sim/regime_0/data_dict.pkl\n",
      "Number of cells: 1500\n"
     ]
    },
    {
     "name": "stderr",
     "output_type": "stream",
     "text": [
      "Transforming to str index.\n"
     ]
    },
    {
     "name": "stdout",
     "output_type": "stream",
     "text": [
      "computing PCA with n_comps = 50\n",
      "    finished (0:00:03)\n",
      "computing neighbors\n",
      "    using 'X_pca' with n_pcs = 50\n",
      "    finished: added to `.uns['neighbors']`\n",
      "    'distances', distances for each pair of neighbors\n",
      "    'connectivities', weighted adjacency matrix (0:00:00)\n",
      "WARNING: Trying to run `tl.dpt` without prior call of `tl.diffmap`. Falling back to `tl.diffmap` with default parameters.\n",
      "computing Diffusion Maps using n_comps=15(=n_dcs)\n",
      "computing transitions\n",
      "    finished (0:00:00)\n",
      "    eigenvalues of transition matrix\n",
      "    [1.         0.9921078  0.9733376  0.93052    0.88526547 0.8217422\n",
      "     0.77288884 0.69795346 0.6698469  0.6537645  0.6437123  0.6419941\n",
      "     0.6374447  0.63225126 0.6281291 ]\n",
      "    finished: added\n",
      "    'X_diffmap', diffmap coordinates (adata.obsm)\n",
      "    'diffmap_evals', eigenvalues of transition matrix (adata.uns) (0:00:00)\n",
      "computing Diffusion Pseudotime using n_dcs=10\n",
      "    finished: added\n",
      "    'dpt_pseudotime', the pseudotime (adata.obs) (0:00:00)\n",
      "Saved /share/PI/sabatti/feat_viz/corr_sim/regime_0/ti_paga_result.csv\n",
      "Regime 0; paga: 0.9901137876061278\n",
      "/share/PI/sabatti/feat_viz/corr_sim/regime_1/data_dict.pkl\n",
      "Number of cells: 1500\n"
     ]
    },
    {
     "name": "stderr",
     "output_type": "stream",
     "text": [
      "Transforming to str index.\n"
     ]
    },
    {
     "name": "stdout",
     "output_type": "stream",
     "text": [
      "computing PCA with n_comps = 50\n",
      "    finished (0:00:01)\n",
      "computing neighbors\n",
      "    using 'X_pca' with n_pcs = 50\n",
      "    finished: added to `.uns['neighbors']`\n",
      "    'distances', distances for each pair of neighbors\n",
      "    'connectivities', weighted adjacency matrix (0:00:00)\n",
      "WARNING: Trying to run `tl.dpt` without prior call of `tl.diffmap`. Falling back to `tl.diffmap` with default parameters.\n",
      "computing Diffusion Maps using n_comps=15(=n_dcs)\n",
      "computing transitions\n",
      "    finished (0:00:00)\n",
      "    eigenvalues of transition matrix\n",
      "    [1.         0.9470666  0.90136844 0.7639009  0.686855   0.6735216\n",
      "     0.6678072  0.66516054 0.6630516  0.6611324  0.6560743  0.65460986\n",
      "     0.6481139  0.64799464 0.64552194]\n",
      "    finished: added\n",
      "    'X_diffmap', diffmap coordinates (adata.obsm)\n",
      "    'diffmap_evals', eigenvalues of transition matrix (adata.uns) (0:00:00)\n",
      "computing Diffusion Pseudotime using n_dcs=10\n",
      "    finished: added\n",
      "    'dpt_pseudotime', the pseudotime (adata.obs) (0:00:00)\n",
      "Saved /share/PI/sabatti/feat_viz/corr_sim/regime_1/ti_paga_result.csv\n",
      "Regime 1; paga: 0.9771123453832647\n",
      "/share/PI/sabatti/feat_viz/corr_sim/regime_1/data_dict.pkl\n",
      "Number of cells: 1500\n"
     ]
    },
    {
     "name": "stderr",
     "output_type": "stream",
     "text": [
      "Transforming to str index.\n"
     ]
    },
    {
     "name": "stdout",
     "output_type": "stream",
     "text": [
      "computing PCA with n_comps = 50\n",
      "    finished (0:00:01)\n",
      "computing neighbors\n",
      "    using 'X_pca' with n_pcs = 50\n",
      "    finished: added to `.uns['neighbors']`\n",
      "    'distances', distances for each pair of neighbors\n",
      "    'connectivities', weighted adjacency matrix (0:00:00)\n",
      "WARNING: Trying to run `tl.dpt` without prior call of `tl.diffmap`. Falling back to `tl.diffmap` with default parameters.\n",
      "computing Diffusion Maps using n_comps=15(=n_dcs)\n",
      "computing transitions\n",
      "    finished (0:00:00)\n",
      "    eigenvalues of transition matrix\n",
      "    [1.         0.9470666  0.90136844 0.7639009  0.686855   0.6735216\n",
      "     0.6678072  0.66516054 0.6630516  0.6611324  0.6560743  0.65460986\n",
      "     0.6481139  0.64799464 0.64552194]\n",
      "    finished: added\n",
      "    'X_diffmap', diffmap coordinates (adata.obsm)\n",
      "    'diffmap_evals', eigenvalues of transition matrix (adata.uns) (0:00:00)\n",
      "computing Diffusion Pseudotime using n_dcs=10\n",
      "    finished: added\n",
      "    'dpt_pseudotime', the pseudotime (adata.obs) (0:00:00)\n",
      "Saved /share/PI/sabatti/feat_viz/corr_sim/regime_1/ti_paga_result.csv\n",
      "Regime 1; paga: 0.9771123453832647\n",
      "/share/PI/sabatti/feat_viz/corr_sim/regime_2/data_dict.pkl\n",
      "Number of cells: 1500\n"
     ]
    },
    {
     "name": "stderr",
     "output_type": "stream",
     "text": [
      "Transforming to str index.\n"
     ]
    },
    {
     "name": "stdout",
     "output_type": "stream",
     "text": [
      "computing PCA with n_comps = 50\n",
      "    finished (0:00:01)\n",
      "computing neighbors\n",
      "    using 'X_pca' with n_pcs = 50\n",
      "    finished: added to `.uns['neighbors']`\n",
      "    'distances', distances for each pair of neighbors\n",
      "    'connectivities', weighted adjacency matrix (0:00:00)\n",
      "WARNING: Trying to run `tl.dpt` without prior call of `tl.diffmap`. Falling back to `tl.diffmap` with default parameters.\n",
      "computing Diffusion Maps using n_comps=15(=n_dcs)\n",
      "computing transitions\n",
      "    finished (0:00:00)\n",
      "    eigenvalues of transition matrix\n",
      "    [1.         0.80057794 0.7803046  0.67717874 0.6660923  0.66306657\n",
      "     0.6588101  0.65765303 0.653441   0.65182227 0.6506671  0.6495676\n",
      "     0.64569134 0.6439702  0.64079094]\n",
      "    finished: added\n",
      "    'X_diffmap', diffmap coordinates (adata.obsm)\n",
      "    'diffmap_evals', eigenvalues of transition matrix (adata.uns) (0:00:00)\n",
      "computing Diffusion Pseudotime using n_dcs=10\n",
      "    finished: added\n",
      "    'dpt_pseudotime', the pseudotime (adata.obs) (0:00:00)\n",
      "Saved /share/PI/sabatti/feat_viz/corr_sim/regime_2/ti_paga_result.csv\n",
      "Regime 2; paga: 0.6567961733821182\n",
      "/share/PI/sabatti/feat_viz/corr_sim/regime_2/data_dict.pkl\n",
      "Number of cells: 1500\n"
     ]
    },
    {
     "name": "stderr",
     "output_type": "stream",
     "text": [
      "Transforming to str index.\n"
     ]
    },
    {
     "name": "stdout",
     "output_type": "stream",
     "text": [
      "computing PCA with n_comps = 50\n",
      "    finished (0:00:01)\n",
      "computing neighbors\n",
      "    using 'X_pca' with n_pcs = 50\n",
      "    finished: added to `.uns['neighbors']`\n",
      "    'distances', distances for each pair of neighbors\n",
      "    'connectivities', weighted adjacency matrix (0:00:00)\n",
      "WARNING: Trying to run `tl.dpt` without prior call of `tl.diffmap`. Falling back to `tl.diffmap` with default parameters.\n",
      "computing Diffusion Maps using n_comps=15(=n_dcs)\n",
      "computing transitions\n",
      "    finished (0:00:00)\n",
      "    eigenvalues of transition matrix\n",
      "    [1.         0.80057794 0.7803046  0.67717874 0.6660923  0.66306657\n",
      "     0.6588101  0.65765303 0.653441   0.65182227 0.6506671  0.6495676\n",
      "     0.64569134 0.6439702  0.64079094]\n",
      "    finished: added\n",
      "    'X_diffmap', diffmap coordinates (adata.obsm)\n",
      "    'diffmap_evals', eigenvalues of transition matrix (adata.uns) (0:00:00)\n",
      "computing Diffusion Pseudotime using n_dcs=10\n",
      "    finished: added\n",
      "    'dpt_pseudotime', the pseudotime (adata.obs) (0:00:00)\n",
      "Saved /share/PI/sabatti/feat_viz/corr_sim/regime_2/ti_paga_result.csv\n",
      "Regime 2; paga: 0.6567961733821182\n"
     ]
    }
   ],
   "source": [
    "from io_utils import load_data_from_file\n",
    "from shared_utils import run_palantir_pseudotime, run_paga_pseudotime\n",
    "\n",
    "def load_data_mtx(data_fn):\n",
    "    print(data_fn)\n",
    "    data_dict = load_data_from_file(data_fn, 'pkl') \n",
    "    true_lam = data_dict['lam']\n",
    "    start_index = np.argmin(true_lam)\n",
    "    index = np.arange(len(true_lam)).astype(str)\n",
    "    index[start_index] = 'start_cell'\n",
    "    print('Number of cells: {}'.format(len(true_lam)))\n",
    "    mtx = np.concatenate([data_dict['z'], data_dict['x']], axis=1)\n",
    "    mtx = pd.DataFrame(mtx, index=index)\n",
    "    return mtx, true_lam\n",
    "\n",
    "def run_method_and_save_result(mtx, method, fn):\n",
    "    if method == 'palantir':\n",
    "        pr_res, out_df = run_palantir_pseudotime(mtx, 'start_cell')\n",
    "    if method == 'paga':\n",
    "        adata = sc.AnnData(mtx)\n",
    "        adata = run_paga_pseudotime(adata, 'start_cell')\n",
    "        out_df = adata.obs\n",
    "    out_df.to_csv(fn)\n",
    "    print('Saved {}'.format(fn))\n",
    "    return out_df\n",
    "\n",
    "for regime in range(3):\n",
    "    for method in ['palantir', 'paga']:\n",
    "        method = 'paga'\n",
    "        ddir = '/share/PI/sabatti/feat_viz/corr_sim/'\n",
    "        data_name = 'regime_{}'.format(regime)\n",
    "        data_fn = os.path.join(ddir, data_name, 'data_dict.pkl')\n",
    "        out_fn = 'ti_{}_result.csv'.format(method)\n",
    "        out_fn = os.path.join(ddir, data_name, out_fn)\n",
    "\n",
    "        mtx, true_lam = load_data_mtx(data_fn)\n",
    "        out_df = run_method_and_save_result(mtx, method, out_fn)\n",
    "        # internal evaluation\n",
    "        corr = abs(spearmanr(out_df['pseudotime'], true_lam).correlation)\n",
    "        print('Regime {}; {}: {}'.format(regime, method, corr))"
   ]
  },
  {
   "cell_type": "code",
   "execution_count": null,
   "metadata": {},
   "outputs": [],
   "source": []
  }
 ],
 "metadata": {
  "kernelspec": {
   "display_name": "Python 3",
   "language": "python",
   "name": "python3"
  },
  "language_info": {
   "codemirror_mode": {
    "name": "ipython",
    "version": 3
   },
   "file_extension": ".py",
   "mimetype": "text/x-python",
   "name": "python",
   "nbconvert_exporter": "python",
   "pygments_lexer": "ipython3",
   "version": "3.6.1"
  }
 },
 "nbformat": 4,
 "nbformat_minor": 2
}
