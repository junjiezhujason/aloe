{
 "cells": [
  {
   "cell_type": "code",
   "execution_count": 36,
   "metadata": {},
   "outputs": [
    {
     "name": "stdout",
     "output_type": "stream",
     "text": [
      "The autoreload extension is already loaded. To reload it, use:\n",
      "  %reload_ext autoreload\n",
      "scanpy==1.4.4.post1 anndata==0.6.22.post1 umap==0.3.10 numpy==1.17.2 scipy==1.3.1 pandas==0.25.1 scikit-learn==0.21.3 statsmodels==0.10.1 python-igraph==0.7.1 louvain==0.6.1\n"
     ]
    }
   ],
   "source": [
    "%load_ext autoreload\n",
    "%autoreload 2\n",
    "%matplotlib inline\n",
    "\n",
    "import numpy as np\n",
    "import pandas as pd\n",
    "import matplotlib.pyplot as pl\n",
    "from matplotlib import rcParams\n",
    "import scanpy as sc\n",
    "import palantir\n",
    "\n",
    "sc.settings.verbosity = 3  # verbosity: errors (0), warnings (1), info (2), hints (3)\n",
    "sc.logging.print_versions()\n",
    "sc.settings.set_figure_params(dpi=80, frameon=False)  # low dpi (dots per inch) yields small inline figures\n",
    "sys.path.insert(0,'/home/users/jjzhu/source_code/aloe/src')\n",
    "sys.path.insert(0,'./src')"
   ]
  },
  {
   "cell_type": "code",
   "execution_count": 40,
   "metadata": {},
   "outputs": [],
   "source": [
    "from liver_info import load_processsed_hepatocyte_data\n",
    "\n",
    "dat_dir = \"/share/PI/sabatti/sc_data/liver2k\"\n",
    "res_dir = \"/share/PI/sabatti/feat_viz/real_analysis_result/analysis_060719\"\n",
    "main_dir = os.path.join(dat_dir, \"analysis_on_data_original\")\n",
    "x_k, x_d, obs_df, var_df = load_processsed_hepatocyte_data(main_dir, center=False, scale=False)\n",
    "norm_df = pd.DataFrame(x_d, columns=var_df.gene_ids, index=obs_df.index)"
   ]
  },
  {
   "cell_type": "code",
   "execution_count": 41,
   "metadata": {},
   "outputs": [],
   "source": [
    "from liver_info import load_zonation_result\n",
    "zone_vals = load_zonation_result(dat_dir, just_vals=True)\n",
    "idx = [i for i, v in enumerate(zone_vals) if v ==1]\n",
    "start_cell = obs_df.iloc[idx[0]].name"
   ]
  },
  {
   "cell_type": "code",
   "execution_count": 42,
   "metadata": {},
   "outputs": [
    {
     "name": "stdout",
     "output_type": "stream",
     "text": [
      "Determing nearest neighbor graph...\n",
      "computing neighbors\n",
      "    finished: added to `.uns['neighbors']`\n",
      "    'distances', distances for each pair of neighbors\n",
      "    'connectivities', weighted adjacency matrix (0:00:00)\n",
      "Sampling and flocking waypoints...\n",
      "Time for determining waypoints: 0.03228768110275269 minutes\n",
      "Determining pseudotime...\n",
      "Shortest path distances using 30-nearest neighbor graph...\n",
      "Time for shortest paths: 0.3087550719579061 minutes\n",
      "Iteratively refining the pseudotime...\n",
      "Correlation at iteration 1: 1.0000\n",
      "Entropy and branch probabilities...\n",
      "Markov chain construction...\n",
      "Identification of terminal states...\n",
      "Computing fundamental matrix and absorption probabilities...\n",
      "Project results to all cells...\n"
     ]
    }
   ],
   "source": [
    "from shared_utils import run_palantir_pseudotime\n",
    "pr_res, out_df = run_palantir_pseudotime(norm_df, start_cell)"
   ]
  },
  {
   "cell_type": "code",
   "execution_count": 45,
   "metadata": {},
   "outputs": [
    {
     "data": {
      "text/html": [
       "<div>\n",
       "<style scoped>\n",
       "    .dataframe tbody tr th:only-of-type {\n",
       "        vertical-align: middle;\n",
       "    }\n",
       "\n",
       "    .dataframe tbody tr th {\n",
       "        vertical-align: top;\n",
       "    }\n",
       "\n",
       "    .dataframe thead th {\n",
       "        text-align: right;\n",
       "    }\n",
       "</style>\n",
       "<table border=\"1\" class=\"dataframe\">\n",
       "  <thead>\n",
       "    <tr style=\"text-align: right;\">\n",
       "      <th></th>\n",
       "      <th>pseudotime</th>\n",
       "      <th>zone</th>\n",
       "    </tr>\n",
       "  </thead>\n",
       "  <tbody>\n",
       "    <tr>\n",
       "      <td>pseudotime</td>\n",
       "      <td>1.000000</td>\n",
       "      <td>0.771033</td>\n",
       "    </tr>\n",
       "    <tr>\n",
       "      <td>zone</td>\n",
       "      <td>0.771033</td>\n",
       "      <td>1.000000</td>\n",
       "    </tr>\n",
       "  </tbody>\n",
       "</table>\n",
       "</div>"
      ],
      "text/plain": [
       "            pseudotime      zone\n",
       "pseudotime    1.000000  0.771033\n",
       "zone          0.771033  1.000000"
      ]
     },
     "execution_count": 45,
     "metadata": {},
     "output_type": "execute_result"
    }
   ],
   "source": [
    "# corr_df = df.corr('spearman')\n",
    "out_df['zone'] = zone_vals\n",
    "out_df['cell_id'] = out_df.index\n",
    "df = out_df.drop(['entropy'], axis=1)\n",
    "df.corr('spearman')"
   ]
  },
  {
   "cell_type": "code",
   "execution_count": 46,
   "metadata": {},
   "outputs": [
    {
     "name": "stdout",
     "output_type": "stream",
     "text": [
      "Saved /share/PI/sabatti/feat_viz/real_analysis_result/analysis_060719/hepa_data/ti_methods/palantir_obs_df.csv\n"
     ]
    }
   ],
   "source": [
    "out_dir = '/share/PI/sabatti/feat_viz/real_analysis_result/analysis_060719/hepa_data'\n",
    "fn = os.path.join(out_dir, 'ti_methods', 'palantir_obs_df.csv')\n",
    "out_df.to_csv(fn, index=False)\n",
    "print('Saved {}'.format(fn))"
   ]
  },
  {
   "cell_type": "code",
   "execution_count": null,
   "metadata": {},
   "outputs": [],
   "source": []
  }
 ],
 "metadata": {
  "kernelspec": {
   "display_name": "Python 3",
   "language": "python",
   "name": "python3"
  },
  "language_info": {
   "codemirror_mode": {
    "name": "ipython",
    "version": 3
   },
   "file_extension": ".py",
   "mimetype": "text/x-python",
   "name": "python",
   "nbconvert_exporter": "python",
   "pygments_lexer": "ipython3",
   "version": "3.6.1"
  }
 },
 "nbformat": 4,
 "nbformat_minor": 2
}
