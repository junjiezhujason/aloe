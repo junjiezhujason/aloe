{
 "cells": [
  {
   "cell_type": "code",
   "execution_count": 1,
   "metadata": {},
   "outputs": [
    {
     "name": "stderr",
     "output_type": "stream",
     "text": [
      "/home/users/jjzhu/.ve/ti/lib/python3.6/site-packages/pandas/compat/__init__.py:84: UserWarning: Could not import the lzma module. Your installed Python is incomplete. Attempting to use lzma compression will result in a RuntimeError.\n",
      "  warnings.warn(msg)\n"
     ]
    },
    {
     "name": "stdout",
     "output_type": "stream",
     "text": [
      "scanpy==1.4.4.post1 anndata==0.6.22.post1 umap==0.3.10 numpy==1.17.2 scipy==1.3.1 pandas==0.25.1 scikit-learn==0.21.3 statsmodels==0.10.1 python-igraph==0.7.1 louvain==0.6.1\n"
     ]
    }
   ],
   "source": [
    "%load_ext autoreload\n",
    "%autoreload 2\n",
    "%matplotlib inline\n",
    "\n",
    "import numpy as np\n",
    "import pandas as pd\n",
    "import matplotlib.pyplot as plt\n",
    "from matplotlib import rcParams\n",
    "import scanpy as sc\n",
    "import palantir\n",
    "\n",
    "sc.settings.verbosity = 3  # verbosity: errors (0), warnings (1), info (2), hints (3)\n",
    "sc.logging.print_versions()\n",
    "sc.settings.set_figure_params(dpi=80, frameon=False)  # low dpi (dots per inch) yields small inline figures\n",
    "sys.path.insert(0,'/home/users/jjzhu/source_code/aloe/src')\n",
    "sys.path.insert(0,'./src')"
   ]
  },
  {
   "cell_type": "code",
   "execution_count": 27,
   "metadata": {
    "scrolled": false
   },
   "outputs": [
    {
     "name": "stdout",
     "output_type": "stream",
     "text": [
      "/share/PI/sabatti/feat_viz/corr_sim/regime_0/data_dict.pkl\n",
      "Number of cells: 1500\n",
      "(1500, 922)\n",
      "Determing nearest neighbor graph...\n",
      "computing neighbors\n",
      "    finished: added to `.uns['neighbors']`\n",
      "    'distances', distances for each pair of neighbors\n",
      "    'connectivities', weighted adjacency matrix (0:00:00)\n",
      "Sampling and flocking waypoints...\n",
      "Time for determining waypoints: 0.003908411661783854 minutes\n",
      "Determining pseudotime...\n",
      "Shortest path distances using 30-nearest neighbor graph...\n",
      "Time for shortest paths: 0.05874452988306681 minutes\n",
      "Iteratively refining the pseudotime...\n",
      "Correlation at iteration 1: 1.0000\n",
      "Entropy and branch probabilities...\n",
      "Markov chain construction...\n",
      "Identification of terminal states...\n",
      "Computing fundamental matrix and absorption probabilities...\n",
      "Project results to all cells...\n"
     ]
    },
    {
     "name": "stderr",
     "output_type": "stream",
     "text": [
      "Transforming to str index.\n"
     ]
    },
    {
     "name": "stdout",
     "output_type": "stream",
     "text": [
      "Saved /share/PI/sabatti/feat_viz/corr_sim/regime_0/ti_palantir_result_SV_only.csv\n",
      "Regime 0; palantir: 0.9990925969300432\n",
      "computing PCA with n_comps = 50\n",
      "    finished (0:00:00)\n",
      "computing neighbors\n",
      "    using 'X_pca' with n_pcs = 50\n",
      "    finished: added to `.uns['neighbors']`\n",
      "    'distances', distances for each pair of neighbors\n",
      "    'connectivities', weighted adjacency matrix (0:00:00)\n",
      "WARNING: Trying to run `tl.dpt` without prior call of `tl.diffmap`. Falling back to `tl.diffmap` with default parameters.\n",
      "computing Diffusion Maps using n_comps=15(=n_dcs)\n",
      "computing transitions\n",
      "    finished (0:00:00)\n",
      "    eigenvalues of transition matrix\n",
      "    [1.         0.9975364  0.99107105 0.97778195 0.96141744 0.9372904\n",
      "     0.91699713 0.8799593  0.8471005  0.82443863 0.79078645 0.7401439\n",
      "     0.7168383  0.67207986 0.65831697]\n",
      "    finished: added\n",
      "    'X_diffmap', diffmap coordinates (adata.obsm)\n",
      "    'diffmap_evals', eigenvalues of transition matrix (adata.uns) (0:00:00)\n",
      "computing Diffusion Pseudotime using n_dcs=10\n",
      "    finished: added\n",
      "    'dpt_pseudotime', the pseudotime (adata.obs) (0:00:00)\n",
      "Saved /share/PI/sabatti/feat_viz/corr_sim/regime_0/ti_paga_result_SV_only.csv\n",
      "Regime 0; paga: 0.9922971236876106\n",
      "/share/PI/sabatti/feat_viz/corr_sim/regime_1/data_dict.pkl\n",
      "Number of cells: 1500\n",
      "(1500, 1086)\n",
      "Determing nearest neighbor graph...\n",
      "computing neighbors\n",
      "    finished: added to `.uns['neighbors']`\n",
      "    'distances', distances for each pair of neighbors\n",
      "    'connectivities', weighted adjacency matrix (0:00:00)\n",
      "Sampling and flocking waypoints...\n",
      "Time for determining waypoints: 0.003932432333628336 minutes\n",
      "Determining pseudotime...\n",
      "Shortest path distances using 30-nearest neighbor graph...\n",
      "Time for shortest paths: 0.0605050802230835 minutes\n",
      "Iteratively refining the pseudotime...\n",
      "Correlation at iteration 1: 1.0000\n",
      "Entropy and branch probabilities...\n",
      "Markov chain construction...\n",
      "Identification of terminal states...\n",
      "Computing fundamental matrix and absorption probabilities...\n",
      "Project results to all cells...\n"
     ]
    },
    {
     "name": "stderr",
     "output_type": "stream",
     "text": [
      "Transforming to str index.\n"
     ]
    },
    {
     "name": "stdout",
     "output_type": "stream",
     "text": [
      "Saved /share/PI/sabatti/feat_viz/corr_sim/regime_1/ti_palantir_result_SV_only.csv\n",
      "Regime 1; palantir: 0.9986139122728499\n",
      "computing PCA with n_comps = 50\n",
      "    finished (0:00:00)\n",
      "computing neighbors\n",
      "    using 'X_pca' with n_pcs = 50\n",
      "    finished: added to `.uns['neighbors']`\n",
      "    'distances', distances for each pair of neighbors\n",
      "    'connectivities', weighted adjacency matrix (0:00:00)\n",
      "WARNING: Trying to run `tl.dpt` without prior call of `tl.diffmap`. Falling back to `tl.diffmap` with default parameters.\n",
      "computing Diffusion Maps using n_comps=15(=n_dcs)\n",
      "computing transitions\n",
      "    finished (0:00:00)\n",
      "    eigenvalues of transition matrix\n",
      "    [1.         0.9949939  0.98284084 0.9539886  0.921836   0.8703824\n",
      "     0.83716017 0.7793777  0.73826206 0.72816396 0.7175024  0.7134884\n",
      "     0.7047496  0.69504577 0.69010943]\n",
      "    finished: added\n",
      "    'X_diffmap', diffmap coordinates (adata.obsm)\n",
      "    'diffmap_evals', eigenvalues of transition matrix (adata.uns) (0:00:00)\n",
      "computing Diffusion Pseudotime using n_dcs=10\n",
      "    finished: added\n",
      "    'dpt_pseudotime', the pseudotime (adata.obs) (0:00:00)\n",
      "Saved /share/PI/sabatti/feat_viz/corr_sim/regime_1/ti_paga_result_SV_only.csv\n",
      "Regime 1; paga: 0.9913785348349045\n",
      "/share/PI/sabatti/feat_viz/corr_sim/regime_2/data_dict.pkl\n",
      "Number of cells: 1500\n",
      "(1500, 1707)\n",
      "Determing nearest neighbor graph...\n",
      "computing neighbors\n",
      "    finished: added to `.uns['neighbors']`\n",
      "    'distances', distances for each pair of neighbors\n",
      "    'connectivities', weighted adjacency matrix (0:00:00)\n",
      "Sampling and flocking waypoints...\n",
      "Time for determining waypoints: 0.006499322255452474 minutes\n",
      "Determining pseudotime...\n",
      "Shortest path distances using 30-nearest neighbor graph...\n",
      "Time for shortest paths: 0.06425954103469848 minutes\n",
      "Iteratively refining the pseudotime...\n",
      "Correlation at iteration 1: 1.0000\n",
      "Entropy and branch probabilities...\n",
      "Markov chain construction...\n",
      "Identification of terminal states...\n",
      "Computing fundamental matrix and absorption probabilities...\n",
      "Project results to all cells...\n"
     ]
    },
    {
     "name": "stderr",
     "output_type": "stream",
     "text": [
      "Transforming to str index.\n"
     ]
    },
    {
     "name": "stdout",
     "output_type": "stream",
     "text": [
      "Saved /share/PI/sabatti/feat_viz/corr_sim/regime_2/ti_palantir_result_SV_only.csv\n",
      "Regime 2; palantir: 0.9971830103035603\n",
      "computing PCA with n_comps = 50\n",
      "    finished (0:00:00)\n",
      "computing neighbors\n",
      "    using 'X_pca' with n_pcs = 50\n",
      "    finished: added to `.uns['neighbors']`\n",
      "    'distances', distances for each pair of neighbors\n",
      "    'connectivities', weighted adjacency matrix (0:00:00)\n",
      "WARNING: Trying to run `tl.dpt` without prior call of `tl.diffmap`. Falling back to `tl.diffmap` with default parameters.\n",
      "computing Diffusion Maps using n_comps=15(=n_dcs)\n",
      "computing transitions\n",
      "    finished (0:00:00)\n",
      "    eigenvalues of transition matrix\n",
      "    [1.         0.98440903 0.94863325 0.8682447  0.8171155  0.81241107\n",
      "     0.81110495 0.80337924 0.79680645 0.79377115 0.79140455 0.7869335\n",
      "     0.78404623 0.78002095 0.7731574 ]\n",
      "    finished: added\n",
      "    'X_diffmap', diffmap coordinates (adata.obsm)\n",
      "    'diffmap_evals', eigenvalues of transition matrix (adata.uns) (0:00:00)\n",
      "computing Diffusion Pseudotime using n_dcs=10\n",
      "    finished: added\n",
      "    'dpt_pseudotime', the pseudotime (adata.obs) (0:00:00)\n",
      "Saved /share/PI/sabatti/feat_viz/corr_sim/regime_2/ti_paga_result_SV_only.csv\n",
      "Regime 2; paga: 0.9889696164309407\n"
     ]
    }
   ],
   "source": [
    "from io_utils import load_data_from_file\n",
    "from shared_utils import run_palantir_pseudotime, run_paga_pseudotime\n",
    "from scipy.stats import spearmanr\n",
    "\n",
    "def load_data_mtx(data_fn):\n",
    "    print(data_fn)\n",
    "    data_dict = load_data_from_file(data_fn, 'pkl') \n",
    "    true_lam = data_dict['lam']\n",
    "    start_index = np.argmin(true_lam)\n",
    "    index = np.arange(len(true_lam)).astype(str)\n",
    "    index[start_index] = 'start_cell'\n",
    "    print('Number of cells: {}'.format(len(true_lam)))\n",
    "    mtx = np.concatenate([data_dict['z'], data_dict['x']], axis=1)\n",
    "    n_lm_genes = data_dict['z'].shape[1]\n",
    "    mtx = pd.DataFrame(mtx, index=index)\n",
    "    return mtx, true_lam, n_lm_genes\n",
    "\n",
    "def run_method_and_save_result(mtx, method, fn):\n",
    "    if method == 'palantir':\n",
    "        pr_res, out_df = run_palantir_pseudotime(mtx, 'start_cell')\n",
    "    if method == 'paga':\n",
    "        adata = sc.AnnData(mtx)\n",
    "        adata = run_paga_pseudotime(adata, 'start_cell')\n",
    "        out_df = adata.obs\n",
    "    out_df.to_csv(fn)\n",
    "    print('Saved {}'.format(fn))\n",
    "    return out_df\n",
    "\n",
    "for regime in range(3):\n",
    "    ddir = '/share/PI/sabatti/feat_viz/corr_sim/'\n",
    "    data_name = 'regime_{}'.format(regime)\n",
    "    data_fn = os.path.join(ddir, data_name, 'data_dict.pkl')\n",
    "    mtx, true_lam, n_lm_genes = load_data_mtx(data_fn)\n",
    "    # load the SV genes from GLISS\n",
    "    rfn = os.path.join(ddir, 'regime_{}'.format(regime), 'method_result.pkl')\n",
    "    rej_idx = load_data_from_file(rfn, 'pkl')[\"rejections\"]\n",
    "    # use the LM genes + the SV genes selected from GLISS\n",
    "    use_idx = list(np.arange(n_lm_genes))  + list(rej_idx + n_lm_genes)\n",
    "    mtx = mtx[use_idx] # because mtx is a pd.DataFrame()\n",
    "    print(mtx.shape)\n",
    "    for method in ['palantir', 'paga']:\n",
    "        out_fn = 'ti_{}_result_SV_only.csv'.format(method)\n",
    "        out_fn = os.path.join(ddir, data_name, out_fn)\n",
    "        out_df = run_method_and_save_result(mtx, method, out_fn)\n",
    "        # internal evaluation\n",
    "        corr = abs(spearmanr(out_df['pseudotime'], true_lam).correlation)\n",
    "        print('Regime {}; {}: {}'.format(regime, method, corr))"
   ]
  }
 ],
 "metadata": {
  "kernelspec": {
   "display_name": "Python 3",
   "language": "python",
   "name": "python3"
  },
  "language_info": {
   "codemirror_mode": {
    "name": "ipython",
    "version": 3
   },
   "file_extension": ".py",
   "mimetype": "text/x-python",
   "name": "python",
   "nbconvert_exporter": "python",
   "pygments_lexer": "ipython3",
   "version": "3.6.1"
  }
 },
 "nbformat": 4,
 "nbformat_minor": 2
}
