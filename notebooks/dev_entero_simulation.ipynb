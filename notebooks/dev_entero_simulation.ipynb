{
 "cells": [
  {
   "cell_type": "code",
   "execution_count": 1,
   "metadata": {},
   "outputs": [],
   "source": [
    "%load_ext autoreload\n",
    "%autoreload 2\n",
    "%matplotlib inline\n",
    "from IPython.display import display\n",
    "import sys\n",
    "import os\n",
    "import logging\n",
    "import numpy as np\n",
    "import pandas as pd\n",
    "import seaborn as sns\n",
    "import matplotlib.pyplot as plt\n",
    "\n",
    "logger = logging.getLogger(\"feat_viz\")\n",
    "logging.basicConfig(format='[%(name)s %(levelname)s] %(message)s', level=logging.INFO)\n",
    "\n",
    "sys.path.insert(0,'../src')\n",
    "import matplotlib as mpl\n",
    "mpl.rcParams['figure.dpi']= 100"
   ]
  },
  {
   "cell_type": "markdown",
   "metadata": {},
   "source": [
    "# Test the Gaussian additive noise model with correlation"
   ]
  },
  {
   "cell_type": "code",
   "execution_count": 108,
   "metadata": {},
   "outputs": [
    {
     "name": "stderr",
     "output_type": "stream",
     "text": [
      "[feat_viz INFO] {'Crypt': 0, 'V1': 1, 'V2': 2, 'V3': 3, 'V4': 4, 'V5': 5, 'V6': 6}\n",
      "[feat_viz INFO] Loaded 453 genes\n",
      "[feat_viz INFO] Kept 243 genes with max expr > 0.001 \n",
      "[feat_viz INFO] Kept 45 high zone genes with geom avg > 3.5 \n",
      "[feat_viz INFO] Kept 64 low zone genes with geom avg < 2.5 \n",
      "[feat_viz INFO] Number of original lm genes: 109\n",
      "[feat_viz INFO] Number of intersecting lm genes: 97\n"
     ]
    },
    {
     "data": {
      "image/png": "[encoded data removed]",
      "text/plain": [
       "<Figure size 432x288 with 1 Axes>"
      ]
     },
     "metadata": {},
     "output_type": "display_data"
    }
   ],
   "source": [
    "from intestine_info import load_processed_enterocyte_data, get_intestine_rna_lm_genes\n",
    "from intestine_info import load_original_entero_zonation\n",
    "from intestine_info import get_intersect_lm_genes\n",
    "from sim_utils import add_correlated_noise\n",
    "\n",
    "res_dir = \"/share/PI/sabatti/feat_viz/real_analysis_result/analysis_060719\"\n",
    "obs_df, var_df, mtx = load_processed_enterocyte_data(res_dir)\n",
    "zone_vals = load_original_entero_zonation(just_vals=True)\n",
    "lm_genes = get_intersect_lm_genes(var_df)\n",
    "plt.hist(mtx.flatten(), bins=50)\n",
    "plt.show()\n",
    "noise_struct = {\"model\": \"normal\", \"block_size\": 200, \"corr_value\": 0.3}\n",
    "mtx = add_correlated_noise(mtx, noise_struct, trunc=False, scale=0.6)\n",
    "plt.hist(mtx.flatten(), bins=50)\n",
    "plt.show()"
   ]
  },
  {
   "cell_type": "code",
   "execution_count": 109,
   "metadata": {},
   "outputs": [
    {
     "data": {
      "image/png": "[encoded data removed]",
      "text/plain": [
       "<Figure size 432x288 with 1 Axes>"
      ]
     },
     "metadata": {},
     "output_type": "display_data"
    }
   ],
   "source": []
  },
  {
   "cell_type": "code",
   "execution_count": 110,
   "metadata": {},
   "outputs": [
    {
     "name": "stdout",
     "output_type": "stream",
     "text": [
      "/share/PI/sabatti/feat_viz/real_analysis_result/analysis_060719/entero_data/simulations/test\n"
     ]
    }
   ],
   "source": [
    "from scrna_utils import get_gene_df\n",
    "from main_methods import run_procedure, run_unsupervised, evaluate_result\n",
    "sim_name = \"test\"\n",
    "RDIR = os.path.join(res_dir, \"entero_data\", \"simulations\", sim_name)\n",
    "os.makedirs(RDIR, exist_ok=True)\n",
    "print(RDIR)"
   ]
  },
  {
   "cell_type": "code",
   "execution_count": 111,
   "metadata": {},
   "outputs": [
    {
     "name": "stderr",
     "output_type": "stream",
     "text": [
      "[feat_viz INFO] Saving results to: /share/PI/sabatti/feat_viz/real_analysis_result/analysis_060719/entero_data/simulations/test/lam_graph_unsupervised.plk\n",
      "[feat_viz INFO] Saving results to: /share/PI/sabatti/feat_viz/real_analysis_result/analysis_060719/entero_data/simulations/test/lam_pc_unsupervised.plk\n",
      "[feat_viz INFO] Running pc-based procedure\n",
      "[feat_viz INFO] Inferred initial latent variables\n",
      "[feat_viz INFO] Selecting pc-based features...\n",
      "[feat_viz INFO] Updated latent variables...\n",
      "[feat_viz INFO] Saving results to: /share/PI/sabatti/feat_viz/real_analysis_result/analysis_060719/entero_data/simulations/test/result_pc_vanilla.plk\n",
      "[feat_viz INFO] Running graph-based procedure\n",
      "[feat_viz INFO] Inferred initial latent variables\n",
      "[feat_viz INFO] Selecting graph-based features...\n",
      "[feat_viz INFO] Updated latent variables...\n",
      "[feat_viz INFO] Saving results to: /share/PI/sabatti/feat_viz/real_analysis_result/analysis_060719/entero_data/simulations/test/result_graph_vanilla.plk\n"
     ]
    }
   ],
   "source": [
    "from scrna_utils import split_by_lm_genes\n",
    "mat_a, mat_b = split_by_lm_genes(lm_genes, var_df, mtx)\n",
    "def run_all_methods(mat_a, mat_b, RDIR):\n",
    "    params = {\n",
    "    \"method\": None,\n",
    "    \"n_perms\": 10000,\n",
    "    \"perm_method\": \"pool\",\n",
    "    \"alpha\": 0.05, \n",
    "    \"graph_k\": 10,\n",
    "    }\n",
    "    for method in [\"graph\", \"pc\"]:\n",
    "        params[\"method\"] = method\n",
    "        name = \"unsup_{}\".format(method)\n",
    "        fn =  \"lam_{}_unsupervised.plk\".format(method)\n",
    "        fn = os.path.join(RDIR, fn)\n",
    "        result = run_unsupervised(mat_a, mat_b, params, fn=fn)\n",
    "    for method in [\"pc\", \"graph\"]:\n",
    "        for mtype in [\"vanilla\"]:\n",
    "            lam_in = None\n",
    "            params[\"method\"] = method\n",
    "            fn =  \"result_{}_{}.plk\".format(method, mtype)\n",
    "            fn = os.path.join(RDIR, fn)\n",
    "            result = run_procedure(mat_a, mat_b, params, lam_in=lam_in, fn=fn)\n",
    "run_all_methods(mat_a, mat_b, RDIR)"
   ]
  },
  {
   "cell_type": "code",
   "execution_count": 112,
   "metadata": {},
   "outputs": [
    {
     "name": "stderr",
     "output_type": "stream",
     "text": [
      "[feat_viz WARNING] /share/PI/sabatti/feat_viz/real_analysis_result/analysis_060719/entero_data/simulations/test/result_pc_oracle.plk does not exist\n",
      "[feat_viz WARNING] /share/PI/sabatti/feat_viz/real_analysis_result/analysis_060719/entero_data/simulations/test/result_graph_oracle.plk does not exist\n",
      "[feat_viz WARNING] /share/PI/sabatti/feat_viz/real_analysis_result/analysis_060719/entero_data/simulations/test/result_hybrid_vanilla.plk does not exist\n",
      "[feat_viz WARNING] /share/PI/sabatti/feat_viz/real_analysis_result/analysis_060719/entero_data/simulations/test/result_hybrid_oracle.plk does not exist\n"
     ]
    },
    {
     "name": "stdout",
     "output_type": "stream",
     "text": [
      "graph rejected 6090\n",
      "pc rejected 4689\n",
      "graph_vanilla_lam_init      0.966172\n",
      "graph_vanilla_lam_update    0.952388\n",
      "pc_vanilla_lam_init         0.923853\n",
      "pc_vanilla_lam_update       0.951273\n",
      "unsup_graph                 0.946429\n",
      "unsup_pc                    0.943525\n",
      "dtype: float64\n"
     ]
    }
   ],
   "source": [
    "from io_utils import load_all_pipeline_results\n",
    "from plot_utils import plot_corr_mtx\n",
    "from scipy.stats import spearmanr\n",
    "\n",
    "pipe_res, all_lams = load_all_pipeline_results(RDIR)\n",
    "# all_lams[\"smFISH\"] = zone_vals\n",
    "mopts = [\"graph\", \"pc\"]\n",
    "mtypes = [\"vanilla\"]\n",
    "corr_vec = {}\n",
    "for method in mopts:\n",
    "    name = 'unsup_{}'.format(method)\n",
    "    corr_vec[name] = abs(spearmanr(all_lams[name], zone_vals).correlation)\n",
    "    for mtype in mtypes:\n",
    "        key = \"{}_{}\".format(method, mtype)\n",
    "        result = pipe_res[key] \n",
    "        print('{} rejected {}'.format(method, len(result['rejections'])))\n",
    "        for lam_t in [\"lam_init\", \"lam_update\"]:\n",
    "            name = \"{}_{}\".format(key, lam_t)\n",
    "#             all_lams[name] = result[lam_t]\n",
    "            corr_vec[name] = abs(spearmanr(result[lam_t], zone_vals).correlation)\n",
    "print(pd.Series(corr_vec).sort_index())"
   ]
  },
  {
   "cell_type": "code",
   "execution_count": 72,
   "metadata": {},
   "outputs": [
    {
     "data": {
      "text/plain": [
       "{'pc_vanilla': {'lam_init': array([-0.39077664, -2.72309097,  2.07908196, ..., -1.57744346,\n",
       "         -4.5229952 ,  3.84846275]),\n",
       "  'lam_update': array([  5.51217848, -10.88510031, -13.45512035, ...,  11.76123746,\n",
       "         -20.60101305,   4.15497925]),\n",
       "  'p_vals': array([9.99900010e-05, 9.41105889e-01, 4.27957204e-02, ...,\n",
       "         6.10738926e-01, 8.02619738e-01, 7.40225977e-01]),\n",
       "  'rejections': array([   0,   16,   20, ..., 9550, 9551, 9553])},\n",
       " 'graph_vanilla': {'lam_init': array([-0.00185433, -0.02648893,  0.02569602, ..., -0.01675894,\n",
       "         -0.03681887,  0.03988336]),\n",
       "  'lam_update': array([ 0.03215214,  0.01137052, -0.0062811 , ..., -0.00147472,\n",
       "         -0.00837623, -0.01937158]),\n",
       "  'p_vals': array([9.99900010e-05, 9.99900010e-05, 9.99900010e-05, ...,\n",
       "         8.05019498e-01, 8.95810419e-01, 5.67543246e-01]),\n",
       "  'rejections': array([   0,    1,    2, ..., 9547, 9550, 9553])}}"
      ]
     },
     "execution_count": 72,
     "metadata": {},
     "output_type": "execute_result"
    }
   ],
   "source": [
    "pipe_res"
   ]
  },
  {
   "cell_type": "code",
   "execution_count": 33,
   "metadata": {},
   "outputs": [
    {
     "name": "stderr",
     "output_type": "stream",
     "text": [
      "[feat_viz WARNING] /share/PI/sabatti/feat_viz/real_analysis_result/analysis_060719/entero_data/simulations/test/result_pc_oracle.plk does not exist\n",
      "[feat_viz WARNING] /share/PI/sabatti/feat_viz/real_analysis_result/analysis_060719/entero_data/simulations/test/result_graph_oracle.plk does not exist\n",
      "[feat_viz WARNING] /share/PI/sabatti/feat_viz/real_analysis_result/analysis_060719/entero_data/simulations/test/result_hybrid_vanilla.plk does not exist\n",
      "[feat_viz WARNING] /share/PI/sabatti/feat_viz/real_analysis_result/analysis_060719/entero_data/simulations/test/result_hybrid_oracle.plk does not exist\n"
     ]
    },
    {
     "name": "stdout",
     "output_type": "stream",
     "text": [
      "palantir\n",
      "paga\n"
     ]
    },
    {
     "data": {
      "image/png": "[encoded data removed]",
      "text/plain": [
       "<Figure size 324x324 with 2 Axes>"
      ]
     },
     "metadata": {},
     "output_type": "display_data"
    }
   ],
   "source": [
    "# add lambdas from ti methods\n",
    "mdir = '/share/PI/sabatti/feat_viz/real_analysis_result/analysis_060719/entero_data/ti_methods'\n",
    "names = ['palantir', 'paga']\n",
    "for name in names:\n",
    "    fn = os.path.join(mdir, '{}_obs_df.csv'.format(name))\n",
    "    df = pd.read_csv(fn)\n",
    "    df = df.set_index('cell_id')\n",
    "    df = df.loc[obs_df['cell_id']]\n",
    "    print(name)\n",
    "    all_lams[name] = df['pseudotime']\n",
    "\n",
    "lam_df = pd.DataFrame(all_lams)\n",
    "# manually switch signs\n",
    "switch_signs = [\"graph_vanilla_lam_init\", \n",
    "                \"graph_vanilla_lam_update\",\n",
    "                \"pc_vanilla_lam_update\",\n",
    "                \"unsup_graph\",\n",
    "                \"unsup_pc\"]\n",
    "for var in switch_signs:\n",
    "    lam_df[var] = - lam_df[var]\n",
    "# select and rename here\n",
    "\n",
    "methods = [\"smFISH\", \n",
    "           \"graph_vanilla_lam_init\", \n",
    "           \"pc_vanilla_lam_init\", \n",
    "           \"graph_vanilla_lam_update\", \n",
    "           \"pc_vanilla_lam_update\",\n",
    "           \"unsup_graph\",\n",
    "           \"unsup_pc\",\n",
    "#            \"palantir\", \n",
    "#            \"paga\"\n",
    "          ]\n",
    "select_vars = {\n",
    "    \"smFISH\": r\"$\\pi^\\mathtt{B}$\",\n",
    "    \"graph_vanilla_lam_init\": r\"$\\pi^\\mathtt{G}$\",\n",
    "    \"pc_vanilla_lam_init\": r\"$\\pi^\\mathtt{P}$\",\n",
    "    \"graph_vanilla_lam_update\": r\"$\\xi^\\mathtt{G}$\",\n",
    "    \"pc_vanilla_lam_update\": r\"$\\xi^\\mathtt{P}$\",\n",
    "    \"unsup_graph\": r\"$\\omega^\\mathtt{G}$\",\n",
    "    \"unsup_pc\": r\"$\\omega^\\mathtt{P}$\",\n",
    "#     \"palantir\": r\"$\\omega^\\mathtt{1}$\",\n",
    "#     \"paga\" : r\"$\\omega^\\mathtt{2}$\",\n",
    "}\n",
    "sub_df = lam_df[list(select_vars.keys())]\n",
    "sub_df = sub_df.rename(index=str, columns=select_vars)\n",
    "sub_df.head()\n",
    "plot_corr_mtx(sub_df, vmin=0.9)"
   ]
  },
  {
   "cell_type": "code",
   "execution_count": 29,
   "metadata": {},
   "outputs": [
    {
     "name": "stderr",
     "output_type": "stream",
     "text": [
      "[feat_viz INFO] Running pc-based procedure\n",
      "[feat_viz INFO] Inferred initial latent variables\n",
      "[feat_viz INFO] Selecting pc-based features...\n",
      "[feat_viz INFO] Updated latent variables...\n",
      "[feat_viz INFO] Saving results to: /share/PI/sabatti/feat_viz/real_analysis_result/analysis_060719/entero_data/simulations/test/result_pc_vanilla.plk\n",
      "[feat_viz INFO] Running graph-based procedure\n",
      "[feat_viz INFO] Inferred initial latent variables\n",
      "[feat_viz INFO] Selecting graph-based features...\n",
      "[feat_viz INFO] Updated latent variables...\n",
      "[feat_viz INFO] Saving results to: /share/PI/sabatti/feat_viz/real_analysis_result/analysis_060719/entero_data/simulations/test/result_graph_vanilla.plk\n"
     ]
    }
   ],
   "source": []
  },
  {
   "cell_type": "code",
   "execution_count": null,
   "metadata": {},
   "outputs": [],
   "source": []
  }
 ],
 "metadata": {
  "kernelspec": {
   "display_name": "Python 3",
   "language": "python",
   "name": "python3"
  },
  "language_info": {
   "codemirror_mode": {
    "name": "ipython",
    "version": 3
   },
   "file_extension": ".py",
   "mimetype": "text/x-python",
   "name": "python",
   "nbconvert_exporter": "python",
   "pygments_lexer": "ipython3",
   "version": "3.6.1"
  }
 },
 "nbformat": 4,
 "nbformat_minor": 2
}
