{
 "cells": [
  {
   "cell_type": "code",
   "execution_count": 1,
   "metadata": {},
   "outputs": [],
   "source": [
    "%load_ext autoreload\n",
    "%autoreload 2\n",
    "%matplotlib inline\n",
    "from IPython.display import display\n",
    "import sys\n",
    "import os\n",
    "import logging\n",
    "\n",
    "sys.path.insert(0,'../src')\n",
    "import matplotlib as mpl\n",
    "mpl.rcParams['figure.dpi']= 100"
   ]
  },
  {
   "cell_type": "code",
   "execution_count": 18,
   "metadata": {},
   "outputs": [],
   "source": [
    "import numpy as np\n",
    "import pandas as pd\n",
    "import matplotlib.pyplot as plt\n",
    "import seaborn as sns"
   ]
  },
  {
   "cell_type": "code",
   "execution_count": 47,
   "metadata": {},
   "outputs": [],
   "source": [
    "from io_utils import load_data_from_file\n",
    "from main_methods import select_spatial_genes\n",
    "from sim_utils import evaluate_rejections\n",
    "from general_utils import norm_mtx\n",
    "sns.set(style=\"whitegrid\")\n",
    "\n",
    "\n",
    "def load_results(method, sim_dir):\n",
    "    sim_fn = os.path.join(sim_dir, 'sim_setup.csv')\n",
    "    sim_df = load_data_from_file(sim_fn, 'csv')\n",
    "    meth_dir = 'result_{}'.format(method)\n",
    "    meth_dir = os.path.join(sim_dir, meth_dir)\n",
    "    eval_fn = 'eval_{}.csv'.format(method)\n",
    "    eval_fn = os.path.join(sim_dir, eval_fn)\n",
    "    eval_df = load_data_from_file(eval_fn, 'csv')\n",
    "    eval_df = sim_df[['seed', 'temp']].join(eval_df)\n",
    "    eval_df['method'] = method\n",
    "    return eval_df\n",
    "\n",
    "def load_simulation(sim_dir):\n",
    "    method = 'ours'\n",
    "    df_list = []\n",
    "    for method in ['ours', 'spatialde', 'scgco']:\n",
    "        sdf = load_results(method, sim_dir)\n",
    "        df_list.append(sdf)\n",
    "    df = pd.concat(df_list)\n",
    "    display(df.shape)\n",
    "    display(df.head())\n",
    "    return df\n",
    "\n",
    "def plot_comp(df, metric):\n",
    "    fig, ax = plt.subplots(1, 1, figsize=(6, 3))\n",
    "    sns.boxplot(x='temp', y=metric, hue='method', data=df, \n",
    "                palette=\"Set1\", ax=ax)\n",
    "    ax.legend(loc='center left', bbox_to_anchor=(1, 0.5))\n",
    "    plt.show()"
   ]
  },
  {
   "cell_type": "code",
   "execution_count": 48,
   "metadata": {},
   "outputs": [
    {
     "data": {
      "text/plain": [
       "(240, 5)"
      ]
     },
     "metadata": {},
     "output_type": "display_data"
    },
    {
     "data": {
      "text/html": [
       "<div>\n",
       "<style scoped>\n",
       "    .dataframe tbody tr th:only-of-type {\n",
       "        vertical-align: middle;\n",
       "    }\n",
       "\n",
       "    .dataframe tbody tr th {\n",
       "        vertical-align: top;\n",
       "    }\n",
       "\n",
       "    .dataframe thead th {\n",
       "        text-align: right;\n",
       "    }\n",
       "</style>\n",
       "<table border=\"1\" class=\"dataframe\">\n",
       "  <thead>\n",
       "    <tr style=\"text-align: right;\">\n",
       "      <th></th>\n",
       "      <th>seed</th>\n",
       "      <th>temp</th>\n",
       "      <th>FDP</th>\n",
       "      <th>Power</th>\n",
       "      <th>method</th>\n",
       "    </tr>\n",
       "  </thead>\n",
       "  <tbody>\n",
       "    <tr>\n",
       "      <th>0</th>\n",
       "      <td>0</td>\n",
       "      <td>linear</td>\n",
       "      <td>0.037500</td>\n",
       "      <td>0.77</td>\n",
       "      <td>ours</td>\n",
       "    </tr>\n",
       "    <tr>\n",
       "      <th>1</th>\n",
       "      <td>0</td>\n",
       "      <td>diaquad</td>\n",
       "      <td>0.012346</td>\n",
       "      <td>0.80</td>\n",
       "      <td>ours</td>\n",
       "    </tr>\n",
       "    <tr>\n",
       "      <th>2</th>\n",
       "      <td>0</td>\n",
       "      <td>radial</td>\n",
       "      <td>0.048780</td>\n",
       "      <td>0.78</td>\n",
       "      <td>ours</td>\n",
       "    </tr>\n",
       "    <tr>\n",
       "      <th>3</th>\n",
       "      <td>0</td>\n",
       "      <td>cosine</td>\n",
       "      <td>0.050633</td>\n",
       "      <td>0.75</td>\n",
       "      <td>ours</td>\n",
       "    </tr>\n",
       "    <tr>\n",
       "      <th>4</th>\n",
       "      <td>1</td>\n",
       "      <td>linear</td>\n",
       "      <td>0.012987</td>\n",
       "      <td>0.76</td>\n",
       "      <td>ours</td>\n",
       "    </tr>\n",
       "  </tbody>\n",
       "</table>\n",
       "</div>"
      ],
      "text/plain": [
       "   seed     temp       FDP  Power method\n",
       "0     0   linear  0.037500   0.77   ours\n",
       "1     0  diaquad  0.012346   0.80   ours\n",
       "2     0   radial  0.048780   0.78   ours\n",
       "3     0   cosine  0.050633   0.75   ours\n",
       "4     1   linear  0.012987   0.76   ours"
      ]
     },
     "metadata": {},
     "output_type": "display_data"
    },
    {
     "data": {
      "image/png": "[encoded data removed]",
      "text/plain": [
       "<Figure size 432x216 with 1 Axes>"
      ]
     },
     "metadata": {},
     "output_type": "display_data"
    },
    {
     "data": {
      "image/png": "[encoded data removed]",
      "text/plain": [
       "<Figure size 432x216 with 1 Axes>"
      ]
     },
     "metadata": {},
     "output_type": "display_data"
    }
   ],
   "source": [
    "sim_dir = '/scratch/PI/sabatti/space_comp_sim/20191104'\n",
    "df1 = load_simulation(sim_dir)\n",
    "plot_comp(df1, 'Power')\n",
    "plot_comp(df1, 'FDP')"
   ]
  },
  {
   "cell_type": "code",
   "execution_count": 41,
   "metadata": {},
   "outputs": [
    {
     "data": {
      "text/plain": [
       "(240, 5)"
      ]
     },
     "metadata": {},
     "output_type": "display_data"
    },
    {
     "data": {
      "text/html": [
       "<div>\n",
       "<style scoped>\n",
       "    .dataframe tbody tr th:only-of-type {\n",
       "        vertical-align: middle;\n",
       "    }\n",
       "\n",
       "    .dataframe tbody tr th {\n",
       "        vertical-align: top;\n",
       "    }\n",
       "\n",
       "    .dataframe thead th {\n",
       "        text-align: right;\n",
       "    }\n",
       "</style>\n",
       "<table border=\"1\" class=\"dataframe\">\n",
       "  <thead>\n",
       "    <tr style=\"text-align: right;\">\n",
       "      <th></th>\n",
       "      <th>seed</th>\n",
       "      <th>temp</th>\n",
       "      <th>FDP</th>\n",
       "      <th>Power</th>\n",
       "      <th>method</th>\n",
       "    </tr>\n",
       "  </thead>\n",
       "  <tbody>\n",
       "    <tr>\n",
       "      <th>0</th>\n",
       "      <td>0</td>\n",
       "      <td>linear</td>\n",
       "      <td>0.029126</td>\n",
       "      <td>1.00</td>\n",
       "      <td>ours</td>\n",
       "    </tr>\n",
       "    <tr>\n",
       "      <th>1</th>\n",
       "      <td>0</td>\n",
       "      <td>diaquad</td>\n",
       "      <td>0.030000</td>\n",
       "      <td>0.97</td>\n",
       "      <td>ours</td>\n",
       "    </tr>\n",
       "    <tr>\n",
       "      <th>2</th>\n",
       "      <td>0</td>\n",
       "      <td>radial</td>\n",
       "      <td>0.019608</td>\n",
       "      <td>1.00</td>\n",
       "      <td>ours</td>\n",
       "    </tr>\n",
       "    <tr>\n",
       "      <th>3</th>\n",
       "      <td>0</td>\n",
       "      <td>cosine</td>\n",
       "      <td>0.061728</td>\n",
       "      <td>0.76</td>\n",
       "      <td>ours</td>\n",
       "    </tr>\n",
       "    <tr>\n",
       "      <th>4</th>\n",
       "      <td>1</td>\n",
       "      <td>linear</td>\n",
       "      <td>0.009901</td>\n",
       "      <td>1.00</td>\n",
       "      <td>ours</td>\n",
       "    </tr>\n",
       "  </tbody>\n",
       "</table>\n",
       "</div>"
      ],
      "text/plain": [
       "   seed     temp       FDP  Power method\n",
       "0     0   linear  0.029126   1.00   ours\n",
       "1     0  diaquad  0.030000   0.97   ours\n",
       "2     0   radial  0.019608   1.00   ours\n",
       "3     0   cosine  0.061728   0.76   ours\n",
       "4     1   linear  0.009901   1.00   ours"
      ]
     },
     "metadata": {},
     "output_type": "display_data"
    },
    {
     "data": {
      "image/png": "[encoded data removed]",
      "text/plain": [
       "<Figure size 432x216 with 1 Axes>"
      ]
     },
     "metadata": {},
     "output_type": "display_data"
    },
    {
     "data": {
      "image/png": "[encoded data removed]",
      "text/plain": [
       "<Figure size 432x216 with 1 Axes>"
      ]
     },
     "metadata": {},
     "output_type": "display_data"
    }
   ],
   "source": [
    "sim_dir = '/scratch/PI/sabatti/space_comp_sim/20191030'\n",
    "df2 = load_simulation(sim_dir)\n",
    "plot_comp(df2, 'Power')\n",
    "plot_comp(df2, 'FDP')"
   ]
  },
  {
   "cell_type": "code",
   "execution_count": null,
   "metadata": {},
   "outputs": [],
   "source": []
  }
 ],
 "metadata": {
  "kernelspec": {
   "display_name": "Python 3",
   "language": "python",
   "name": "python3"
  },
  "language_info": {
   "codemirror_mode": {
    "name": "ipython",
    "version": 3
   },
   "file_extension": ".py",
   "mimetype": "text/x-python",
   "name": "python",
   "nbconvert_exporter": "python",
   "pygments_lexer": "ipython3",
   "version": "3.6.1"
  }
 },
 "nbformat": 4,
 "nbformat_minor": 2
}
