{
 "cells": [
  {
   "cell_type": "code",
   "execution_count": 1,
   "metadata": {},
   "outputs": [],
   "source": [
    "%load_ext autoreload\n",
    "%autoreload 2\n",
    "%matplotlib inline\n",
    "from IPython.display import display\n",
    "import sys\n",
    "import os\n",
    "import logging\n",
    "\n",
    "sys.path.insert(0,'../src')\n",
    "import matplotlib as mpl\n",
    "mpl.rcParams['figure.dpi']= 100"
   ]
  },
  {
   "cell_type": "code",
   "execution_count": 2,
   "metadata": {},
   "outputs": [
    {
     "name": "stdout",
     "output_type": "stream",
     "text": [
      "(249, 3585)\n",
      "(3585, 1)\n",
      "(3585, 3)\n"
     ]
    }
   ],
   "source": [
    "import pandas as pd\n",
    "\n",
    "ddir = '/share/PI/sabatti/sc_data/spatial_ge/spatialde/SpatialDE/Analysis/SeqFISH/'\n",
    "fn = ddir + 'mmc6.xlsx'\n",
    "exp_mat = pd.read_excel(fn, 0, header=None, index_col=0)\n",
    "print(exp_mat.shape)\n",
    "field_vector = pd.read_excel(fn, 1, header=None).T\n",
    "field_vector.index += 1\n",
    "field_vector.columns = ['field']\n",
    "print(field_vector.shape)\n",
    "sample_info = pd.read_excel(fn, 2, header=None)\n",
    "sample_info.index += 1\n",
    "sample_info.columns= ['x', 'y', 'z']\n",
    "print(sample_info.shape)\n",
    "sample_info = sample_info.join(field_vector)\n",
    "sample_info['total_count'] = exp_mat.sum(0)"
   ]
  },
  {
   "cell_type": "code",
   "execution_count": 3,
   "metadata": {},
   "outputs": [
    {
     "data": {
      "text/html": [
       "<div>\n",
       "<style scoped>\n",
       "    .dataframe tbody tr th:only-of-type {\n",
       "        vertical-align: middle;\n",
       "    }\n",
       "\n",
       "    .dataframe tbody tr th {\n",
       "        vertical-align: top;\n",
       "    }\n",
       "\n",
       "    .dataframe thead th {\n",
       "        text-align: right;\n",
       "    }\n",
       "</style>\n",
       "<table border=\"1\" class=\"dataframe\">\n",
       "  <thead>\n",
       "    <tr style=\"text-align: right;\">\n",
       "      <th></th>\n",
       "      <th>x</th>\n",
       "      <th>y</th>\n",
       "      <th>z</th>\n",
       "      <th>field</th>\n",
       "      <th>total_count</th>\n",
       "    </tr>\n",
       "  </thead>\n",
       "  <tbody>\n",
       "    <tr>\n",
       "      <th>1</th>\n",
       "      <td>490</td>\n",
       "      <td>760</td>\n",
       "      <td>2</td>\n",
       "      <td>33</td>\n",
       "      <td>6131</td>\n",
       "    </tr>\n",
       "    <tr>\n",
       "      <th>2</th>\n",
       "      <td>98</td>\n",
       "      <td>532</td>\n",
       "      <td>3</td>\n",
       "      <td>33</td>\n",
       "      <td>4040</td>\n",
       "    </tr>\n",
       "    <tr>\n",
       "      <th>3</th>\n",
       "      <td>872</td>\n",
       "      <td>570</td>\n",
       "      <td>3</td>\n",
       "      <td>33</td>\n",
       "      <td>5352</td>\n",
       "    </tr>\n",
       "    <tr>\n",
       "      <th>4</th>\n",
       "      <td>936</td>\n",
       "      <td>590</td>\n",
       "      <td>3</td>\n",
       "      <td>33</td>\n",
       "      <td>5623</td>\n",
       "    </tr>\n",
       "    <tr>\n",
       "      <th>5</th>\n",
       "      <td>432</td>\n",
       "      <td>722</td>\n",
       "      <td>3</td>\n",
       "      <td>33</td>\n",
       "      <td>4440</td>\n",
       "    </tr>\n",
       "  </tbody>\n",
       "</table>\n",
       "</div>"
      ],
      "text/plain": [
       "     x    y  z  field  total_count\n",
       "1  490  760  2     33         6131\n",
       "2   98  532  3     33         4040\n",
       "3  872  570  3     33         5352\n",
       "4  936  590  3     33         5623\n",
       "5  432  722  3     33         4440"
      ]
     },
     "execution_count": 3,
     "metadata": {},
     "output_type": "execute_result"
    }
   ],
   "source": [
    "sample_info.head()"
   ]
  },
  {
   "cell_type": "code",
   "execution_count": 4,
   "metadata": {},
   "outputs": [],
   "source": [
    "mpl.rcParams['axes.spines.right'] = False\n",
    "mpl.rcParams['axes.spines.top'] = False\n",
    "import numpy as np\n",
    "import pandas as pd\n",
    "import seaborn as sns\n",
    "import matplotlib.pyplot as plt\n",
    "\n",
    "logger = logging.getLogger(\"feat_viz\")\n",
    "logging.basicConfig(format='[%(name)s %(levelname)s] %(message)s', level=logging.INFO)"
   ]
  },
  {
   "cell_type": "code",
   "execution_count": 16,
   "metadata": {},
   "outputs": [
    {
     "name": "stdout",
     "output_type": "stream",
     "text": [
      "raw data dim: (1056, 140)\n"
     ]
    },
    {
     "data": {
      "image/png": "[encoded data removed]",
      "text/plain": [
       "<Figure size 432x288 with 1 Axes>"
      ]
     },
     "metadata": {},
     "output_type": "display_data"
    },
    {
     "name": "stdout",
     "output_type": "stream",
     "text": [
      "Saved: /share/PI/sabatti/sc_data/spatial_ge/scGCO/data/MERFISH/our_results/MERFISH_result_df.csv\n",
      "Selected: 134\n"
     ]
    }
   ],
   "source": [
    "from io_utils import save_data_to_file, load_data_from_file\n",
    "from general_utils import read_spatial_expression, normalize_count_cellranger\n",
    "from main_methods import select_spatial_genes\n",
    "from matplotlib_venn import venn2,venn3\n",
    "   \n",
    "# load the data for a given replicate\n",
    "ddir = '/share/PI/sabatti/sc_data/spatial_ge/scGCO'\n",
    "ff = ddir + '/data/Raw_data/MERFISH/middle_scGCO_data_matrix.csv'\n",
    "locs,data=read_spatial_expression(ff,sep=' ')\n",
    "data_norm = normalize_count_cellranger(data)\n",
    "# data_norm = data\n",
    "\n",
    "fig, ax = plt.subplots(1,1, figsize=(6, 4))\n",
    "ax.scatter(*locs.T, c='k')\n",
    "plt.axis('equal')\n",
    "plt.show()\n",
    "alpha= 0.05\n",
    "\n",
    "# run our method\n",
    "fn =  ddir+'/data/MERFISH/our_results/MERFISH_result_df.csv'\n",
    "pvals, rej_idx = select_spatial_genes(locs, data_norm.values, knn=6, alpha=alpha, n_perm=10000)\n",
    "ours = data.columns[rej_idx]\n",
    "reject = np.array([False] * len(pvals))\n",
    "reject[rej_idx] = True\n",
    "result = pd.DataFrame({'pvalue': pvals, 'reject': reject, 'geneID':data_norm.columns})\n",
    "# save result to file\n",
    "save_data_to_file(result, fn, 'csv')        \n",
    "print('Saved: {}'.format(fn))\n",
    "print('Selected: {}'.format(ours.shape[0]))"
   ]
  },
  {
   "cell_type": "code",
   "execution_count": 17,
   "metadata": {},
   "outputs": [
    {
     "data": {
      "text/html": [
       "<div>\n",
       "<style scoped>\n",
       "    .dataframe tbody tr th:only-of-type {\n",
       "        vertical-align: middle;\n",
       "    }\n",
       "\n",
       "    .dataframe tbody tr th {\n",
       "        vertical-align: top;\n",
       "    }\n",
       "\n",
       "    .dataframe thead th {\n",
       "        text-align: right;\n",
       "    }\n",
       "</style>\n",
       "<table border=\"1\" class=\"dataframe\">\n",
       "  <thead>\n",
       "    <tr style=\"text-align: right;\">\n",
       "      <th></th>\n",
       "      <th>pvalue</th>\n",
       "      <th>reject</th>\n",
       "      <th>geneID</th>\n",
       "    </tr>\n",
       "  </thead>\n",
       "  <tbody>\n",
       "    <tr>\n",
       "      <th>0</th>\n",
       "      <td>0.0001</td>\n",
       "      <td>True</td>\n",
       "      <td>AFAP1</td>\n",
       "    </tr>\n",
       "    <tr>\n",
       "      <th>1</th>\n",
       "      <td>0.0001</td>\n",
       "      <td>True</td>\n",
       "      <td>AFF4</td>\n",
       "    </tr>\n",
       "    <tr>\n",
       "      <th>2</th>\n",
       "      <td>0.0001</td>\n",
       "      <td>True</td>\n",
       "      <td>AGAP1</td>\n",
       "    </tr>\n",
       "    <tr>\n",
       "      <th>3</th>\n",
       "      <td>0.0001</td>\n",
       "      <td>True</td>\n",
       "      <td>AGO3</td>\n",
       "    </tr>\n",
       "    <tr>\n",
       "      <th>4</th>\n",
       "      <td>0.0001</td>\n",
       "      <td>True</td>\n",
       "      <td>AGPS</td>\n",
       "    </tr>\n",
       "  </tbody>\n",
       "</table>\n",
       "</div>"
      ],
      "text/plain": [
       "   pvalue  reject geneID\n",
       "0  0.0001    True  AFAP1\n",
       "1  0.0001    True   AFF4\n",
       "2  0.0001    True  AGAP1\n",
       "3  0.0001    True   AGO3\n",
       "4  0.0001    True   AGPS"
      ]
     },
     "execution_count": 17,
     "metadata": {},
     "output_type": "execute_result"
    }
   ],
   "source": [
    "load_data_from_file(fn, 'csv').head()"
   ]
  },
  {
   "cell_type": "code",
   "execution_count": 9,
   "metadata": {},
   "outputs": [
    {
     "name": "stdout",
     "output_type": "stream",
     "text": [
      "(84, 1052)\n"
     ]
    }
   ],
   "source": [
    "fileName = ddir + \"/data/MERFISH/scGCO_results/MERFISH_result_df.csv\"\n",
    "result_df = pd.read_csv(fileName, index_col=0)\n",
    "fdr05 = result_df[result_df.fdr < alpha].sort_values(by=['fdr'])\n",
    "print(fdr05.shape)"
   ]
  },
  {
   "cell_type": "code",
   "execution_count": 10,
   "metadata": {},
   "outputs": [
    {
     "name": "stdout",
     "output_type": "stream",
     "text": [
      "91\n"
     ]
    }
   ],
   "source": [
    "de = ddir + \"/data/MERFISH/spatialDE_results/middle_final_results.csv\"\n",
    "counts_de = pd.read_csv(de,index_col=0)\n",
    "counts_de=counts_de[counts_de.qval<alpha]\n",
    "counts_de=counts_de[counts_de.g.values != 'log_total_count']\n",
    "print(counts_de.shape[0])"
   ]
  },
  {
   "cell_type": "code",
   "execution_count": 11,
   "metadata": {},
   "outputs": [],
   "source": [
    "gsets = {\n",
    "        'scGCO': set(fdr05.index.values),\n",
    "        'SpatialDE': set(counts_de.g.values),\n",
    "        'Ours': set(data_norm.columns[rej_idx])\n",
    "    }"
   ]
  },
  {
   "cell_type": "code",
   "execution_count": 12,
   "metadata": {},
   "outputs": [
    {
     "name": "stderr",
     "output_type": "stream",
     "text": [
      "/home/users/jjzhu/.ve/aloe/lib/python3.6/site-packages/matplotlib_venn/_venn3.py:117: UserWarning: Bad circle positioning\n",
      "  warnings.warn(\"Bad circle positioning\")\n"
     ]
    },
    {
     "data": {
      "image/png": "[encoded data removed]",
      "text/plain": [
       "<Figure size 216x216 with 1 Axes>"
      ]
     },
     "metadata": {},
     "output_type": "display_data"
    }
   ],
   "source": [
    "fig, ax = plt.subplots(1, 1, figsize=(3, 3))\n",
    "plot_venn3(gsets, ax)\n",
    "plt.show()"
   ]
  },
  {
   "cell_type": "code",
   "execution_count": null,
   "metadata": {},
   "outputs": [],
   "source": []
  }
 ],
 "metadata": {
  "kernelspec": {
   "display_name": "Python 3",
   "language": "python",
   "name": "python3"
  },
  "language_info": {
   "codemirror_mode": {
    "name": "ipython",
    "version": 3
   },
   "file_extension": ".py",
   "mimetype": "text/x-python",
   "name": "python",
   "nbconvert_exporter": "python",
   "pygments_lexer": "ipython3",
   "version": "3.6.1"
  }
 },
 "nbformat": 4,
 "nbformat_minor": 2
}
