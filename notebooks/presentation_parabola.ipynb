{
 "cells": [
  {
   "cell_type": "code",
   "execution_count": 1,
   "metadata": {},
   "outputs": [],
   "source": [
    "%load_ext autoreload\n",
    "%autoreload 2\n",
    "%matplotlib inline\n",
    "from IPython.display import display\n",
    "import sys\n",
    "import os\n",
    "import logging\n",
    "sys.path.insert(0,'../src')\n",
    "import matplotlib as mpl\n",
    "mpl.rcParams['figure.dpi']= 100"
   ]
  },
  {
   "cell_type": "code",
   "execution_count": 2,
   "metadata": {},
   "outputs": [],
   "source": [
    "import numpy as np\n",
    "import pandas as pd\n",
    "import seaborn as sns\n",
    "import matplotlib\n",
    "import matplotlib.pyplot as plt\n",
    "from matplotlib import colors\n",
    "import matplotlib.cm as cm\n",
    "from scipy.stats import spearmanr\n",
    "logger = logging.getLogger(\"feat_viz\")\n",
    "logging.basicConfig(format='[%(name)s %(levelname)s] %(message)s', level=logging.INFO)\n",
    "\n",
    "fig_dir = '/scratch/PI/sabatti/spatial_subplots/'"
   ]
  },
  {
   "cell_type": "code",
   "execution_count": 20,
   "metadata": {},
   "outputs": [],
   "source": [
    "np.random.seed(10)\n",
    "n = 100\n",
    "var = 0.05\n",
    "x = np.linspace(-1, 1, n)\n",
    "y = x**2 + var*np.random.normal(size=(n))"
   ]
  },
  {
   "cell_type": "code",
   "execution_count": 44,
   "metadata": {},
   "outputs": [
    {
     "name": "stdout",
     "output_type": "stream",
     "text": [
      "/scratch/PI/sabatti/spatial_subplots/parabola.pdf\n"
     ]
    },
    {
     "data": {
      "image/png": "[encoded data removed]",
      "text/plain": [
       "<Figure size 230.4x216 with 1 Axes>"
      ]
     },
     "metadata": {},
     "output_type": "display_data"
    }
   ],
   "source": [
    "df = pd.DataFrame({'x': x, 'y': y})\n",
    "fig, ax = plt.subplots(1,1,figsize=(3.2,3))\n",
    "ax = sns.regplot(x=\"x\", y=\"y\", data=df, color='k', ci=None,\n",
    "                scatter_kws={'s':2},\n",
    "                line_kws={'linewidth': 1, 'linestyle': '--'})\n",
    "ax.set_xlabel('$x_1$', fontsize=13)\n",
    "ax.set_ylabel('$x_2$', fontsize=13)\n",
    "\n",
    "# Hide the right and top spines\n",
    "ax.spines['right'].set_visible(False)\n",
    "ax.spines['top'].set_visible(False)\n",
    "\n",
    "# Only show ticks on the left and bottom spines\n",
    "ax.yaxis.set_ticks_position('left')\n",
    "ax.xaxis.set_ticks_position('bottom')\n",
    "\n",
    "fn = fig_dir + 'parabola.pdf'\n",
    "print(fn)\n",
    "plt.savefig(fn, bbox_inches='tight') \n",
    "plt.show()"
   ]
  },
  {
   "cell_type": "code",
   "execution_count": null,
   "metadata": {},
   "outputs": [],
   "source": []
  }
 ],
 "metadata": {
  "kernelspec": {
   "display_name": "Python 3",
   "language": "python",
   "name": "python3"
  },
  "language_info": {
   "codemirror_mode": {
    "name": "ipython",
    "version": 3
   },
   "file_extension": ".py",
   "mimetype": "text/x-python",
   "name": "python",
   "nbconvert_exporter": "python",
   "pygments_lexer": "ipython3",
   "version": "3.6.1"
  }
 },
 "nbformat": 4,
 "nbformat_minor": 2
}
