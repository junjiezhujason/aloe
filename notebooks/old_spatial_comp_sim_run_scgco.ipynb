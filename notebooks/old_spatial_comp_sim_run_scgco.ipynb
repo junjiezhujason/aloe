{
 "cells": [
  {
   "cell_type": "code",
   "execution_count": 1,
   "metadata": {},
   "outputs": [],
   "source": [
    "%load_ext autoreload\n",
    "%autoreload 2\n",
    "%matplotlib inline\n",
    "from IPython.display import display\n",
    "import sys\n",
    "import os\n",
    "import logging\n",
    "\n",
    "sys.path.insert(0,'../src')\n",
    "import matplotlib as mpl\n",
    "mpl.rcParams['figure.dpi']= 100"
   ]
  },
  {
   "cell_type": "code",
   "execution_count": 2,
   "metadata": {},
   "outputs": [],
   "source": [
    "import numpy as np\n",
    "import pandas as pd\n",
    "import matplotlib.pyplot as plt"
   ]
  },
  {
   "cell_type": "code",
   "execution_count": 3,
   "metadata": {},
   "outputs": [
    {
     "data": {
      "text/html": [
       "<div>\n",
       "<style scoped>\n",
       "    .dataframe tbody tr th:only-of-type {\n",
       "        vertical-align: middle;\n",
       "    }\n",
       "\n",
       "    .dataframe tbody tr th {\n",
       "        vertical-align: top;\n",
       "    }\n",
       "\n",
       "    .dataframe thead th {\n",
       "        text-align: right;\n",
       "    }\n",
       "</style>\n",
       "<table border=\"1\" class=\"dataframe\">\n",
       "  <thead>\n",
       "    <tr style=\"text-align: right;\">\n",
       "      <th></th>\n",
       "      <th>seed</th>\n",
       "      <th>temp</th>\n",
       "      <th>n_per_reg</th>\n",
       "      <th>n_regs</th>\n",
       "      <th>locs_fn</th>\n",
       "      <th>expr_fn</th>\n",
       "    </tr>\n",
       "  </thead>\n",
       "  <tbody>\n",
       "    <tr>\n",
       "      <th>0</th>\n",
       "      <td>0</td>\n",
       "      <td>linear</td>\n",
       "      <td>25</td>\n",
       "      <td>4</td>\n",
       "      <td>locs_2d.csv</td>\n",
       "      <td>sim_data/mtx_linear_0.csv</td>\n",
       "    </tr>\n",
       "    <tr>\n",
       "      <th>1</th>\n",
       "      <td>0</td>\n",
       "      <td>diaquad</td>\n",
       "      <td>25</td>\n",
       "      <td>4</td>\n",
       "      <td>locs_2d.csv</td>\n",
       "      <td>sim_data/mtx_diaquad_0.csv</td>\n",
       "    </tr>\n",
       "    <tr>\n",
       "      <th>2</th>\n",
       "      <td>0</td>\n",
       "      <td>radial</td>\n",
       "      <td>25</td>\n",
       "      <td>4</td>\n",
       "      <td>locs_2d.csv</td>\n",
       "      <td>sim_data/mtx_radial_0.csv</td>\n",
       "    </tr>\n",
       "    <tr>\n",
       "      <th>3</th>\n",
       "      <td>0</td>\n",
       "      <td>cosine</td>\n",
       "      <td>25</td>\n",
       "      <td>4</td>\n",
       "      <td>locs_2d.csv</td>\n",
       "      <td>sim_data/mtx_cosine_0.csv</td>\n",
       "    </tr>\n",
       "    <tr>\n",
       "      <th>4</th>\n",
       "      <td>1</td>\n",
       "      <td>linear</td>\n",
       "      <td>25</td>\n",
       "      <td>4</td>\n",
       "      <td>locs_2d.csv</td>\n",
       "      <td>sim_data/mtx_linear_1.csv</td>\n",
       "    </tr>\n",
       "  </tbody>\n",
       "</table>\n",
       "</div>"
      ],
      "text/plain": [
       "   seed     temp  n_per_reg  n_regs      locs_fn                     expr_fn\n",
       "0     0   linear         25       4  locs_2d.csv   sim_data/mtx_linear_0.csv\n",
       "1     0  diaquad         25       4  locs_2d.csv  sim_data/mtx_diaquad_0.csv\n",
       "2     0   radial         25       4  locs_2d.csv   sim_data/mtx_radial_0.csv\n",
       "3     0   cosine         25       4  locs_2d.csv   sim_data/mtx_cosine_0.csv\n",
       "4     1   linear         25       4  locs_2d.csv   sim_data/mtx_linear_1.csv"
      ]
     },
     "metadata": {},
     "output_type": "display_data"
    },
    {
     "name": "stdout",
     "output_type": "stream",
     "text": [
      "/scratch/PI/sabatti/space_comp_sim/20191104/result_scgco/result_0.csv\n"
     ]
    },
    {
     "name": "stderr",
     "output_type": "stream",
     "text": [
      "100%|██████████| 24/24 [00:28<00:00,  1.18s/it]\n"
     ]
    },
    {
     "name": "stdout",
     "output_type": "stream",
     "text": [
      "========iteration1\n",
      "25 60\n"
     ]
    },
    {
     "name": "stderr",
     "output_type": "stream",
     "text": [
      "100%|██████████| 24/24 [00:28<00:00,  1.19s/it]\n"
     ]
    },
    {
     "name": "stdout",
     "output_type": "stream",
     "text": [
      "========iteration2\n",
      "30 57\n",
      "Smooth factor: 30\n"
     ]
    },
    {
     "name": "stderr",
     "output_type": "stream",
     "text": [
      "100%|██████████| 24/24 [00:32<00:00,  1.37s/it]\n"
     ]
    },
    {
     "name": "stdout",
     "output_type": "stream",
     "text": [
      "linear-0: Power: 0.5700, FDP: 0.0000\n"
     ]
    },
    {
     "ename": "AssertionError",
     "evalue": "Mismatch samples",
     "output_type": "error",
     "traceback": [
      "\u001b[0;31m---------------------------------------------------------------------------\u001b[0m",
      "\u001b[0;31mAssertionError\u001b[0m                            Traceback (most recent call last)",
      "\u001b[0;32m<ipython-input-3-7bb429eaefed>\u001b[0m in \u001b[0;36m<module>\u001b[0;34m()\u001b[0m\n\u001b[1;32m     29\u001b[0m \u001b[0;32mfor\u001b[0m \u001b[0mi\u001b[0m\u001b[0;34m,\u001b[0m \u001b[0mentry\u001b[0m \u001b[0;32min\u001b[0m \u001b[0msim_df\u001b[0m\u001b[0;34m.\u001b[0m\u001b[0miterrows\u001b[0m\u001b[0;34m(\u001b[0m\u001b[0;34m)\u001b[0m\u001b[0;34m:\u001b[0m\u001b[0;34m\u001b[0m\u001b[0m\n\u001b[1;32m     30\u001b[0m     \u001b[0mlocs\u001b[0m\u001b[0;34m,\u001b[0m \u001b[0mdata\u001b[0m \u001b[0;34m=\u001b[0m \u001b[0mread_trial_data\u001b[0m\u001b[0;34m(\u001b[0m\u001b[0msim_dir\u001b[0m\u001b[0;34m,\u001b[0m \u001b[0mentry\u001b[0m\u001b[0;34m)\u001b[0m\u001b[0;34m\u001b[0m\u001b[0m\n\u001b[0;32m---> 31\u001b[0;31m     \u001b[0;32massert\u001b[0m \u001b[0mlocs\u001b[0m\u001b[0;34m.\u001b[0m\u001b[0mshape\u001b[0m\u001b[0;34m[\u001b[0m\u001b[0;36m0\u001b[0m\u001b[0;34m]\u001b[0m \u001b[0;34m==\u001b[0m \u001b[0mdata\u001b[0m\u001b[0;34m.\u001b[0m\u001b[0mshape\u001b[0m\u001b[0;34m[\u001b[0m\u001b[0;36m0\u001b[0m\u001b[0;34m]\u001b[0m\u001b[0;34m,\u001b[0m \u001b[0;34m'Mismatch samples'\u001b[0m\u001b[0;34m\u001b[0m\u001b[0m\n\u001b[0m\u001b[1;32m     32\u001b[0m     \u001b[0mdata_norm\u001b[0m \u001b[0;34m=\u001b[0m \u001b[0mdata\u001b[0m\u001b[0;34m.\u001b[0m\u001b[0mcopy\u001b[0m\u001b[0;34m(\u001b[0m\u001b[0;34m)\u001b[0m\u001b[0;34m\u001b[0m\u001b[0m\n\u001b[1;32m     33\u001b[0m     \u001b[0mfn\u001b[0m \u001b[0;34m=\u001b[0m \u001b[0mos\u001b[0m\u001b[0;34m.\u001b[0m\u001b[0mpath\u001b[0m\u001b[0;34m.\u001b[0m\u001b[0mjoin\u001b[0m\u001b[0;34m(\u001b[0m\u001b[0mmeth_dir\u001b[0m\u001b[0;34m,\u001b[0m \u001b[0;34m'result_{}.csv'\u001b[0m\u001b[0;34m.\u001b[0m\u001b[0mformat\u001b[0m\u001b[0;34m(\u001b[0m\u001b[0mi\u001b[0m\u001b[0;34m)\u001b[0m\u001b[0;34m)\u001b[0m\u001b[0;34m\u001b[0m\u001b[0m\n",
      "\u001b[0;31mAssertionError\u001b[0m: Mismatch samples"
     ]
    }
   ],
   "source": [
    "from io_utils import save_data_to_file, load_data_from_file\n",
    "from general_utils import evaluate_rejections\n",
    "from scGCO import *\n",
    "\n",
    "def read_trial_data(sim_dir, entry):\n",
    "    lfn = os.path.join(sim_dir, entry['locs_fn'])\n",
    "    locs = load_data_from_file(lfn, 'csv')\n",
    "    dfn = os.path.join(sim_dir, entry['expr_fn'])\n",
    "    data = load_data_from_file(dfn, 'csv')\n",
    "    return locs, data\n",
    "    \n",
    "# sim_dir = '/scratch/PI/sabatti/space_comp_sim/20191030'\n",
    "sim_dir = '/share/PI/sabatti/feat_viz/space_comp_sim/20191104'\n",
    "sim_fn = os.path.join(sim_dir, 'sim_setup.csv')\n",
    "sim_df = load_data_from_file(sim_fn, 'csv')\n",
    "display(sim_df.head())\n",
    "\n",
    "alpha = 0.05\n",
    "meth_dir = 'result_scgco'\n",
    "cache=True\n",
    "\n",
    "meth_dir = os.path.join(sim_dir, meth_dir)\n",
    "os.makedirs(meth_dir, exist_ok=True)\n",
    "\n",
    "eval_fn = 'eval_scgco.csv'\n",
    "eval_fn = os.path.join(sim_dir, eval_fn)\n",
    "eval_df = pd.DataFrame()\n",
    "\n",
    "for i, entry in sim_df.iterrows():\n",
    "    locs, data = read_trial_data(sim_dir, entry)\n",
    "    assert locs.shape[0] == data.shape[0], 'Mismatch samples'\n",
    "    data_norm = data.copy()\n",
    "    fn = os.path.join(meth_dir, 'result_{}.csv'.format(i))\n",
    "    print(fn)\n",
    "    if cache and os.path.exists(fn):\n",
    "        result = load_data_from_file(fn, 'csv')\n",
    "        rej_idx = result.loc[result['fdr'] < alpha]\n",
    "    else:\n",
    "        sf = estimate_smooth_factor(locs.values, \n",
    "                                    data_norm, \n",
    "                                    start_sf = 20, fdr_cutoff=0.01,iterations=2)\n",
    "        print('Smooth factor: {}'.format(sf))\n",
    "        result_df=identify_spatial_genes(locs.values, data_norm, smooth_factor=sf)\n",
    "        result = result_df[['exp_p_value', 'exp_fdr', 'exp_diff', 'fdr', 'smooth_factor']]\n",
    "        # save result to file\n",
    "        save_data_to_file(result, fn, 'csv')        \n",
    "    # evaluate for tracking\n",
    "    rej_idx = np.array(result.loc[result['fdr'] < 0.05].index).astype(int)\n",
    "    nn_idx = np.arange(entry['n_per_reg'] * entry['n_regs'])\n",
    "    evals = evaluate_rejections(set(rej_idx), set(nn_idx))\n",
    "    print('{}-{}: Power: {:.4f}, FDP: {:.4f}'.format(entry['temp'], entry['seed'], \n",
    "                                              evals['Power'], evals['FDP']))\n",
    "    eval_df = eval_df.append(pd.Series(evals, name=i))\n",
    "save_data_to_file(eval_df, eval_fn, 'csv')"
   ]
  },
  {
   "cell_type": "code",
   "execution_count": 6,
   "metadata": {},
   "outputs": [
    {
     "data": {
      "text/plain": [
       "(1045, 200)"
      ]
     },
     "execution_count": 6,
     "metadata": {},
     "output_type": "execute_result"
    }
   ],
   "source": [
    "data_norm.shape"
   ]
  },
  {
   "cell_type": "code",
   "execution_count": 3,
   "metadata": {},
   "outputs": [
    {
     "data": {
      "text/html": [
       "<div>\n",
       "<style scoped>\n",
       "    .dataframe tbody tr th:only-of-type {\n",
       "        vertical-align: middle;\n",
       "    }\n",
       "\n",
       "    .dataframe tbody tr th {\n",
       "        vertical-align: top;\n",
       "    }\n",
       "\n",
       "    .dataframe thead th {\n",
       "        text-align: right;\n",
       "    }\n",
       "</style>\n",
       "<table border=\"1\" class=\"dataframe\">\n",
       "  <thead>\n",
       "    <tr style=\"text-align: right;\">\n",
       "      <th></th>\n",
       "      <th>seed</th>\n",
       "      <th>temp</th>\n",
       "      <th>n_per_reg</th>\n",
       "      <th>n_regs</th>\n",
       "      <th>locs_fn</th>\n",
       "      <th>expr_fn</th>\n",
       "    </tr>\n",
       "  </thead>\n",
       "  <tbody>\n",
       "    <tr>\n",
       "      <td>0</td>\n",
       "      <td>0</td>\n",
       "      <td>linear</td>\n",
       "      <td>25</td>\n",
       "      <td>4</td>\n",
       "      <td>locs_2d.csv</td>\n",
       "      <td>sim_data/mtx_linear_0.csv</td>\n",
       "    </tr>\n",
       "    <tr>\n",
       "      <td>1</td>\n",
       "      <td>0</td>\n",
       "      <td>diaquad</td>\n",
       "      <td>25</td>\n",
       "      <td>4</td>\n",
       "      <td>locs_2d.csv</td>\n",
       "      <td>sim_data/mtx_diaquad_0.csv</td>\n",
       "    </tr>\n",
       "    <tr>\n",
       "      <td>2</td>\n",
       "      <td>0</td>\n",
       "      <td>radial</td>\n",
       "      <td>25</td>\n",
       "      <td>4</td>\n",
       "      <td>locs_2d.csv</td>\n",
       "      <td>sim_data/mtx_radial_0.csv</td>\n",
       "    </tr>\n",
       "    <tr>\n",
       "      <td>3</td>\n",
       "      <td>0</td>\n",
       "      <td>cosine</td>\n",
       "      <td>25</td>\n",
       "      <td>4</td>\n",
       "      <td>locs_2d.csv</td>\n",
       "      <td>sim_data/mtx_cosine_0.csv</td>\n",
       "    </tr>\n",
       "    <tr>\n",
       "      <td>4</td>\n",
       "      <td>1</td>\n",
       "      <td>linear</td>\n",
       "      <td>25</td>\n",
       "      <td>4</td>\n",
       "      <td>locs_2d.csv</td>\n",
       "      <td>sim_data/mtx_linear_1.csv</td>\n",
       "    </tr>\n",
       "  </tbody>\n",
       "</table>\n",
       "</div>"
      ],
      "text/plain": [
       "   seed     temp  n_per_reg  n_regs      locs_fn                     expr_fn\n",
       "0     0   linear         25       4  locs_2d.csv   sim_data/mtx_linear_0.csv\n",
       "1     0  diaquad         25       4  locs_2d.csv  sim_data/mtx_diaquad_0.csv\n",
       "2     0   radial         25       4  locs_2d.csv   sim_data/mtx_radial_0.csv\n",
       "3     0   cosine         25       4  locs_2d.csv   sim_data/mtx_cosine_0.csv\n",
       "4     1   linear         25       4  locs_2d.csv   sim_data/mtx_linear_1.csv"
      ]
     },
     "metadata": {},
     "output_type": "display_data"
    },
    {
     "name": "stdout",
     "output_type": "stream",
     "text": [
      "linear-0: Power: 1.0000, FDP: 0.0291\n",
      "diaquad-0: Power: 0.9700, FDP: 0.0300\n",
      "radial-0: Power: 1.0000, FDP: 0.0196\n",
      "cosine-0: Power: 0.7600, FDP: 0.0617\n",
      "linear-1: Power: 1.0000, FDP: 0.0099\n"
     ]
    },
    {
     "ename": "AssertionError",
     "evalue": "Mismatch samples",
     "output_type": "error",
     "traceback": [
      "\u001b[0;31m---------------------------------------------------------------------------\u001b[0m",
      "\u001b[0;31mAssertionError\u001b[0m                            Traceback (most recent call last)",
      "\u001b[0;32m<ipython-input-3-b9583e28c250>\u001b[0m in \u001b[0;36m<module>\u001b[0;34m()\u001b[0m\n\u001b[1;32m     32\u001b[0m     \u001b[0mlocs\u001b[0m\u001b[0;34m,\u001b[0m \u001b[0mdata_norm\u001b[0m \u001b[0;34m=\u001b[0m \u001b[0mread_trial_data\u001b[0m\u001b[0;34m(\u001b[0m\u001b[0msim_dir\u001b[0m\u001b[0;34m,\u001b[0m \u001b[0mentry\u001b[0m\u001b[0;34m)\u001b[0m\u001b[0;34m\u001b[0m\u001b[0m\n\u001b[1;32m     33\u001b[0m     \u001b[0mdata_norm\u001b[0m \u001b[0;34m=\u001b[0m \u001b[0mnorm_mtx\u001b[0m\u001b[0;34m(\u001b[0m\u001b[0mdata_norm\u001b[0m\u001b[0;34m)\u001b[0m\u001b[0;34m\u001b[0m\u001b[0m\n\u001b[0;32m---> 34\u001b[0;31m     \u001b[0;32massert\u001b[0m \u001b[0mlocs\u001b[0m\u001b[0;34m.\u001b[0m\u001b[0mshape\u001b[0m\u001b[0;34m[\u001b[0m\u001b[0;36m0\u001b[0m\u001b[0;34m]\u001b[0m \u001b[0;34m==\u001b[0m \u001b[0mdata_norm\u001b[0m\u001b[0;34m.\u001b[0m\u001b[0mshape\u001b[0m\u001b[0;34m[\u001b[0m\u001b[0;36m0\u001b[0m\u001b[0;34m]\u001b[0m\u001b[0;34m,\u001b[0m \u001b[0;34m'Mismatch samples'\u001b[0m\u001b[0;34m\u001b[0m\u001b[0m\n\u001b[0m\u001b[1;32m     35\u001b[0m \u001b[0;34m\u001b[0m\u001b[0m\n\u001b[1;32m     36\u001b[0m     \u001b[0mfn\u001b[0m \u001b[0;34m=\u001b[0m \u001b[0mos\u001b[0m\u001b[0;34m.\u001b[0m\u001b[0mpath\u001b[0m\u001b[0;34m.\u001b[0m\u001b[0mjoin\u001b[0m\u001b[0;34m(\u001b[0m\u001b[0mmeth_dir\u001b[0m\u001b[0;34m,\u001b[0m \u001b[0;34m'result_{}.csv'\u001b[0m\u001b[0;34m.\u001b[0m\u001b[0mformat\u001b[0m\u001b[0;34m(\u001b[0m\u001b[0mi\u001b[0m\u001b[0;34m)\u001b[0m\u001b[0;34m)\u001b[0m\u001b[0;34m\u001b[0m\u001b[0m\n",
      "\u001b[0;31mAssertionError\u001b[0m: Mismatch samples"
     ]
    }
   ],
   "source": [
    "from io_utils import save_data_to_file, load_data_from_file\n",
    "from general_utils import norm_mtx, evaluate_rejections\n",
    "\n",
    "def read_trial_data(sim_dir, entry):\n",
    "    lfn = os.path.join(sim_dir, entry['locs_fn'])\n",
    "    locs = load_data_from_file(lfn, 'csv')\n",
    "    dfn = os.path.join(sim_dir, entry['expr_fn'])\n",
    "    data = load_data_from_file(dfn, 'csv')\n",
    "    return locs, data\n",
    "    \n",
    "sim_dir = '/scratch/PI/sabatti/space_comp_sim/20191030'\n",
    "sim_fn = os.path.join(sim_dir, 'sim_setup.csv')\n",
    "sim_df = load_data_from_file(sim_fn, 'csv')\n",
    "display(sim_df.head())\n",
    "\n",
    "meth_dir = 'result_ours'\n",
    "cache=True\n",
    "\n",
    "meth_dir = os.path.join(sim_dir, meth_dir)\n",
    "os.makedirs(meth_dir, exist_ok=True)\n",
    "\n",
    "eval_fn = 'eval_ours.csv'\n",
    "eval_fn = os.path.join(sim_dir, eval_fn)\n",
    "eval_df = pd.DataFrame()\n",
    "\n",
    "\n",
    "alpha= 0.05\n",
    "knn = 8\n",
    "n_perm = 10000\n",
    "\n",
    "for i, entry in sim_df.iterrows():\n",
    "    locs, data_norm = read_trial_data(sim_dir, entry)\n",
    "    data_norm = norm_mtx(data_norm)\n",
    "    assert locs.shape[0] == data_norm.shape[0], 'Mismatch samples'\n",
    "    \n",
    "    fn = os.path.join(meth_dir, 'result_{}.csv'.format(i))\n",
    "    if cache and os.path.exists(fn):\n",
    "        result = load_data_from_file(fn, 'csv')\n",
    "        rej_idx = result.loc[result['reject']].index\n",
    "    else:\n",
    "       \n",
    "        # save result to file\n",
    "        save_data_to_file(result, fn, 'csv')        \n",
    "    # evaluate for tracking\n",
    "    nn_idx = np.arange(entry['n_per_reg'] * entry['n_regs'])\n",
    "    evals = evaluate_rejections(set(rej_idx), set(nn_idx))\n",
    "    print('{}-{}: Power: {:.4f}, FDP: {:.4f}'.format(entry['temp'], entry['seed'], \n",
    "                                              evals['Power'], evals['FDP']))\n",
    "    \n",
    "    eval_df = eval_df.append(pd.Series(evals, name=i))\n",
    "save_data_to_file(eval_df, eval_fn, 'csv')"
   ]
  },
  {
   "cell_type": "code",
   "execution_count": 7,
   "metadata": {},
   "outputs": [
    {
     "data": {
      "text/plain": [
       "(1045, 2)"
      ]
     },
     "execution_count": 7,
     "metadata": {},
     "output_type": "execute_result"
    }
   ],
   "source": [
    "locs.shape"
   ]
  },
  {
   "cell_type": "code",
   "execution_count": null,
   "metadata": {},
   "outputs": [],
   "source": []
  }
 ],
 "metadata": {
  "kernelspec": {
   "display_name": "Python 3",
   "language": "python",
   "name": "python3"
  },
  "language_info": {
   "codemirror_mode": {
    "name": "ipython",
    "version": 3
   },
   "file_extension": ".py",
   "mimetype": "text/x-python",
   "name": "python",
   "nbconvert_exporter": "python",
   "pygments_lexer": "ipython3",
   "version": "3.6.1"
  }
 },
 "nbformat": 4,
 "nbformat_minor": 2
}
