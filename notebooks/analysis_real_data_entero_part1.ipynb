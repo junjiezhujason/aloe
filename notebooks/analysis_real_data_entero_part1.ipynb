{
 "cells": [
  {
   "cell_type": "code",
   "execution_count": 1,
   "metadata": {},
   "outputs": [],
   "source": [
    "%load_ext autoreload\n",
    "%autoreload 2\n",
    "%matplotlib inline\n",
    "from IPython.display import display\n",
    "import sys\n",
    "import os\n",
    "import logging\n",
    "\n",
    "import numpy as np\n",
    "import pandas as pd\n",
    "import seaborn as sns\n",
    "import matplotlib.pyplot as plt\n",
    "\n",
    "logger = logging.getLogger(\"feat_viz\")\n",
    "logging.basicConfig(format='[%(name)s %(levelname)s] %(message)s', level=logging.INFO)\n",
    "sys.path.insert(0,'../src')\n",
    "import matplotlib as mpl\n",
    "mpl.rcParams['figure.dpi']= 100"
   ]
  },
  {
   "cell_type": "markdown",
   "metadata": {},
   "source": [
    "### Load the ground-truth and evaluate the methods"
   ]
  },
  {
   "cell_type": "code",
   "execution_count": 2,
   "metadata": {},
   "outputs": [
    {
     "name": "stderr",
     "output_type": "stream",
     "text": [
      "[feat_viz INFO] {'Crypt': 0, 'V1': 1, 'V2': 2, 'V3': 3, 'V4': 4, 'V5': 5, 'V6': 6}\n",
      "[feat_viz WARNING] /share/PI/sabatti/feat_viz/real_analysis_result/analysis_060719/entero_data/results/result_pc_oracle.plk does not exist\n",
      "[feat_viz WARNING] /share/PI/sabatti/feat_viz/real_analysis_result/analysis_060719/entero_data/results/result_graph_oracle.plk does not exist\n",
      "[feat_viz WARNING] /share/PI/sabatti/feat_viz/real_analysis_result/analysis_060719/entero_data/results/result_hybrid_oracle.plk does not exist\n"
     ]
    },
    {
     "name": "stdout",
     "output_type": "stream",
     "text": [
      "Matrix dimension: (1383, 9656)\n"
     ]
    },
    {
     "data": {
      "text/plain": [
       "dict_keys(['pc_vanilla', 'graph_vanilla', 'hybrid_vanilla'])"
      ]
     },
     "metadata": {},
     "output_type": "display_data"
    },
    {
     "data": {
      "text/plain": [
       "dict_keys(['unsup_graph', 'unsup_pc'])"
      ]
     },
     "metadata": {},
     "output_type": "display_data"
    }
   ],
   "source": [
    "from intestine_info import load_processed_enterocyte_data, load_original_entero_zonation\n",
    "from intestine_info import get_intestine_rna_lm_genes\n",
    "from io_utils import load_all_pipeline_results\n",
    "from plot_utils import plot_corr_mtx\n",
    "from scrna_utils import get_gene_df\n",
    "from general_utils import rank_and_bin\n",
    "\n",
    "res_dir = \"/share/PI/sabatti/feat_viz/real_analysis_result/analysis_060719\"\n",
    "zone_vals = load_original_entero_zonation(just_vals=True)\n",
    "obs_df, var_df, mtx = load_processed_enterocyte_data(res_dir)\n",
    "RDIR = os.path.join(res_dir, \"entero_data\", \"results\")\n",
    "pipe_res, all_lams = load_all_pipeline_results(RDIR)\n",
    "print('Matrix dimension: {}'.format(mtx.shape))\n",
    "display(pipe_res.keys())\n",
    "display(all_lams.keys())"
   ]
  },
  {
   "cell_type": "code",
   "execution_count": 3,
   "metadata": {},
   "outputs": [
    {
     "data": {
      "text/html": [
       "<div>\n",
       "<style scoped>\n",
       "    .dataframe tbody tr th:only-of-type {\n",
       "        vertical-align: middle;\n",
       "    }\n",
       "\n",
       "    .dataframe tbody tr th {\n",
       "        vertical-align: top;\n",
       "    }\n",
       "\n",
       "    .dataframe thead th {\n",
       "        text-align: right;\n",
       "    }\n",
       "</style>\n",
       "<table border=\"1\" class=\"dataframe\">\n",
       "  <thead>\n",
       "    <tr style=\"text-align: right;\">\n",
       "      <th></th>\n",
       "      <th>n_genes</th>\n",
       "      <th>n_counts</th>\n",
       "      <th>cell_id</th>\n",
       "    </tr>\n",
       "  </thead>\n",
       "  <tbody>\n",
       "    <tr>\n",
       "      <th>0</th>\n",
       "      <td>2033</td>\n",
       "      <td>6751.0</td>\n",
       "      <td>AAACCTGGTAAGTTCC</td>\n",
       "    </tr>\n",
       "    <tr>\n",
       "      <th>1</th>\n",
       "      <td>1135</td>\n",
       "      <td>3754.0</td>\n",
       "      <td>AAACGGGCACCAACCG</td>\n",
       "    </tr>\n",
       "    <tr>\n",
       "      <th>2</th>\n",
       "      <td>2559</td>\n",
       "      <td>9224.0</td>\n",
       "      <td>AAACGGGTCACTGGGC</td>\n",
       "    </tr>\n",
       "    <tr>\n",
       "      <th>3</th>\n",
       "      <td>1706</td>\n",
       "      <td>5144.0</td>\n",
       "      <td>AAAGATGGTGGACGAT</td>\n",
       "    </tr>\n",
       "    <tr>\n",
       "      <th>4</th>\n",
       "      <td>3079</td>\n",
       "      <td>11475.0</td>\n",
       "      <td>AAAGATGGTTCGGGCT</td>\n",
       "    </tr>\n",
       "  </tbody>\n",
       "</table>\n",
       "</div>"
      ],
      "text/plain": [
       "   n_genes  n_counts           cell_id\n",
       "0     2033    6751.0  AAACCTGGTAAGTTCC\n",
       "1     1135    3754.0  AAACGGGCACCAACCG\n",
       "2     2559    9224.0  AAACGGGTCACTGGGC\n",
       "3     1706    5144.0  AAAGATGGTGGACGAT\n",
       "4     3079   11475.0  AAAGATGGTTCGGGCT"
      ]
     },
     "execution_count": 3,
     "metadata": {},
     "output_type": "execute_result"
    }
   ],
   "source": [
    "obs_df.head()"
   ]
  },
  {
   "cell_type": "markdown",
   "metadata": {},
   "source": [
    "### Compare all lambdas if needed"
   ]
  },
  {
   "cell_type": "code",
   "execution_count": 4,
   "metadata": {},
   "outputs": [
    {
     "name": "stderr",
     "output_type": "stream",
     "text": [
      "[feat_viz INFO] Loaded 453 genes\n",
      "[feat_viz INFO] Kept 243 genes with max expr > 0.001 \n",
      "[feat_viz INFO] Kept 45 high zone genes with geom avg > 3.5 \n",
      "[feat_viz INFO] Kept 64 low zone genes with geom avg < 2.5 \n",
      "[feat_viz INFO] Number of original lm genes: 109\n",
      "[feat_viz INFO] Number of intersecting lm genes: 97\n"
     ]
    }
   ],
   "source": [
    "lm_genes = get_intestine_rna_lm_genes()\n",
    "lm_genes = lm_genes[\"high\"] + lm_genes[\"low\"]\n",
    "logger.info(\"Number of original lm genes: {}\".format(len(lm_genes)))\n",
    "lm_genes = list(set(lm_genes).intersection(set(var_df[\"gene_ids\"])))\n",
    "lm_genes = sorted(lm_genes)\n",
    "logger.info(\"Number of intersecting lm genes: {}\".format(len(lm_genes)))"
   ]
  },
  {
   "cell_type": "code",
   "execution_count": 5,
   "metadata": {},
   "outputs": [
    {
     "name": "stdout",
     "output_type": "stream",
     "text": [
      "palantir\n",
      "paga\n"
     ]
    },
    {
     "data": {
      "image/png": "[encoded data removed]",
      "text/plain": [
       "<Figure size 360x360 with 2 Axes>"
      ]
     },
     "metadata": {},
     "output_type": "display_data"
    }
   ],
   "source": [
    "all_lams[\"smFISH\"] = zone_vals\n",
    "mopts = [\"graph\", \"pc\", \"hybrid\"]\n",
    "mtypes = [\"vanilla\"]\n",
    "for method in mopts:\n",
    "    for mtype in mtypes:\n",
    "        key = \"{}_{}\".format(method, mtype)\n",
    "        result = pipe_res[key] \n",
    "        for lam_t in [\"lam_init\", \"lam_update\"]:\n",
    "            name = \"{}_{}\".format(key, lam_t)\n",
    "            all_lams[name] = result[lam_t]\n",
    "# add lambdas from ti methods\n",
    "mdir = '/share/PI/sabatti/feat_viz/real_analysis_result/analysis_060719/entero_data/ti_methods'\n",
    "names = ['palantir', 'paga']\n",
    "for name in names:\n",
    "    fn = os.path.join(mdir, '{}_obs_df.csv'.format(name))\n",
    "    df = pd.read_csv(fn)\n",
    "    df = df.set_index('cell_id')\n",
    "    df = df.loc[obs_df['cell_id']]\n",
    "    print(name)\n",
    "    all_lams[name] = df['pseudotime']\n",
    "\n",
    "lam_df = pd.DataFrame(all_lams)\n",
    "# manually switch signs\n",
    "switch_signs = [\"graph_vanilla_lam_init\", \n",
    "                \"graph_vanilla_lam_update\",\n",
    "                \"pc_vanilla_lam_update\",\n",
    "                \"unsup_graph\",\n",
    "                \"unsup_pc\"]\n",
    "for var in switch_signs:\n",
    "    lam_df[var] = - lam_df[var]\n",
    "# select and rename here\n",
    "\n",
    "methods = [\"smFISH\", \n",
    "           \"graph_vanilla_lam_init\", \n",
    "#            \"pc_vanilla_lam_init\", \n",
    "           \"graph_vanilla_lam_update\", \n",
    "#            \"pc_vanilla_lam_update\",\n",
    "#            \"unsup_graph\",\n",
    "#            \"unsup_pc\",\n",
    "           \"palantir\", \n",
    "           \"paga\"]\n",
    "select_vars = {\n",
    "    \"smFISH\": r\"$\\pi^\\mathtt{B}$\",\n",
    "    \"graph_vanilla_lam_init\": r\"$\\pi^\\mathtt{G}$\",\n",
    "#     \"pc_vanilla_lam_init\": r\"$\\pi^\\mathtt{P}$\",\n",
    "    \"graph_vanilla_lam_update\": r\"$\\xi^\\mathtt{G}$\",\n",
    "#     \"pc_vanilla_lam_update\": r\"$\\xi^\\mathtt{P}$\",\n",
    "#     \"unsup_graph\": r\"$\\omega^\\mathtt{G}$\",\n",
    "#     \"unsup_pc\": r\"$\\omega^\\mathtt{P}$\",\n",
    "    \"palantir\": r\"$\\omega^\\mathtt{1}$\",\n",
    "    \"paga\" : r\"$\\omega^\\mathtt{2}$\",\n",
    "}\n",
    "sub_df = lam_df[list(select_vars.keys())]\n",
    "sub_df = sub_df.rename(index=str, columns=select_vars)\n",
    "sub_df.head()\n",
    "\n",
    "# fn = '/scratch/users/jjzhu/tmp_fig/entero_hm.pdf'\n",
    "fn = None\n",
    "plot_corr_mtx(sub_df, vmin=0.9, fn=fn)\n",
    "# save the lambdas to file\n",
    "# sub_df.to_csv(\"~/lambdas.csv\", index=False)"
   ]
  },
  {
   "cell_type": "code",
   "execution_count": 6,
   "metadata": {},
   "outputs": [
    {
     "name": "stdout",
     "output_type": "stream",
     "text": [
      "Number of genes: 9656\n",
      "original : 7946 (82.2908%)\n"
     ]
    }
   ],
   "source": [
    "# load the sets from table\n",
    "dat_dir = \"/share/PI/sabatti/sc_data/intestine2k\"\n",
    "fn = os.path.join(dat_dir, \"table_D_zonation_reconstruction.tsv\")\n",
    "tab_d_df = pd.read_table(fn, delimiter=\"\\t\").dropna()\n",
    "tab_d_df = tab_d_df.set_index('Gene name')\n",
    "tab_d_df = tab_d_df.reindex(var_df.gene_ids)\n",
    "n_genes = var_df.shape[0]\n",
    "assert tab_d_df.shape[0] == n_genes, 'number of gene mismatch'\n",
    "print('Number of genes: {}'.format(n_genes))\n",
    "threshold = 0.05\n",
    "sub_d_df = tab_d_df.loc[tab_d_df['qval'] < 0.05]\n",
    "n_sel_genes = sub_d_df.shape[0]\n",
    "print('original : {} ({:.4f}%)'.format(n_sel_genes, n_sel_genes/n_genes*100))"
   ]
  },
  {
   "cell_type": "code",
   "execution_count": 7,
   "metadata": {},
   "outputs": [
    {
     "data": {
      "text/html": [
       "<div>\n",
       "<style scoped>\n",
       "    .dataframe tbody tr th:only-of-type {\n",
       "        vertical-align: middle;\n",
       "    }\n",
       "\n",
       "    .dataframe tbody tr th {\n",
       "        vertical-align: top;\n",
       "    }\n",
       "\n",
       "    .dataframe thead th {\n",
       "        text-align: right;\n",
       "    }\n",
       "</style>\n",
       "<table border=\"1\" class=\"dataframe\">\n",
       "  <thead>\n",
       "    <tr style=\"text-align: right;\">\n",
       "      <th></th>\n",
       "      <th>gene_name</th>\n",
       "      <th>indin</th>\n",
       "      <th>clust_idx</th>\n",
       "    </tr>\n",
       "  </thead>\n",
       "  <tbody>\n",
       "    <tr>\n",
       "      <th>0</th>\n",
       "      <td>Mrpl15</td>\n",
       "      <td>8</td>\n",
       "      <td>1</td>\n",
       "    </tr>\n",
       "    <tr>\n",
       "      <th>1</th>\n",
       "      <td>Lypla1</td>\n",
       "      <td>9</td>\n",
       "      <td>3</td>\n",
       "    </tr>\n",
       "    <tr>\n",
       "      <th>2</th>\n",
       "      <td>Arfgef1</td>\n",
       "      <td>40</td>\n",
       "      <td>3</td>\n",
       "    </tr>\n",
       "    <tr>\n",
       "      <th>3</th>\n",
       "      <td>Tram1</td>\n",
       "      <td>52</td>\n",
       "      <td>1</td>\n",
       "    </tr>\n",
       "    <tr>\n",
       "      <th>4</th>\n",
       "      <td>Rpl7</td>\n",
       "      <td>63</td>\n",
       "      <td>4</td>\n",
       "    </tr>\n",
       "  </tbody>\n",
       "</table>\n",
       "</div>"
      ],
      "text/plain": [
       "  gene_name  indin  clust_idx\n",
       "0    Mrpl15      8          1\n",
       "1    Lypla1      9          3\n",
       "2   Arfgef1     40          3\n",
       "3     Tram1     52          1\n",
       "4      Rpl7     63          4"
      ]
     },
     "execution_count": 7,
     "metadata": {},
     "output_type": "execute_result"
    }
   ],
   "source": [
    "# (alternatively) load the genes used for k-means clustering\n",
    "fn =  os.path.join(dat_dir, \"extracted\", \"kmeans_meta.csv\")\n",
    "kdf = pd.read_csv(fn)\n",
    "kdf.head()"
   ]
  },
  {
   "cell_type": "code",
   "execution_count": 8,
   "metadata": {},
   "outputs": [],
   "source": [
    "# look at the intersection between the three methods\n",
    "gset = {}\n",
    "gset['original'] = set(sub_d_df.index)\n",
    "gset['cluster'] = set(kdf.gene_name)"
   ]
  },
  {
   "cell_type": "code",
   "execution_count": 9,
   "metadata": {},
   "outputs": [
    {
     "data": {
      "text/html": [
       "<div>\n",
       "<style scoped>\n",
       "    .dataframe tbody tr th:only-of-type {\n",
       "        vertical-align: middle;\n",
       "    }\n",
       "\n",
       "    .dataframe tbody tr th {\n",
       "        vertical-align: top;\n",
       "    }\n",
       "\n",
       "    .dataframe thead th {\n",
       "        text-align: right;\n",
       "    }\n",
       "</style>\n",
       "<table border=\"1\" class=\"dataframe\">\n",
       "  <thead>\n",
       "    <tr style=\"text-align: right;\">\n",
       "      <th></th>\n",
       "      <th>gene_ids</th>\n",
       "      <th>n_cells</th>\n",
       "      <th>mean</th>\n",
       "      <th>std</th>\n",
       "      <th>npc</th>\n",
       "    </tr>\n",
       "  </thead>\n",
       "  <tbody>\n",
       "    <tr>\n",
       "      <th>0</th>\n",
       "      <td>Mrpl15</td>\n",
       "      <td>530</td>\n",
       "      <td>0.386412</td>\n",
       "      <td>0.530710</td>\n",
       "      <td>530</td>\n",
       "    </tr>\n",
       "    <tr>\n",
       "      <th>1</th>\n",
       "      <td>Lypla1</td>\n",
       "      <td>1045</td>\n",
       "      <td>0.999767</td>\n",
       "      <td>0.698513</td>\n",
       "      <td>1045</td>\n",
       "    </tr>\n",
       "    <tr>\n",
       "      <th>2</th>\n",
       "      <td>Tcea1</td>\n",
       "      <td>367</td>\n",
       "      <td>0.225788</td>\n",
       "      <td>0.401705</td>\n",
       "      <td>367</td>\n",
       "    </tr>\n",
       "    <tr>\n",
       "      <th>3</th>\n",
       "      <td>Atp6v1h</td>\n",
       "      <td>171</td>\n",
       "      <td>0.101006</td>\n",
       "      <td>0.292252</td>\n",
       "      <td>171</td>\n",
       "    </tr>\n",
       "    <tr>\n",
       "      <th>4</th>\n",
       "      <td>Rb1cc1</td>\n",
       "      <td>340</td>\n",
       "      <td>0.220587</td>\n",
       "      <td>0.425791</td>\n",
       "      <td>340</td>\n",
       "    </tr>\n",
       "  </tbody>\n",
       "</table>\n",
       "</div>"
      ],
      "text/plain": [
       "  gene_ids  n_cells      mean       std   npc\n",
       "0   Mrpl15      530  0.386412  0.530710   530\n",
       "1   Lypla1     1045  0.999767  0.698513  1045\n",
       "2    Tcea1      367  0.225788  0.401705   367\n",
       "3  Atp6v1h      171  0.101006  0.292252   171\n",
       "4   Rb1cc1      340  0.220587  0.425791   340"
      ]
     },
     "execution_count": 9,
     "metadata": {},
     "output_type": "execute_result"
    }
   ],
   "source": [
    "var_df.head()"
   ]
  },
  {
   "cell_type": "code",
   "execution_count": 10,
   "metadata": {},
   "outputs": [
    {
     "name": "stderr",
     "output_type": "stream",
     "text": [
      "[feat_viz INFO] pc_vanilla threshold: 0.0401\n",
      "[feat_viz INFO] graph_vanilla threshold: 0.0355\n",
      "[feat_viz INFO] hybrid_vanilla threshold: 0.0273\n"
     ]
    },
    {
     "data": {
      "image/png": "[encoded data removed]",
      "text/plain": [
       "<Figure size 288x288 with 1 Axes>"
      ]
     },
     "metadata": {},
     "output_type": "display_data"
    }
   ],
   "source": [
    "from main_methods import setup_cmp_df\n",
    "from plot_utils import plot_venn\n",
    "\n",
    "pval_df, pval_thres, cmp_sets, mets = setup_cmp_df(pipe_res)\n",
    "for i, met in enumerate(mets[:2]):\n",
    "    gset[met] = set(var_df['gene_ids'][cmp_sets[i]])\n",
    "plot_venn(gset, ['original', 'graph_vanilla'])\n"
   ]
  },
  {
   "cell_type": "code",
   "execution_count": 28,
   "metadata": {},
   "outputs": [
    {
     "name": "stdout",
     "output_type": "stream",
     "text": [
      "original : 7946 (82.2908)%\n",
      "cluster : 2118 (21.9345)%\n",
      "pc_vanilla : 7747 (80.2299)%\n",
      "graph_vanilla : 6892 (71.3753)%\n"
     ]
    },
    {
     "data": {
      "image/png": "[encoded data removed]",
      "text/plain": [
       "<Figure size 288x288 with 1 Axes>"
      ]
     },
     "metadata": {},
     "output_type": "display_data"
    },
    {
     "data": {
      "image/png": "[encoded data removed]",
      "text/plain": [
       "<Figure size 288x288 with 1 Axes>"
      ]
     },
     "metadata": {},
     "output_type": "display_data"
    },
    {
     "data": {
      "image/png": "[encoded data removed]",
      "text/plain": [
       "<Figure size 288x288 with 1 Axes>"
      ]
     },
     "metadata": {},
     "output_type": "display_data"
    },
    {
     "name": "stderr",
     "output_type": "stream",
     "text": [
      "[feat_viz INFO] Saved figure to: /scratch/users/jjzhu/tmp_fig/entero_venn.pdf\n"
     ]
    },
    {
     "data": {
      "image/png": "[encoded data removed]",
      "text/plain": [
       "<Figure size 288x288 with 1 Axes>"
      ]
     },
     "metadata": {},
     "output_type": "display_data"
    }
   ],
   "source": [
    "for met in gset:\n",
    "    n_sel_genes = len(gset[met])\n",
    "    print('{} : {} ({:.4f})%'.format(met, n_sel_genes, n_sel_genes/n_genes*100))\n",
    "plot_venn(gset, ['original', 'graph_vanilla', 'cluster'])\n",
    "plot_venn(gset, ['original', 'cluster'])\n",
    "plot_venn(gset, ['graph_vanilla', 'cluster'])\n",
    "plot_venn(gset, ['original', 'graph_vanilla', 'pc_vanilla'], fn='/scratch/users/jjzhu/tmp_fig/entero_venn.pdf')"
   ]
  },
  {
   "cell_type": "code",
   "execution_count": 80,
   "metadata": {},
   "outputs": [
    {
     "data": {
      "text/plain": [
       "['original', 'pc_vanilla', 'graph_vanilla']"
      ]
     },
     "execution_count": 80,
     "metadata": {},
     "output_type": "execute_result"
    }
   ],
   "source": [
    "keys"
   ]
  },
  {
   "cell_type": "code",
   "execution_count": 59,
   "metadata": {},
   "outputs": [
    {
     "name": "stdout",
     "output_type": "stream",
     "text": [
      "original vs pc_vanilla: 0.7620705142600495\n",
      "original vs graph_vanilla: 0.7153757225433526\n",
      "pc_vanilla vs graph_vanilla: 0.737566765578635\n"
     ]
    }
   ],
   "source": [
    "for i in range(len(keys)):\n",
    "    for j in range(i+1, len(keys)):\n",
    "        m1 = keys[i]\n",
    "        m2 = keys[j]\n",
    "        cap = vals[i].intersection(vals[j])\n",
    "        cup = vals[i].union(vals[j])\n",
    "        score = len(cap) / len(cup)\n",
    "        print('{} vs {}: {}'.format(m1, m2, score))"
   ]
  },
  {
   "cell_type": "code",
   "execution_count": 5,
   "metadata": {},
   "outputs": [
    {
     "name": "stderr",
     "output_type": "stream",
     "text": [
      "[feat_viz INFO] pc_vanilla threshold: 0.0401\n",
      "[feat_viz INFO] graph_vanilla threshold: 0.0355\n"
     ]
    },
    {
     "data": {
      "image/png": "[encoded data removed]",
      "text/plain": [
       "<Figure size 288x288 with 1 Axes>"
      ]
     },
     "metadata": {},
     "output_type": "display_data"
    }
   ],
   "source": [
    "from plot_utils import plot_and_compare_results\n",
    "def compare_methods(res, mlist):\n",
    "    cmp_methods = {}\n",
    "    for m in mlist:\n",
    "        assert m in res, \"{} not found\".format(m)\n",
    "        cmp_methods[m] = res[m]\n",
    "    plot_and_compare_results(cmp_methods)\n",
    "compare_methods(pipe_res, [\"pc_vanilla\", \"graph_vanilla\"])"
   ]
  },
  {
   "cell_type": "code",
   "execution_count": 16,
   "metadata": {},
   "outputs": [
    {
     "data": {
      "text/html": [
       "<div>\n",
       "<style scoped>\n",
       "    .dataframe tbody tr th:only-of-type {\n",
       "        vertical-align: middle;\n",
       "    }\n",
       "\n",
       "    .dataframe tbody tr th {\n",
       "        vertical-align: top;\n",
       "    }\n",
       "\n",
       "    .dataframe thead th {\n",
       "        text-align: right;\n",
       "    }\n",
       "</style>\n",
       "<table border=\"1\" class=\"dataframe\">\n",
       "  <thead>\n",
       "    <tr style=\"text-align: right;\">\n",
       "      <th></th>\n",
       "      <th>gene_ids</th>\n",
       "      <th>n_cells</th>\n",
       "      <th>mean</th>\n",
       "      <th>std</th>\n",
       "      <th>npc</th>\n",
       "    </tr>\n",
       "  </thead>\n",
       "  <tbody>\n",
       "    <tr>\n",
       "      <th>0</th>\n",
       "      <td>Mrpl15</td>\n",
       "      <td>530</td>\n",
       "      <td>0.386412</td>\n",
       "      <td>0.530710</td>\n",
       "      <td>530</td>\n",
       "    </tr>\n",
       "    <tr>\n",
       "      <th>1</th>\n",
       "      <td>Lypla1</td>\n",
       "      <td>1045</td>\n",
       "      <td>0.999767</td>\n",
       "      <td>0.698513</td>\n",
       "      <td>1045</td>\n",
       "    </tr>\n",
       "    <tr>\n",
       "      <th>2</th>\n",
       "      <td>Tcea1</td>\n",
       "      <td>367</td>\n",
       "      <td>0.225788</td>\n",
       "      <td>0.401705</td>\n",
       "      <td>367</td>\n",
       "    </tr>\n",
       "    <tr>\n",
       "      <th>3</th>\n",
       "      <td>Atp6v1h</td>\n",
       "      <td>171</td>\n",
       "      <td>0.101006</td>\n",
       "      <td>0.292252</td>\n",
       "      <td>171</td>\n",
       "    </tr>\n",
       "    <tr>\n",
       "      <th>4</th>\n",
       "      <td>Rb1cc1</td>\n",
       "      <td>340</td>\n",
       "      <td>0.220587</td>\n",
       "      <td>0.425791</td>\n",
       "      <td>340</td>\n",
       "    </tr>\n",
       "  </tbody>\n",
       "</table>\n",
       "</div>"
      ],
      "text/plain": [
       "  gene_ids  n_cells      mean       std   npc\n",
       "0   Mrpl15      530  0.386412  0.530710   530\n",
       "1   Lypla1     1045  0.999767  0.698513  1045\n",
       "2    Tcea1      367  0.225788  0.401705   367\n",
       "3  Atp6v1h      171  0.101006  0.292252   171\n",
       "4   Rb1cc1      340  0.220587  0.425791   340"
      ]
     },
     "execution_count": 16,
     "metadata": {},
     "output_type": "execute_result"
    }
   ],
   "source": [
    "var_df.head()"
   ]
  },
  {
   "cell_type": "code",
   "execution_count": 10,
   "metadata": {},
   "outputs": [
    {
     "data": {
      "text/plain": [
       "(9656, 3)"
      ]
     },
     "execution_count": 10,
     "metadata": {},
     "output_type": "execute_result"
    }
   ],
   "source": [
    "pval_df.shape"
   ]
  },
  {
   "cell_type": "raw",
   "metadata": {},
   "source": [
    "pipe_res"
   ]
  },
  {
   "cell_type": "markdown",
   "metadata": {},
   "source": [
    "### Search for p-values of known genes"
   ]
  },
  {
   "cell_type": "code",
   "execution_count": 6,
   "metadata": {},
   "outputs": [
    {
     "name": "stderr",
     "output_type": "stream",
     "text": [
      "[feat_viz INFO] pc_vanilla threshold: 0.0401\n",
      "[feat_viz INFO] graph_vanilla threshold: 0.0355\n",
      "[feat_viz INFO] pc_vanilla threshold: 0.0401\n",
      "[feat_viz INFO] graph_vanilla threshold: 0.0355\n",
      "[feat_viz INFO] Set selection: (1533, 8)\n",
      "[feat_viz INFO] Set selection: (678, 8)\n"
     ]
    },
    {
     "data": {
      "text/html": [
       "<div>\n",
       "<style scoped>\n",
       "    .dataframe tbody tr th:only-of-type {\n",
       "        vertical-align: middle;\n",
       "    }\n",
       "\n",
       "    .dataframe tbody tr th {\n",
       "        vertical-align: top;\n",
       "    }\n",
       "\n",
       "    .dataframe thead th {\n",
       "        text-align: right;\n",
       "    }\n",
       "</style>\n",
       "<table border=\"1\" class=\"dataframe\">\n",
       "  <thead>\n",
       "    <tr style=\"text-align: right;\">\n",
       "      <th></th>\n",
       "      <th>n_cells</th>\n",
       "      <th>mean</th>\n",
       "      <th>std</th>\n",
       "      <th>npc</th>\n",
       "      <th>pc_vanilla</th>\n",
       "      <th>graph_vanilla</th>\n",
       "      <th>exclusive_rejection</th>\n",
       "    </tr>\n",
       "    <tr>\n",
       "      <th>gene_ids</th>\n",
       "      <th></th>\n",
       "      <th></th>\n",
       "      <th></th>\n",
       "      <th></th>\n",
       "      <th></th>\n",
       "      <th></th>\n",
       "      <th></th>\n",
       "    </tr>\n",
       "  </thead>\n",
       "  <tbody>\n",
       "    <tr>\n",
       "      <th>Gm4262</th>\n",
       "      <td>13</td>\n",
       "      <td>0.011172</td>\n",
       "      <td>0.118423</td>\n",
       "      <td>13</td>\n",
       "      <td>0.0001</td>\n",
       "      <td>0.996200</td>\n",
       "      <td>pc_vanilla</td>\n",
       "    </tr>\n",
       "    <tr>\n",
       "      <th>Dhdds</th>\n",
       "      <td>123</td>\n",
       "      <td>0.066306</td>\n",
       "      <td>0.225791</td>\n",
       "      <td>123</td>\n",
       "      <td>0.0001</td>\n",
       "      <td>0.953905</td>\n",
       "      <td>pc_vanilla</td>\n",
       "    </tr>\n",
       "    <tr>\n",
       "      <th>Cbr4</th>\n",
       "      <td>69</td>\n",
       "      <td>0.035134</td>\n",
       "      <td>0.160391</td>\n",
       "      <td>69</td>\n",
       "      <td>0.0001</td>\n",
       "      <td>0.941406</td>\n",
       "      <td>pc_vanilla</td>\n",
       "    </tr>\n",
       "    <tr>\n",
       "      <th>Coq3</th>\n",
       "      <td>66</td>\n",
       "      <td>0.032493</td>\n",
       "      <td>0.150676</td>\n",
       "      <td>66</td>\n",
       "      <td>0.0001</td>\n",
       "      <td>0.938006</td>\n",
       "      <td>pc_vanilla</td>\n",
       "    </tr>\n",
       "    <tr>\n",
       "      <th>Prorsd1</th>\n",
       "      <td>163</td>\n",
       "      <td>0.092856</td>\n",
       "      <td>0.270002</td>\n",
       "      <td>163</td>\n",
       "      <td>0.0001</td>\n",
       "      <td>0.936406</td>\n",
       "      <td>pc_vanilla</td>\n",
       "    </tr>\n",
       "  </tbody>\n",
       "</table>\n",
       "</div>"
      ],
      "text/plain": [
       "          n_cells      mean       std  npc  pc_vanilla  graph_vanilla  \\\n",
       "gene_ids                                                                \n",
       "Gm4262         13  0.011172  0.118423   13      0.0001       0.996200   \n",
       "Dhdds         123  0.066306  0.225791  123      0.0001       0.953905   \n",
       "Cbr4           69  0.035134  0.160391   69      0.0001       0.941406   \n",
       "Coq3           66  0.032493  0.150676   66      0.0001       0.938006   \n",
       "Prorsd1       163  0.092856  0.270002  163      0.0001       0.936406   \n",
       "\n",
       "         exclusive_rejection  \n",
       "gene_ids                      \n",
       "Gm4262            pc_vanilla  \n",
       "Dhdds             pc_vanilla  \n",
       "Cbr4              pc_vanilla  \n",
       "Coq3              pc_vanilla  \n",
       "Prorsd1           pc_vanilla  "
      ]
     },
     "metadata": {},
     "output_type": "display_data"
    }
   ],
   "source": [
    "from main_methods import setup_cmp_df, get_unique_rejection_df\n",
    "from plot_utils import create_color_map, plot_full_pattern\n",
    "from matplotlib.ticker import FormatStrFormatter\n",
    "from plot_utils import update_boxplot_cols\n",
    "from plot_utils import plot_gene_expr_comp\n",
    "from scrna_utils import get_gene_df\n",
    "\n",
    "cmp_methods = {key: pipe_res[key] for key in [\"pc_vanilla\", \"graph_vanilla\"]}\n",
    "pval_df, pval_thres, cmp_sets, mets = setup_cmp_df(cmp_methods)\n",
    "pval_df = pd.concat([var_df.reset_index(drop=True), pval_df], axis=1)\n",
    "report_genes = [\"Hamp\", \"Hamp2\", \"Igfbp2\", \"Mup3\", \"Cyp8b1\"]\n",
    "unique_dict, unique_df = get_unique_rejection_df(cmp_methods, var_df)\n",
    "unique_glist = {}\n",
    "top_k = 10\n",
    "for key in cmp_methods:\n",
    "    unique_glist[key] = list(unique_dict[key].index[:top_k])\n",
    "#     display(unique_dict[key].head(top_k))\n",
    "display(unique_df.head())"
   ]
  },
  {
   "cell_type": "code",
   "execution_count": 30,
   "metadata": {},
   "outputs": [
    {
     "name": "stderr",
     "output_type": "stream",
     "text": [
      "[feat_viz INFO] Number of original smFISH genes: 23\n",
      "[feat_viz INFO] Number of intersecting smFISH genes: 22\n",
      "[feat_viz INFO] Cdh1 only rejected by graph_vanilla\n"
     ]
    },
    {
     "data": {
      "text/html": [
       "<div>\n",
       "<style scoped>\n",
       "    .dataframe tbody tr th:only-of-type {\n",
       "        vertical-align: middle;\n",
       "    }\n",
       "\n",
       "    .dataframe tbody tr th {\n",
       "        vertical-align: top;\n",
       "    }\n",
       "\n",
       "    .dataframe thead th {\n",
       "        text-align: right;\n",
       "    }\n",
       "</style>\n",
       "<table border=\"1\" class=\"dataframe\">\n",
       "  <thead>\n",
       "    <tr style=\"text-align: right;\">\n",
       "      <th></th>\n",
       "      <th>gene_ids</th>\n",
       "      <th>n_cells</th>\n",
       "      <th>mean</th>\n",
       "      <th>std</th>\n",
       "      <th>npc</th>\n",
       "      <th>pc_vanilla</th>\n",
       "      <th>graph_vanilla</th>\n",
       "    </tr>\n",
       "  </thead>\n",
       "  <tbody>\n",
       "    <tr>\n",
       "      <th>149</th>\n",
       "      <td>Cps1</td>\n",
       "      <td>624</td>\n",
       "      <td>0.674070</td>\n",
       "      <td>0.844695</td>\n",
       "      <td>624</td>\n",
       "      <td>0.0001</td>\n",
       "      <td>0.0001</td>\n",
       "    </tr>\n",
       "    <tr>\n",
       "      <th>310</th>\n",
       "      <td>Pigr</td>\n",
       "      <td>1284</td>\n",
       "      <td>2.565508</td>\n",
       "      <td>0.998651</td>\n",
       "      <td>1284</td>\n",
       "      <td>0.0001</td>\n",
       "      <td>0.0001</td>\n",
       "    </tr>\n",
       "    <tr>\n",
       "      <th>987</th>\n",
       "      <td>Slc28a2</td>\n",
       "      <td>258</td>\n",
       "      <td>0.406770</td>\n",
       "      <td>0.986160</td>\n",
       "      <td>258</td>\n",
       "      <td>0.0001</td>\n",
       "      <td>0.0001</td>\n",
       "    </tr>\n",
       "    <tr>\n",
       "      <th>1196</th>\n",
       "      <td>Ada</td>\n",
       "      <td>716</td>\n",
       "      <td>1.053582</td>\n",
       "      <td>1.464546</td>\n",
       "      <td>716</td>\n",
       "      <td>0.0001</td>\n",
       "      <td>0.0001</td>\n",
       "    </tr>\n",
       "    <tr>\n",
       "      <th>1583</th>\n",
       "      <td>Slc2a2</td>\n",
       "      <td>650</td>\n",
       "      <td>0.663044</td>\n",
       "      <td>0.774591</td>\n",
       "      <td>650</td>\n",
       "      <td>0.0001</td>\n",
       "      <td>0.0001</td>\n",
       "    </tr>\n",
       "  </tbody>\n",
       "</table>\n",
       "</div>"
      ],
      "text/plain": [
       "     gene_ids  n_cells      mean       std   npc  pc_vanilla  graph_vanilla\n",
       "149      Cps1      624  0.674070  0.844695   624      0.0001         0.0001\n",
       "310      Pigr     1284  2.565508  0.998651  1284      0.0001         0.0001\n",
       "987   Slc28a2      258  0.406770  0.986160   258      0.0001         0.0001\n",
       "1196      Ada      716  1.053582  1.464546   716      0.0001         0.0001\n",
       "1583   Slc2a2      650  0.663044  0.774591   650      0.0001         0.0001"
      ]
     },
     "metadata": {},
     "output_type": "display_data"
    },
    {
     "name": "stderr",
     "output_type": "stream",
     "text": [
      "[feat_viz INFO] Cyp4f14 only rejected by graph_vanilla\n",
      "[feat_viz INFO] Aoc1 only rejected by graph_vanilla\n",
      "[feat_viz INFO] Acbd4 only rejected by graph_vanilla\n",
      "[feat_viz INFO] Eif4ebp1 only rejected by graph_vanilla\n",
      "[feat_viz INFO] Agmo only rejected by graph_vanilla\n",
      "[feat_viz INFO] Otop3 only rejected by graph_vanilla\n",
      "[feat_viz INFO] Tcn2 only rejected by graph_vanilla\n",
      "[feat_viz INFO] Sec23a only rejected by graph_vanilla\n"
     ]
    },
    {
     "data": {
      "text/html": [
       "<div>\n",
       "<style scoped>\n",
       "    .dataframe tbody tr th:only-of-type {\n",
       "        vertical-align: middle;\n",
       "    }\n",
       "\n",
       "    .dataframe tbody tr th {\n",
       "        vertical-align: top;\n",
       "    }\n",
       "\n",
       "    .dataframe thead th {\n",
       "        text-align: right;\n",
       "    }\n",
       "</style>\n",
       "<table border=\"1\" class=\"dataframe\">\n",
       "  <thead>\n",
       "    <tr style=\"text-align: right;\">\n",
       "      <th></th>\n",
       "      <th>gene_ids</th>\n",
       "      <th>n_cells</th>\n",
       "      <th>mean</th>\n",
       "      <th>std</th>\n",
       "      <th>npc</th>\n",
       "      <th>pc_vanilla</th>\n",
       "      <th>graph_vanilla</th>\n",
       "    </tr>\n",
       "  </thead>\n",
       "  <tbody>\n",
       "    <tr>\n",
       "      <th>3424</th>\n",
       "      <td>Aoc1</td>\n",
       "      <td>990</td>\n",
       "      <td>1.016379</td>\n",
       "      <td>0.773854</td>\n",
       "      <td>990</td>\n",
       "      <td>0.990301</td>\n",
       "      <td>0.0001</td>\n",
       "    </tr>\n",
       "    <tr>\n",
       "      <th>5056</th>\n",
       "      <td>Eif4ebp1</td>\n",
       "      <td>203</td>\n",
       "      <td>0.121197</td>\n",
       "      <td>0.315728</td>\n",
       "      <td>203</td>\n",
       "      <td>0.977202</td>\n",
       "      <td>0.0001</td>\n",
       "    </tr>\n",
       "    <tr>\n",
       "      <th>6366</th>\n",
       "      <td>Tcn2</td>\n",
       "      <td>937</td>\n",
       "      <td>0.894356</td>\n",
       "      <td>0.739364</td>\n",
       "      <td>937</td>\n",
       "      <td>0.947905</td>\n",
       "      <td>0.0001</td>\n",
       "    </tr>\n",
       "    <tr>\n",
       "      <th>6987</th>\n",
       "      <td>Acbd4</td>\n",
       "      <td>858</td>\n",
       "      <td>0.729065</td>\n",
       "      <td>0.659869</td>\n",
       "      <td>858</td>\n",
       "      <td>0.982502</td>\n",
       "      <td>0.0001</td>\n",
       "    </tr>\n",
       "    <tr>\n",
       "      <th>7043</th>\n",
       "      <td>Otop3</td>\n",
       "      <td>138</td>\n",
       "      <td>0.100307</td>\n",
       "      <td>0.318529</td>\n",
       "      <td>138</td>\n",
       "      <td>0.960904</td>\n",
       "      <td>0.0001</td>\n",
       "    </tr>\n",
       "  </tbody>\n",
       "</table>\n",
       "</div>"
      ],
      "text/plain": [
       "      gene_ids  n_cells      mean       std  npc  pc_vanilla  graph_vanilla\n",
       "3424      Aoc1      990  1.016379  0.773854  990    0.990301         0.0001\n",
       "5056  Eif4ebp1      203  0.121197  0.315728  203    0.977202         0.0001\n",
       "6366      Tcn2      937  0.894356  0.739364  937    0.947905         0.0001\n",
       "6987     Acbd4      858  0.729065  0.659869  858    0.982502         0.0001\n",
       "7043     Otop3      138  0.100307  0.318529  138    0.960904         0.0001"
      ]
     },
     "metadata": {},
     "output_type": "display_data"
    }
   ],
   "source": [
    "def report_gene_info(report_genes):\n",
    "    for gene in report_genes:\n",
    "        if gene in unique_df.index:\n",
    "            gene_info = unique_df.loc[gene]\n",
    "            logger.info(\"{} only rejected by {}\".format(gene, gene_info[\"exclusive_rejection\"]))\n",
    "    display(pval_df[pval_df[\"gene_ids\"].isin(report_genes)].head(5))\n",
    "\n",
    "def plot_gene_expression(genes, horizontal=False):\n",
    "    gene_df = get_gene_df(genes, var_df, mtx)\n",
    "#     report_gene_info(genes)\n",
    "    plot_gene_expr_comp(lam_df, gene_df, methods, select_vars, horizontal=horizontal)\n",
    "    \n",
    "fn = \"/share/PI/sabatti/sc_data/intestine2k/extracted/smFISH_genes.csv\"\n",
    "smFISH_genes = list(pd.read_csv(fn, header=None)[0])\n",
    "logger.info(\"Number of original smFISH genes: {}\".format(len(smFISH_genes)))\n",
    "smFISH_genes = list(set(smFISH_genes).intersection(set(var_df[\"gene_ids\"])))\n",
    "smFISH_genes = sorted(smFISH_genes)\n",
    "logger.info(\"Number of intersecting smFISH genes: {}\".format(len(smFISH_genes)))\n",
    "report_gene_info(smFISH_genes)   \n",
    "\n",
    "graph_top_uniq_genes = unique_glist[\"graph_vanilla\"][:8]\n",
    "report_gene_info(graph_top_uniq_genes)   "
   ]
  },
  {
   "cell_type": "code",
   "execution_count": null,
   "metadata": {},
   "outputs": [],
   "source": []
  }
 ],
 "metadata": {
  "kernelspec": {
   "display_name": "Python 3",
   "language": "python",
   "name": "python3"
  },
  "language_info": {
   "codemirror_mode": {
    "name": "ipython",
    "version": 3
   },
   "file_extension": ".py",
   "mimetype": "text/x-python",
   "name": "python",
   "nbconvert_exporter": "python",
   "pygments_lexer": "ipython3",
   "version": "3.6.1"
  }
 },
 "nbformat": 4,
 "nbformat_minor": 2
}
