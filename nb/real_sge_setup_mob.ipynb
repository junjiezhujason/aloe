{
 "cells": [
  {
   "cell_type": "code",
   "execution_count": 2,
   "metadata": {},
   "outputs": [],
   "source": [
    "%load_ext autoreload\n",
    "%autoreload 2\n",
    "%matplotlib inline\n",
    "from IPython.display import display\n",
    "import sys\n",
    "import os\n",
    "import logging\n",
    "\n",
    "sys.path.insert(0,'../src')\n",
    "import matplotlib as mpl\n",
    "mpl.rcParams['figure.dpi']= 100"
   ]
  },
  {
   "cell_type": "code",
   "execution_count": 3,
   "metadata": {},
   "outputs": [],
   "source": [
    "mpl.rcParams['axes.spines.right'] = False\n",
    "mpl.rcParams['axes.spines.top'] = False\n",
    "import numpy as np\n",
    "import pandas as pd\n",
    "import seaborn as sns\n",
    "import matplotlib.pyplot as plt\n",
    "\n",
    "logger = logging.getLogger(\"feat_viz\")\n",
    "logging.basicConfig(format='[%(name)s %(levelname)s] %(message)s', level=logging.INFO)"
   ]
  },
  {
   "cell_type": "code",
   "execution_count": null,
   "metadata": {},
   "outputs": [
    {
     "name": "stdout",
     "output_type": "stream",
     "text": [
      "raw data dim: (237, 15284)\n",
      "Rep9_processing: (234, 14109)\n"
     ]
    },
    {
     "data": {
      "image/png": "[encoded data removed]",
      "text/plain": [
       "<Figure size 432x288 with 1 Axes>"
      ]
     },
     "metadata": {},
     "output_type": "display_data"
    },
    {
     "name": "stdout",
     "output_type": "stream",
     "text": [
      "Saved: /share/PI/sabatti/sc_data/spatial_ge/scGCO/data/MouseOB/our_results/Rep9_result_df.csv\n",
      "(180,)\n",
      "(327, 241)\n",
      "(142, 19)\n",
      "raw data dim: (281, 16416)\n",
      "Rep10_processing: (278, 14764)\n"
     ]
    },
    {
     "data": {
      "image/png": "[encoded data removed]",
      "text/plain": [
       "<Figure size 432x288 with 1 Axes>"
      ]
     },
     "metadata": {},
     "output_type": "display_data"
    },
    {
     "name": "stdout",
     "output_type": "stream",
     "text": [
      "Saved: /share/PI/sabatti/sc_data/spatial_ge/scGCO/data/MouseOB/our_results/Rep10_result_df.csv\n",
      "(909,)\n",
      "(1330, 285)\n",
      "(607, 19)\n",
      "raw data dim: (262, 16218)\n",
      "Rep11_processing: (259, 14639)\n"
     ]
    },
    {
     "data": {
      "image/png": "[encoded data removed]",
      "text/plain": [
       "<Figure size 432x288 with 1 Axes>"
      ]
     },
     "metadata": {},
     "output_type": "display_data"
    }
   ],
   "source": [
    "from general_utils import read_spatial_expression, normalize_count_cellranger\n",
    "from io_utils import save_data_to_file, load_data_from_file\n",
    "from main_methods import select_spatial_genes\n",
    "\n",
    "def load_replicate_result(j, cache=True):\n",
    "    # load the data for a given replicate\n",
    "    ddir = '/Users/jjzhu/Google Drive/_GLISS/data/scGCO'\n",
    "    ff = ddir + '/data/Raw_data/MOB-breast-cancer/Rep' + str(j) +  '_MOB_count_matrix-1.tsv'\n",
    "    locs,data=read_spatial_expression(ff,sep='\\t')\n",
    "    data_norm = normalize_count_cellranger(data)\n",
    "    print('Rep{}_processing: {}'.format(j,data_norm.shape))\n",
    "    fig, ax = plt.subplots(1,1, figsize=(6, 4))\n",
    "    ax.scatter(*locs.T, c='k')\n",
    "    plt.axis('equal')\n",
    "    plt.show()\n",
    "    alpha= 0.01\n",
    "    \n",
    "    fn =  ddir+'/data/MouseOB/our_results/Rep'+ str(j)+'_result_df.csv'\n",
    "    if cache and os.path.exists(fn):\n",
    "        result = load_data_from_file(fn, 'csv')\n",
    "        rej_idx = result.loc[result['reject']].index\n",
    "        print('Loaded: {}'.format(fn))\n",
    "        ours = result.geneID[rej_idx]\n",
    "    else:\n",
    "        # run our method\n",
    "        pvals, rej_idx = select_spatial_genes(locs, \n",
    "                                              data_norm.values, \n",
    "                                              alpha=alpha,\n",
    "                                              n_perm=100000)\n",
    "        reject = np.array([False] * len(pvals))\n",
    "        reject[rej_idx] = True\n",
    "        result = pd.DataFrame({'pvalue': pvals, 'reject': reject, \n",
    "                               'geneID':data_norm.columns}, \n",
    "                               index=data_norm.columns)\n",
    "        # save result to file\n",
    "        save_data_to_file(result, fn, 'csv')        \n",
    "        print('Saved: {}'.format(fn))\n",
    "        ours = data_norm.columns[rej_idx]\n",
    "    \n",
    "    print(ours.shape)\n",
    "\n",
    "    # load scgco result\n",
    "    fn = ddir+'/data/MouseOB/scGCO_results/Rep'+ str(j)+'_result_df.csv'\n",
    "    gco_df = pd.read_csv(fn, index_col=0)\n",
    "    gco_df = gco_df.loc[gco_df['fdr'] < alpha]\n",
    "    print(gco_df.shape)\n",
    "\n",
    "    # load spatial de result\n",
    "    de_df=pd.read_csv(ddir+'/data/MouseOB/spatialDE_results/Rep'+ str(j)+'_MOB_results.csv')\n",
    "    de_df=de_df[de_df.qval<0.05]\n",
    "    de_df=de_df.query(\"g!='log_total_count'\")\n",
    "    print(de_df.shape)\n",
    "    \n",
    "    return {\n",
    "        'scGCO': set(gco_df.index),\n",
    "        'SpatialDE': set(de_df.g.values),\n",
    "        'Ours': set(ours)\n",
    "    }\n",
    "res = {}\n",
    "for v in [9, 10, 11]:\n",
    "    res[v] = load_replicate_result(v, cache=False)"
   ]
  },
  {
   "cell_type": "code",
   "execution_count": null,
   "metadata": {},
   "outputs": [],
   "source": []
  }
 ],
 "metadata": {
  "kernelspec": {
   "display_name": "Python 3",
   "language": "python",
   "name": "python3"
  },
  "language_info": {
   "codemirror_mode": {
    "name": "ipython",
    "version": 3
   },
   "file_extension": ".py",
   "mimetype": "text/x-python",
   "name": "python",
   "nbconvert_exporter": "python",
   "pygments_lexer": "ipython3",
   "version": "3.6.0"
  }
 },
 "nbformat": 4,
 "nbformat_minor": 2
}
