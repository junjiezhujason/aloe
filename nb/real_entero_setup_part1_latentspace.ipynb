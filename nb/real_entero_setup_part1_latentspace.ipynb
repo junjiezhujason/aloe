{
 "cells": [
  {
   "cell_type": "code",
   "execution_count": 1,
   "metadata": {},
   "outputs": [],
   "source": [
    "%load_ext autoreload\n",
    "%autoreload 2\n",
    "%matplotlib inline\n",
    "from IPython.display import display\n",
    "import sys\n",
    "import os\n",
    "import logging\n",
    "import numpy as np\n",
    "import pandas as pd\n",
    "import seaborn as sns\n",
    "import matplotlib.pyplot as plt\n",
    "\n",
    "logger = logging.getLogger(\"feat_viz\")\n",
    "logging.basicConfig(format='[%(name)s %(levelname)s] %(message)s', level=logging.INFO)\n",
    "\n",
    "sys.path.insert(0,'../src')\n",
    "import matplotlib as mpl\n",
    "mpl.rcParams['figure.dpi']= 100"
   ]
  },
  {
   "cell_type": "code",
   "execution_count": 2,
   "metadata": {},
   "outputs": [],
   "source": [
    "def compare_sets(ours, theirs):\n",
    "    our_set = set(ours)\n",
    "    orig_set = set(theirs)\n",
    "    int_set = our_set.intersection(orig_set)\n",
    "    print('{} and {} intersect {}'.format(len(our_set),len(orig_set), len(int_set)))"
   ]
  },
  {
   "cell_type": "code",
   "execution_count": 3,
   "metadata": {},
   "outputs": [],
   "source": [
    "from io_utils import save_data_to_file\n",
    "res_dir = \"/Users/jjzhu/Google Drive/_GLISS/data/analysis_060719\"\n",
    "RDIR = os.path.join(res_dir, \"entero_data\", \"results_our_lm\")"
   ]
  },
  {
   "cell_type": "markdown",
   "metadata": {},
   "source": [
    "# Step 1: Select LM genes from SGE Data"
   ]
  },
  {
   "cell_type": "code",
   "execution_count": 4,
   "metadata": {},
   "outputs": [
    {
     "name": "stdout",
     "output_type": "stream",
     "text": [
      "(20882, 15)\n",
      "1005\n"
     ]
    }
   ],
   "source": [
    "# prepare the data so that the zones correspond to different genes\n",
    "dat_dir = \"/Users/jjzhu/Google Drive/_GLISS/data/intestine2k\"\n",
    "fn = os.path.join(dat_dir, \"table_A_LCM_TPM_values.tsv\")\n",
    "lcm_rna_df = pd.read_table(fn, delimiter=\"\\t\")\n",
    "lcm_rna_df.index = lcm_rna_df['external_gene_name']\n",
    "cols = lcm_rna_df.columns\n",
    "use_cols = cols[cols.str.startswith('Villus')]\n",
    "sge_mtx = np.log(1+lcm_rna_df[use_cols])\n",
    "print(sge_mtx.shape)\n",
    "sge_mtx.head()\n",
    "# quality control\n",
    "mean_thres = 4.5\n",
    "gene_mean = np.mean(sge_mtx, axis=1)\n",
    "init_genes = gene_mean[gene_mean > mean_thres]\n",
    "init_genes = set(init_genes.index)\n",
    "print(len(init_genes))"
   ]
  },
  {
   "cell_type": "code",
   "execution_count": 5,
   "metadata": {},
   "outputs": [
    {
     "data": {
      "image/png": "[encoded data removed]",
      "text/plain": [
       "<Figure size 600x400 with 2 Axes>"
      ]
     },
     "metadata": {},
     "output_type": "display_data"
    }
   ],
   "source": [
    "from graph_utils import construct_kernal_graph, construct_knn_naive\n",
    "data_mtx = sge_mtx.loc[init_genes]\n",
    "zone_ids = use_cols.to_series().apply(lambda x: x.split('_')[1])\n",
    "zone_ids = np.expand_dims(zone_ids.values.astype(int), 1)\n",
    "graph = construct_kernal_graph(zone_ids)\n",
    "sns.heatmap(graph.toarray(),square=True)\n",
    "plt.show()"
   ]
  },
  {
   "cell_type": "code",
   "execution_count": 5,
   "metadata": {},
   "outputs": [],
   "source": [
    "from main_methods import compute_feature_pvals, multitest_rejections\n",
    "n_perms = 10000\n",
    "pvals = compute_feature_pvals('graph', data_mtx.values.T, graph, n_perms, 'pool', seed=0)"
   ]
  },
  {
   "cell_type": "code",
   "execution_count": 6,
   "metadata": {},
   "outputs": [],
   "source": [
    "alpha = 0.05\n",
    "rej_idx = multitest_rejections(pvals, alpha, method=\"BH\")\n",
    "lm_gene_set = set(data_mtx.iloc[rej_idx].index)"
   ]
  },
  {
   "cell_type": "code",
   "execution_count": 10,
   "metadata": {},
   "outputs": [],
   "source": [
    "fn = os.path.join(RDIR, 'our_LM_genes.pkl')\n",
    "save_data_to_file(lm_gene_set, fn, 'pkl')"
   ]
  },
  {
   "cell_type": "markdown",
   "metadata": {},
   "source": [
    "## Compare with the original study"
   ]
  },
  {
   "cell_type": "code",
   "execution_count": 7,
   "metadata": {},
   "outputs": [
    {
     "name": "stderr",
     "output_type": "stream",
     "text": [
      "[feat_viz INFO] Loaded 453 genes\n",
      "[feat_viz INFO] Kept 243 genes with max expr > 0.001 \n",
      "[feat_viz INFO] Kept 45 high zone genes with geom avg > 3.5 \n",
      "[feat_viz INFO] Kept 64 low zone genes with geom avg < 2.5 \n",
      "[feat_viz INFO] Number of original lm genes: 109\n"
     ]
    },
    {
     "name": "stdout",
     "output_type": "stream",
     "text": [
      "1005 and 109 intersect 103\n"
     ]
    }
   ],
   "source": [
    "from intestine_info import get_intestine_rna_lm_genes\n",
    "lm_genes = get_intestine_rna_lm_genes(dat_dir)\n",
    "orig_init_genes = set(lm_genes[\"high\"] + lm_genes[\"low\"])\n",
    "logger.info(\"Number of original lm genes: {}\".format(len(orig_init_genes)))\n",
    "compare_sets(init_genes, orig_init_genes)\n",
    "# compare_sets(lm_gene_set, orig_init_genes)"
   ]
  },
  {
   "cell_type": "markdown",
   "metadata": {},
   "source": [
    "## Load the processed data"
   ]
  },
  {
   "cell_type": "markdown",
   "metadata": {},
   "source": [
    "https://linkinghub.elsevier.com/retrieve/pii/S0092-8674(18)31164-4\n",
    "\n",
    "Raw UMI counts of the resulting 1383 enterocytes and transientamplifying cells were exported and utilized for zonation reconstruction algorithm (https://zenodo.org/record/1320734 under thefiles table_B_scRNaseq_UMI_counts.tsv and table_C_scRNaseq_tsne_coordinates_zones.tsv)."
   ]
  },
  {
   "cell_type": "code",
   "execution_count": 48,
   "metadata": {},
   "outputs": [
    {
     "name": "stderr",
     "output_type": "stream",
     "text": [
      "[feat_viz INFO] {'Crypt': 0, 'V1': 1, 'V2': 2, 'V3': 3, 'V4': 4, 'V5': 5, 'V6': 6}\n"
     ]
    },
    {
     "data": {
      "text/plain": [
       "(1383, 9656)"
      ]
     },
     "execution_count": 48,
     "metadata": {},
     "output_type": "execute_result"
    }
   ],
   "source": [
    "from intestine_info import load_processed_enterocyte_data\n",
    "from intestine_info import load_original_entero_zonation\n",
    "\n",
    "obs_df, var_df, mtx = load_processed_enterocyte_data(res_dir)\n",
    "zone_vals = load_original_entero_zonation(just_vals=True)\n",
    "mtx.shape"
   ]
  },
  {
   "cell_type": "code",
   "execution_count": 49,
   "metadata": {},
   "outputs": [
    {
     "data": {
      "text/html": [
       "<div>\n",
       "<style scoped>\n",
       "    .dataframe tbody tr th:only-of-type {\n",
       "        vertical-align: middle;\n",
       "    }\n",
       "\n",
       "    .dataframe tbody tr th {\n",
       "        vertical-align: top;\n",
       "    }\n",
       "\n",
       "    .dataframe thead th {\n",
       "        text-align: right;\n",
       "    }\n",
       "</style>\n",
       "<table border=\"1\" class=\"dataframe\">\n",
       "  <thead>\n",
       "    <tr style=\"text-align: right;\">\n",
       "      <th></th>\n",
       "      <th>gene_ids</th>\n",
       "      <th>n_cells</th>\n",
       "      <th>mean</th>\n",
       "      <th>std</th>\n",
       "      <th>npc</th>\n",
       "    </tr>\n",
       "  </thead>\n",
       "  <tbody>\n",
       "    <tr>\n",
       "      <th>0</th>\n",
       "      <td>Mrpl15</td>\n",
       "      <td>530</td>\n",
       "      <td>0.386412</td>\n",
       "      <td>0.530710</td>\n",
       "      <td>530</td>\n",
       "    </tr>\n",
       "    <tr>\n",
       "      <th>1</th>\n",
       "      <td>Lypla1</td>\n",
       "      <td>1045</td>\n",
       "      <td>0.999767</td>\n",
       "      <td>0.698513</td>\n",
       "      <td>1045</td>\n",
       "    </tr>\n",
       "    <tr>\n",
       "      <th>2</th>\n",
       "      <td>Tcea1</td>\n",
       "      <td>367</td>\n",
       "      <td>0.225788</td>\n",
       "      <td>0.401705</td>\n",
       "      <td>367</td>\n",
       "    </tr>\n",
       "    <tr>\n",
       "      <th>3</th>\n",
       "      <td>Atp6v1h</td>\n",
       "      <td>171</td>\n",
       "      <td>0.101006</td>\n",
       "      <td>0.292252</td>\n",
       "      <td>171</td>\n",
       "    </tr>\n",
       "    <tr>\n",
       "      <th>4</th>\n",
       "      <td>Rb1cc1</td>\n",
       "      <td>340</td>\n",
       "      <td>0.220587</td>\n",
       "      <td>0.425791</td>\n",
       "      <td>340</td>\n",
       "    </tr>\n",
       "  </tbody>\n",
       "</table>\n",
       "</div>"
      ],
      "text/plain": [
       "  gene_ids  n_cells      mean       std   npc\n",
       "0   Mrpl15      530  0.386412  0.530710   530\n",
       "1   Lypla1     1045  0.999767  0.698513  1045\n",
       "2    Tcea1      367  0.225788  0.401705   367\n",
       "3  Atp6v1h      171  0.101006  0.292252   171\n",
       "4   Rb1cc1      340  0.220587  0.425791   340"
      ]
     },
     "execution_count": 49,
     "metadata": {},
     "output_type": "execute_result"
    }
   ],
   "source": [
    "var_df.head()"
   ]
  },
  {
   "cell_type": "code",
   "execution_count": 57,
   "metadata": {},
   "outputs": [
    {
     "name": "stderr",
     "output_type": "stream",
     "text": [
      "[feat_viz INFO] x_star_df dim: (1383, 97)\n",
      "[feat_viz INFO] x_star_df dim: (1383, 289)\n"
     ]
    },
    {
     "name": "stdout",
     "output_type": "stream",
     "text": [
      "Intersection (109, 9656) -> 97\n",
      "Intersection (324, 9656) -> 289\n",
      "97 and 289 intersect 55\n"
     ]
    }
   ],
   "source": [
    "from scrna_utils import get_gene_df\n",
    "theirs_x_star_df = get_gene_df(list(orig_init_genes), var_df, mtx)\n",
    "x_star_df = get_gene_df(list(lm_gene_set), var_df, mtx)\n",
    "compare_sets(theirs_x_star_df.columns, x_star_df.columns)"
   ]
  },
  {
   "cell_type": "code",
   "execution_count": 64,
   "metadata": {},
   "outputs": [],
   "source": [
    "from main_methods import run_procedure, run_unsupervised, evaluate_result\n",
    "params = {\n",
    "    \"method\": None,\n",
    "    \"n_perms\": 10000,\n",
    "    \"perm_method\": \"pool\",\n",
    "    \"alpha\": 0.05, \n",
    "    \"graph_k\": 10,\n",
    "}"
   ]
  },
  {
   "cell_type": "code",
   "execution_count": 65,
   "metadata": {},
   "outputs": [
    {
     "name": "stderr",
     "output_type": "stream",
     "text": [
      "[feat_viz INFO] Saving results to: /share/PI/sabatti/feat_viz/real_analysis_result/analysis_060719/entero_data/results_our_lm/lam_graph_unsupervised.plk\n",
      "[feat_viz INFO] Saving results to: /share/PI/sabatti/feat_viz/real_analysis_result/analysis_060719/entero_data/results_our_lm/lam_pc_unsupervised.plk\n"
     ]
    }
   ],
   "source": [
    "for method in [\"graph\", \"pc\"]:\n",
    "    params[\"method\"] = method\n",
    "    name = \"unsup_{}\".format(method)\n",
    "    fn =  \"lam_{}_unsupervised.plk\".format(method)\n",
    "    fn = os.path.join(RDIR, fn)\n",
    "    result = run_unsupervised(x_star_df.values, mtx, params, fn=fn)"
   ]
  },
  {
   "cell_type": "markdown",
   "metadata": {},
   "source": [
    "### Run our prescribed procedures"
   ]
  },
  {
   "cell_type": "code",
   "execution_count": 63,
   "metadata": {},
   "outputs": [
    {
     "name": "stderr",
     "output_type": "stream",
     "text": [
      "[feat_viz INFO] Running pc-based procedure\n",
      "[feat_viz INFO] Inferred initial latent variables\n",
      "[feat_viz INFO] Selecting pc-based features...\n",
      "[feat_viz INFO] Updated latent variables...\n",
      "[feat_viz INFO] Saving results to: /share/PI/sabatti/feat_viz/real_analysis_result/analysis_060719/entero_data/results_our_lm/result_pc_vanilla.plk\n",
      "[feat_viz INFO] Running graph-based procedure\n",
      "[feat_viz INFO] Inferred initial latent variables\n",
      "[feat_viz INFO] Selecting graph-based features...\n",
      "[feat_viz INFO] Updated latent variables...\n",
      "[feat_viz INFO] Saving results to: /share/PI/sabatti/feat_viz/real_analysis_result/analysis_060719/entero_data/results_our_lm/result_graph_vanilla.plk\n",
      "[feat_viz INFO] Running hybrid-based procedure\n",
      "[feat_viz INFO] Inferred initial latent variables\n",
      "[feat_viz INFO] Selecting hybrid-based features...\n",
      "[feat_viz INFO] Updated latent variables...\n",
      "[feat_viz INFO] Saving results to: /share/PI/sabatti/feat_viz/real_analysis_result/analysis_060719/entero_data/results_our_lm/result_hybrid_vanilla.plk\n"
     ]
    }
   ],
   "source": [
    "methods = [\"pc\", \"graph\", \"hybrid\"]\n",
    "mtypes = [\"vanilla\", \"oracle\"]\n",
    "# methods = [\"graph\"]\n",
    "# mtypes = [\"vanilla\"]\n",
    "for method in methods:\n",
    "    for mtype in mtypes:\n",
    "        if mtype == \"oracle\":\n",
    "            lam_in = zone_vals\n",
    "            continue\n",
    "        else:\n",
    "            lam_in = None\n",
    "        params[\"method\"] = method\n",
    "        fn =  \"result_{}_{}.plk\".format(method, mtype)\n",
    "        fn = os.path.join(RDIR, fn)\n",
    "        result = run_procedure(x_star_df.values, mtx, params, lam_in=lam_in, fn=fn)\n",
    "#         evaluate_result(result, lam_ref=zone_vals)"
   ]
  },
  {
   "cell_type": "code",
   "execution_count": 30,
   "metadata": {},
   "outputs": [
    {
     "data": {
      "image/png": "[encoded data removed]",
      "text/plain": [
       "<Figure size 194.4x180 with 2 Axes>"
      ]
     },
     "metadata": {},
     "output_type": "display_data"
    }
   ],
   "source": [
    "from intestine_info import load_enterocyte_meta_data\n",
    "from plot_utils import plot_multi_scatter_discrete\n",
    "cell_df = load_enterocyte_meta_data(dat_dir)\n",
    "proj = cell_df[[\"tSNE_coordinate_1\", \"tSNE_coordinate_2\"]]"
   ]
  },
  {
   "cell_type": "code",
   "execution_count": null,
   "metadata": {},
   "outputs": [],
   "source": []
  }
 ],
 "metadata": {
  "kernelspec": {
   "display_name": "Python 3",
   "language": "python",
   "name": "python3"
  },
  "language_info": {
   "codemirror_mode": {
    "name": "ipython",
    "version": 3
   },
   "file_extension": ".py",
   "mimetype": "text/x-python",
   "name": "python",
   "nbconvert_exporter": "python",
   "pygments_lexer": "ipython3",
   "version": "3.6.0"
  }
 },
 "nbformat": 4,
 "nbformat_minor": 2
}
