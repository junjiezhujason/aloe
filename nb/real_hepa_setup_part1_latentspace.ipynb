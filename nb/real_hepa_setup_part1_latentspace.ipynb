{
 "cells": [
  {
   "cell_type": "code",
   "execution_count": 1,
   "metadata": {},
   "outputs": [],
   "source": [
    "%load_ext autoreload\n",
    "%autoreload 2\n",
    "%matplotlib inline\n",
    "from IPython.display import display\n",
    "import sys\n",
    "import os\n",
    "import logging\n",
    "\n",
    "sys.path.insert(0,'../src')\n",
    "import matplotlib as mpl\n",
    "mpl.rcParams['figure.dpi']= 100"
   ]
  },
  {
   "cell_type": "code",
   "execution_count": 2,
   "metadata": {},
   "outputs": [],
   "source": [
    "import numpy as np\n",
    "import pandas as pd\n",
    "import seaborn as sns\n",
    "import matplotlib.pyplot as plt\n",
    "\n",
    "logger = logging.getLogger(\"feat_viz\")\n",
    "logging.basicConfig(format='[%(name)s %(levelname)s] %(message)s', level=logging.INFO)"
   ]
  },
  {
   "cell_type": "markdown",
   "metadata": {},
   "source": [
    "## Load the processed data"
   ]
  },
  {
   "cell_type": "code",
   "execution_count": 4,
   "metadata": {},
   "outputs": [
    {
     "name": "stderr",
     "output_type": "stream",
     "text": [
      "[feat_viz INFO] Data directory: /Users/jjzhu/Google Drive/_GLISS/data/liver2k/analysis_on_data_original/data\n",
      "[feat_viz INFO] Loaded data: x (1415, 6) and y (1415, 8883)\n",
      "[feat_viz INFO] Saved outputs to: /Users/jjzhu/Google Drive/_GLISS/data/analysis_050719/hepa_data/data\n"
     ]
    }
   ],
   "source": [
    "from main_methods import run_procedure, run_unsupervised, evaluate_result\n",
    "from liver_info import load_processsed_hepatocyte_data, load_zonation_result, output_processed_data\n",
    "\n",
    "dat_dir = \"/Users/jjzhu/Google Drive/_GLISS/data/liver2k\"\n",
    "zone_vals = load_zonation_result(dat_dir, just_vals=True)\n",
    "main_dir = os.path.join(dat_dir, \"analysis_on_data_original\")\n",
    "x_k, x_d, obs_df, var_df = load_processsed_hepatocyte_data(main_dir, center=False, scale=False)\n",
    "RDIR = \"/Users/jjzhu/Google Drive/_GLISS/data/analysis_050719\"\n",
    "\n",
    "output_processed_data(main_dir, os.path.join(RDIR, \"hepa_data\"))\n",
    "\n",
    "params = {\n",
    "    \"method\": None,\n",
    "    \"n_perms\": 10000,\n",
    "    \"perm_method\": \"pool\",\n",
    "    \"alpha\": 0.05, \n",
    "    \"graph_k\": 10,\n",
    "}"
   ]
  },
  {
   "cell_type": "markdown",
   "metadata": {},
   "source": [
    "### Run purely unsupervised methods"
   ]
  },
  {
   "cell_type": "code",
   "execution_count": 5,
   "metadata": {},
   "outputs": [
    {
     "name": "stderr",
     "output_type": "stream",
     "text": [
      "[feat_viz INFO] Saving results to: /Users/jjzhu/Google Drive/_GLISS/data/analysis_050719/lam_graph_unsupervised.plk\n",
      "[feat_viz INFO] Saving results to: /Users/jjzhu/Google Drive/_GLISS/data/analysis_050719/lam_pc_unsupervised.plk\n"
     ]
    }
   ],
   "source": [
    "for method in [\"graph\", \"pc\"]:\n",
    "    params[\"method\"] = method\n",
    "    name = \"unsup_{}\".format(method)\n",
    "    fn =  \"lam_{}_unsupervised.plk\".format(method)\n",
    "    fn = os.path.join(RDIR, fn)\n",
    "    result = run_unsupervised(x_k, x_d, params, fn=fn)"
   ]
  },
  {
   "cell_type": "markdown",
   "metadata": {},
   "source": [
    "### Run our prescribed procedures and variations"
   ]
  },
  {
   "cell_type": "code",
   "execution_count": null,
   "metadata": {},
   "outputs": [
    {
     "name": "stderr",
     "output_type": "stream",
     "text": [
      "[feat_viz INFO] Running pc-based procedure\n",
      "[feat_viz INFO] Inferred initial latent variables\n",
      "[feat_viz INFO] Selecting pc-based features...\n",
      "[feat_viz INFO] Updated latent variables...\n",
      "[feat_viz INFO] Saving results to: /Users/jjzhu/Google Drive/_GLISS/data/analysis_050719/result_pc_vanilla.plk\n",
      "[feat_viz INFO] Number of selected variables: 1615\n",
      "[feat_viz INFO] Correlation: 0.90132 -> 0.77951\n",
      "[feat_viz INFO] Using pre-computed latent variable\n",
      "[feat_viz INFO] Selecting pc-based features...\n",
      "[feat_viz INFO] Updated latent variables...\n"
     ]
    }
   ],
   "source": [
    "for method in [\"pc\", \"graph\", \"hybrid\"]:\n",
    "    for mtype in [\"vanilla\", \"oracle\"]:\n",
    "        if mtype == \"oracle\":\n",
    "            lam_in = zone_vals\n",
    "        else:\n",
    "            lam_in = None\n",
    "        params[\"method\"] = method\n",
    "        fn =  \"result_{}_{}.plk\".format(method, mtype)\n",
    "        fn = os.path.join(RDIR, fn)\n",
    "        result = run_procedure(x_k, x_d, params, lam_in=lam_in, fn=fn)\n",
    "        evaluate_result(result, lam_ref=zone_vals)"
   ]
  },
  {
   "cell_type": "code",
   "execution_count": null,
   "metadata": {},
   "outputs": [],
   "source": []
  }
 ],
 "metadata": {
  "kernelspec": {
   "display_name": "Python 3",
   "language": "python",
   "name": "python3"
  },
  "language_info": {
   "codemirror_mode": {
    "name": "ipython",
    "version": 3
   },
   "file_extension": ".py",
   "mimetype": "text/x-python",
   "name": "python",
   "nbconvert_exporter": "python",
   "pygments_lexer": "ipython3",
   "version": "3.6.0"
  }
 },
 "nbformat": 4,
 "nbformat_minor": 2
}
